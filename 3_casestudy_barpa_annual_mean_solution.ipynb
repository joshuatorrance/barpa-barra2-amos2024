{
 "cells": [
  {
   "cell_type": "markdown",
   "id": "2dc009ec-53c9-4848-b8d3-53dd9458181b",
   "metadata": {},
   "source": [
    "# AMOS 2024 - BARPA - Australian annual mean temperature"
   ]
  },
  {
   "cell_type": "markdown",
   "id": "2a2af2c7-26d3-4d7e-9532-aeefbd907f3e",
   "metadata": {},
   "source": [
    "In this notebook we explore the annual mean warming of the dynamically downscaled BARPA-R simulations. The goal is to load the historical and ssp370 scenario for one downscaled CMIP6 model and plot the annual mean temperature over time."
   ]
  },
  {
   "cell_type": "code",
   "execution_count": null,
   "id": "7735350a-6f5b-4d6b-af44-c11ab41420bf",
   "metadata": {
    "tags": []
   },
   "outputs": [],
   "source": [
    "import os\n",
    "import nci_ipynb\n",
    "os.chdir(nci_ipynb.dir())\n",
    "print(os.getcwd())"
   ]
  },
  {
   "cell_type": "markdown",
   "id": "fb011182-c0cf-42aa-8267-6bb06e343223",
   "metadata": {},
   "source": [
    "First we load the required python modules and start a dask client to speed up our computation."
   ]
  },
  {
   "cell_type": "code",
   "execution_count": null,
   "id": "2890ec7e-a715-4063-b47d-3e73a9f26e9c",
   "metadata": {
    "tags": []
   },
   "outputs": [],
   "source": [
    "import tempfile\n",
    "import dask.distributed\n",
    "import matplotlib.pyplot as plt\n",
    "import numpy as np\n",
    "import pandas as pd\n",
    "import xarray as xr\n",
    "import sys, os\n",
    "\n",
    "from esmloader import EsmCat"
   ]
  },
  {
   "cell_type": "code",
   "execution_count": null,
   "id": "ae17a28c-5446-45e5-a0c1-3ad234aeecf4",
   "metadata": {
    "tags": []
   },
   "outputs": [],
   "source": [
    "# Specify the which data collection you want to load, i.e. BARRA2 or BARPA.\n",
    "barpa=EsmCat(\"BARPA\")"
   ]
  },
  {
   "cell_type": "code",
   "execution_count": null,
   "id": "84dfefaa-bbeb-41fc-a799-f4ddf8da4685",
   "metadata": {
    "tags": []
   },
   "outputs": [],
   "source": [
    "client = dask.distributed.Client(local_directory=tempfile.mkdtemp())\n",
    "client"
   ]
  },
  {
   "cell_type": "markdown",
   "id": "47179284-bc09-4119-887e-ee0dfccad485",
   "metadata": {},
   "source": [
    "Now that we have a client (click on \"Launch dashboard in JupyterLab\" to see the dask dashboard) running lets open the historical and ssp370 files for ACCESS-CM2 downscaled simulation. For this we use the provided load function function with parallel set to true. \n",
    "\n",
    "You can see the progress of opening the files in the dask dashboard."
   ]
  },
  {
   "cell_type": "markdown",
   "id": "290e9ce8-3250-40a4-b946-501911cd0216",
   "metadata": {},
   "source": [
    "***\n",
    "## Introduction"
   ]
  },
  {
   "cell_type": "code",
   "execution_count": null,
   "id": "3d79072e-8628-4c82-9248-042a5763fb58",
   "metadata": {
    "tags": []
   },
   "outputs": [],
   "source": [
    "ds_tas_hist = barpa.load_barpa_data(\n",
    "                'BARPA-R', \n",
    "                'ACCESS-CM2', \n",
    "                'historical', \n",
    "                'mon', \n",
    "                'tas'\n",
    ")\n",
    "ds_tas_ssp = barpa.load_barpa_data(\n",
    "                'BARPA-R', \n",
    "                'ACCESS-CM2', \n",
    "                'ssp370', \n",
    "                'mon', \n",
    "                'tas'\n",
    ")"
   ]
  },
  {
   "cell_type": "markdown",
   "id": "d4fdb034-9d88-42c0-9a0b-601dff60d805",
   "metadata": {},
   "source": [
    "We can also inspect the dataset we have just opened. If you click on \"Attributes\" you can get much more information about the content of the files you have just opened, such as information about the driving model, the native resolution of BARPA-R, etc."
   ]
  },
  {
   "cell_type": "code",
   "execution_count": null,
   "id": "6e7aecfa-ca19-464d-bd97-d422fc99c203",
   "metadata": {
    "tags": []
   },
   "outputs": [],
   "source": [
    "ds_tas_hist"
   ]
  },
  {
   "cell_type": "markdown",
   "id": "2775d1c6-6674-471d-b451-c835a525c7d0",
   "metadata": {},
   "source": [
    "Instead of two individual datasets for the historical and future scenario it is much easier to work with one combined dataset. For this we use xarray's concat function to concatenate the two datasets along the time dimension."
   ]
  },
  {
   "cell_type": "code",
   "execution_count": null,
   "id": "ff2fb3e5-d9b0-484d-8263-d3255f2aa67e",
   "metadata": {
    "tags": []
   },
   "outputs": [],
   "source": [
    "ds_tas = xr.concat(\n",
    "    [ds_tas_hist, ds_tas_ssp],\n",
    "    dim=\"time\"\n",
    ")"
   ]
  },
  {
   "cell_type": "markdown",
   "id": "3d23c79b-3f2e-402c-9edc-cac7cb79134f",
   "metadata": {},
   "source": [
    "Also we are only interested in the near-surface temperature (tas) of the dataset. Therefore we extract \"tas\" from the dataset and turn it into a dataarray. The advantage of this is that datasets cannot be plotted directly but dataarrays can."
   ]
  },
  {
   "cell_type": "code",
   "execution_count": null,
   "id": "dcc22973-75fd-4ed9-9579-2146ca13aa92",
   "metadata": {
    "tags": []
   },
   "outputs": [],
   "source": [
    "da_tas = ds_tas[\"tas\"]"
   ]
  },
  {
   "cell_type": "markdown",
   "id": "3e8ee8b0-83e9-44f2-ab31-d93fd6361a08",
   "metadata": {},
   "source": [
    "Next we perform some calculations. To plot the annual mean temperature over time we need to calculate the area mean of the domain as well as the yearly mean and then pass this to the plot routine."
   ]
  },
  {
   "cell_type": "code",
   "execution_count": null,
   "id": "07c8c305-d6f0-41c9-8a05-d09051266c6f",
   "metadata": {
    "tags": []
   },
   "outputs": [],
   "source": [
    "da_tas_mn = da_tas.mean([\"lat\", \"lon\"])"
   ]
  },
  {
   "cell_type": "code",
   "execution_count": null,
   "id": "45e18558-5e28-4dd0-9da3-3b940e7baf87",
   "metadata": {
    "tags": []
   },
   "outputs": [],
   "source": [
    "da_tas_mn = da_tas_mn.resample({\"time\":\"1Y\"}).mean()"
   ]
  },
  {
   "cell_type": "code",
   "execution_count": null,
   "id": "fd1cea91-3f68-40f7-9346-2615d4bd8a3f",
   "metadata": {
    "tags": []
   },
   "outputs": [],
   "source": [
    "da_tas_mn.plot()"
   ]
  },
  {
   "cell_type": "markdown",
   "id": "3be82b27-b1c3-4c26-8a05-19e74103de51",
   "metadata": {},
   "source": [
    "***\n",
    "## Exercise 1 (optional)\n",
    "BARPA-R has downscaled 7 CMIP6 models, which are listed below. In the introduction we only plotted the annual mean of one model, ACCESS-CM2. Extending on the above code, can you plot the annual and area mean for all 7 models over time?\n",
    "\n",
    "Hint: A loop over the model_list below and modifying the data loader will help you to load all the monthly files you need."
   ]
  },
  {
   "cell_type": "code",
   "execution_count": null,
   "id": "7e37dfec-8919-4d2a-a778-8edaa4a6e003",
   "metadata": {
    "tags": []
   },
   "outputs": [],
   "source": [
    "model_list = [\n",
    "    \"ACCESS-CM2\",\n",
    "    \"ACCESS-ESM1-5\",\n",
    "    \"CESM2\",\n",
    "    \"CMCC-ESM2\",\n",
    "    \"EC-Earth3\",\n",
    "    \"MPI-ESM1-2-HR\",\n",
    "    \"NorESM2-MM\",\n",
    "]"
   ]
  },
  {
   "cell_type": "code",
   "execution_count": null,
   "id": "892ae3ee-2b6c-47e1-b7bf-76644630fa9d",
   "metadata": {
    "tags": []
   },
   "outputs": [],
   "source": [
    "# !!! REMOVE FOR EXERCISE !!!\n",
    "dict_da_tas_model = {}\n",
    "for model in model_list:\n",
    "    # Load historical data\n",
    "    ds_tas_hist = barpa.load_barpa_data(\n",
    "                'BARPA-R', \n",
    "                model, \n",
    "                'historical', \n",
    "                'mon', \n",
    "                'tas'\n",
    "    )\n",
    "    # Load ssp data\n",
    "    ds_tas_ssp = barpa.load_barpa_data(\n",
    "                'BARPA-R', \n",
    "                model, \n",
    "                'ssp370', \n",
    "                'mon', \n",
    "                'tas'\n",
    "    )\n",
    "    \n",
    "    dict_da_tas_model[model] = xr.concat(\n",
    "        [ds_tas_hist, ds_tas_ssp],\n",
    "        dim=\"time\"\n",
    "    )[\"tas\"]"
   ]
  },
  {
   "cell_type": "code",
   "execution_count": null,
   "id": "7930d4f4-9aef-45c3-8ab2-8909d9394e19",
   "metadata": {
    "tags": []
   },
   "outputs": [],
   "source": [
    "# !!! REMOVE FOR EXERCISE !!!\n",
    "dict_da_tas_model_mn = {}\n",
    "for model in model_list:\n",
    "    dict_da_tas_model_mn[model] = dict_da_tas_model[model].mean([\"lat\", \"lon\"]).resample({\"time\":\"1Y\"}).mean().compute()"
   ]
  },
  {
   "cell_type": "code",
   "execution_count": null,
   "id": "6e5409a5-974f-4fae-999d-e7e2e591b14c",
   "metadata": {
    "tags": []
   },
   "outputs": [],
   "source": [
    "# !!! REMOVE FOR EXERCISE !!!\n",
    "for model in model_list:\n",
    "    plt.plot(dict_da_tas_model_mn[model][\"time\"].dt.year, dict_da_tas_model_mn[model], label=model)\n",
    "    plt.legend()\n",
    "    plt.title(\"Annual mean temperature\")"
   ]
  },
  {
   "cell_type": "markdown",
   "id": "1af1be63-a741-458f-a9fa-719fea0c3a51",
   "metadata": {},
   "source": [
    "***\n",
    "## Exercise 2 (optional)\n",
    "Now we extend our analysis by looking at an additional variable, precipitation.\n",
    "Can you plot the annual maximum hourly precipitation rate over time? \n",
    "\n",
    "Hint: The variable to use for this is under the frequency directory \"day\" (instead of \"mon\") and is called \"prhmax\".\n",
    "\n",
    "Hint 2: Opening and performing computations on daily files will take longer and more notebook resources might be required; you are opening 34GB of data.\n",
    "\n",
    "Hint 3: Add chunks={\"time\":512, \"lat\":None, \"lon\":None} as argument to open_mfdataset. This will help load your data faster. It will still take several minutes to process the data for all 7 models."
   ]
  },
  {
   "cell_type": "code",
   "execution_count": null,
   "id": "b5096537-b614-4a39-9a5e-419b80092014",
   "metadata": {
    "tags": []
   },
   "outputs": [],
   "source": [
    "# !!! REMOVE FOR EXERCISE !!!\n",
    "dict_da_prhmax_model = {}\n",
    "for model in model_list:\n",
    "    # Load historical data\n",
    "    ds_prhmax_hist = barpa.load_barpa_data(\n",
    "                'BARPA-R', \n",
    "                model, \n",
    "                'historical', \n",
    "                'day', \n",
    "                'prhmax',\n",
    "                chunks={\"time\":512, \"lat\":None, \"lon\":None}\n",
    "    )\n",
    "    # Load ssp data\n",
    "    ds_prhmax_ssp = barpa.load_barpa_data(\n",
    "                'BARPA-R', \n",
    "                model, \n",
    "                'ssp370', \n",
    "                'day', \n",
    "                'prhmax',\n",
    "                chunks={\"time\":512, \"lat\":None, \"lon\":None}\n",
    "    )\n",
    "    \n",
    "    dict_da_prhmax_model[model] = xr.concat(\n",
    "        [ds_prhmax_hist, ds_prhmax_ssp],\n",
    "        dim=\"time\"\n",
    "    )[\"prhmax\"]"
   ]
  },
  {
   "cell_type": "code",
   "execution_count": null,
   "id": "972ec226-89bf-4f89-a2ff-082993441461",
   "metadata": {
    "tags": []
   },
   "outputs": [],
   "source": [
    "# !!! REMOVE FOR EXERCISE !!!\n",
    "dict_da_prhmax_model_mn = {}\n",
    "for model in model_list:\n",
    "    dict_da_prhmax_model_mn[model] = dict_da_prhmax_model[model].max([\"lat\", \"lon\"]).resample({\"time\":\"1Y\"}).max().compute()"
   ]
  },
  {
   "cell_type": "code",
   "execution_count": null,
   "id": "603816a3-9737-4428-95ba-9808cd6fbc1d",
   "metadata": {
    "tags": []
   },
   "outputs": [],
   "source": [
    "# !!! REMOVE FOR EXERCISE !!!\n",
    "for model in model_list:\n",
    "    plt.plot(dict_da_prhmax_model_mn[model][\"time\"].dt.year, dict_da_prhmax_model_mn[model], label=model)\n",
    "    plt.legend()\n",
    "    plt.title(\"Annual maximum hourly precipitation rate\")"
   ]
  },
  {
   "cell_type": "markdown",
   "id": "a5e8ebb9-b8f5-4a14-815f-b00d5976eb0b",
   "metadata": {},
   "source": [
    "***\n",
    "# Exercise 3 (optional)\n",
    "In this exercise we are plotting the Ed Hawkins climate stripes (#ShowYourStripes) for the ensemble mean of all BARPA-R downscaled CMIP6 models. \n",
    "\n",
    "First you will need to calculate the annual mean, which you have done before, and the ensemble mean of all models.\n",
    "\n",
    "Next you need to plot this in the style of the climate stripes. Have a look [here](https://showyourstripes.info) what they look like.\n",
    "\n",
    "Hint: To calculate the ensemble mean it can be helpful to concatenate the dictionary of individual models into a single xarray dataset. To do this you can use xr.concat. The xarray documentation is also helpful. Have a look [here](https://docs.xarray.dev/en/stable/generated/xarray.concat.html). \n",
    "\n",
    "Hint 2: Because some BARPA models use different calendars it might be useful to overwrite the time coordinate with the year integer. For this you can use the assign_coords function.\n",
    "\n",
    "Hint 3: You can use plt.bar to get very close to what the climate stripes look like."
   ]
  },
  {
   "cell_type": "code",
   "execution_count": null,
   "id": "e3ed64a2-0c03-4723-b2d3-52a018d5d839",
   "metadata": {
    "tags": []
   },
   "outputs": [],
   "source": [
    "# !!! REMOVE FOR EXERCISE !!!\n",
    "dict_da_tas_model = {}\n",
    "for model in model_list:\n",
    "    # Load historical data\n",
    "    ds_tas_hist = barpa.load_barpa_data(\n",
    "                'BARPA-R', \n",
    "                model, \n",
    "                'historical', \n",
    "                'mon', \n",
    "                'tas'\n",
    "    )\n",
    "    # Load ssp data\n",
    "    ds_tas_ssp = barpa.load_barpa_data(\n",
    "                'BARPA-R', \n",
    "                model, \n",
    "                'ssp370', \n",
    "                'mon', \n",
    "                'tas'\n",
    "    )\n",
    "    \n",
    "    dict_da_tas_model[model] = xr.concat(\n",
    "        [ds_tas_hist, ds_tas_ssp],\n",
    "        dim=\"time\"\n",
    "    )[\"tas\"]"
   ]
  },
  {
   "cell_type": "code",
   "execution_count": null,
   "id": "fa80b923-b181-465d-88df-be5c11728a3c",
   "metadata": {
    "tags": []
   },
   "outputs": [],
   "source": [
    "# !!! REMOVE FOR EXERCISE !!!\n",
    "dict_da_tas_model_mn = {}\n",
    "for model in model_list:\n",
    "    dict_da_tas_model_mn[model] = dict_da_tas_model[model].mean([\"lat\", \"lon\"]).resample({\"time\":\"1Y\"}).mean().compute()"
   ]
  },
  {
   "cell_type": "code",
   "execution_count": null,
   "id": "b83ee896-0fe0-4cbe-8815-f5d72cfdfb8a",
   "metadata": {
    "tags": []
   },
   "outputs": [],
   "source": [
    "for model in model_list:\n",
    "    dict_da_tas_model_mn[model] = dict_da_tas_model_mn[model].assign_coords(\n",
    "        time=dict_da_tas_model_mn[model].time.dt.year\n",
    "    )"
   ]
  },
  {
   "cell_type": "code",
   "execution_count": null,
   "id": "0184794f-f444-4e8a-83de-9070985aad69",
   "metadata": {
    "tags": []
   },
   "outputs": [],
   "source": [
    "# !!! REMOVE FOR EXERCISE !!!\n",
    "da_tas_model = xr.concat(\n",
    "    [dict_da_tas_model_mn[model] for model in model_list],\n",
    "    pd.Index(model_list, name=\"model\")\n",
    ")\n",
    "da_tas_ensmean = da_tas_model.mean(\"model\")"
   ]
  },
  {
   "cell_type": "code",
   "execution_count": null,
   "id": "35d70ad9-9166-491b-b04f-706604bc102c",
   "metadata": {
    "tags": []
   },
   "outputs": [],
   "source": [
    "# !!! REMOVE FOR EXERCISE !!!\n",
    "def climate_stripes(da, cmap=\"RdBu_r\"):\n",
    "    fig = plt.figure(figsize=plt.figaspect(0.5))\n",
    "    cmap = plt.cm.get_cmap(cmap)\n",
    "    norm = plt.Normalize(da.min(), da.max())\n",
    "    colors = cmap(norm(da))\n",
    "    plt.bar(da[\"time\"], 1, width=0.95, color=colors)\n",
    "    plt.axis('off')"
   ]
  },
  {
   "cell_type": "code",
   "execution_count": null,
   "id": "5836b420-cf26-41a4-b97c-8cfc040bf7d7",
   "metadata": {
    "tags": []
   },
   "outputs": [],
   "source": [
    "# !!! REMOVE FOR EXERCISE !!!\n",
    "climate_stripes(da_tas_ensmean)"
   ]
  },
  {
   "cell_type": "code",
   "execution_count": null,
   "id": "14aa7b06-b7ab-43b4-9284-08b7176e1fb3",
   "metadata": {
    "tags": []
   },
   "outputs": [],
   "source": [
    "client.close()"
   ]
  },
  {
   "cell_type": "code",
   "execution_count": null,
   "id": "3ce5dfdb-8aba-45b2-9a8e-053daf101e8b",
   "metadata": {},
   "outputs": [],
   "source": []
  }
 ],
 "metadata": {
  "kernelspec": {
   "display_name": "Python [conda env:datasci] *",
   "language": "python",
   "name": "conda-env-datasci-py"
  },
  "language_info": {
   "codemirror_mode": {
    "name": "ipython",
    "version": 3
   },
   "file_extension": ".py",
   "mimetype": "text/x-python",
   "name": "python",
   "nbconvert_exporter": "python",
   "pygments_lexer": "ipython3",
   "version": "3.10.13"
  }
 },
 "nbformat": 4,
 "nbformat_minor": 5
}
