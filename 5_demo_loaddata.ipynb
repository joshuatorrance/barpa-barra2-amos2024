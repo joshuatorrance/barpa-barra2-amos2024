{
 "cells": [
  {
   "cell_type": "markdown",
   "id": "ed59c4a4-a59b-4234-beac-8ca25a6247dd",
   "metadata": {
    "tags": []
   },
   "source": [
    "# AMOS 2024 - Introducing loaddata Python module\n",
    "\n",
    "AUTHOR: Chun-Hsu Su (chunhsu.su@bom.gov.au)\n",
    "\n",
    "In this notebook we demonstrate the use of the LOADDATA module. \n",
    "The module is to simplify locating and loading the data files from BARRA2 regional reanalysis and BARPA regional projections in NCI Data Collection\n",
    "\n",
    "LOADDATA is an earlier and alternative implementation of ESMLOADER module. LOADDATA does not use INTAKE catalogue.\n",
    "\n",
    "BARPA:  https://opus.nci.org.au/pages/viewpage.action?pageId=264241161\n",
    "\n",
    "BARRA2: https://opus.nci.org.au/pages/viewpage.action?pageId=264241166\n",
    "\n",
    "Before using this notebook, users must join ob53 and py18 projects via,\n",
    "\n",
    "To access BARRA2 data: https://my.nci.org.au/mancini/project/ob53/join\n",
    "\n",
    "To access BARPA data: https://my.nci.org.au/mancini/project/py18/join\n",
    "        "
   ]
  },
  {
   "cell_type": "code",
   "execution_count": null,
   "id": "e8e27eb2-e47b-4b4b-8253-86d53ab93594",
   "metadata": {
    "tags": []
   },
   "outputs": [],
   "source": [
    "import os\n",
    "import nci_ipynb\n",
    "os.chdir(nci_ipynb.dir())\n",
    "print(os.getcwd())\n",
    "\n",
    "import loaddata\n",
    "import datapaths\n",
    "from datetime import datetime as dt"
   ]
  },
  {
   "cell_type": "code",
   "execution_count": null,
   "id": "295f310b-add3-43c5-a889-cb96860287df",
   "metadata": {
    "tags": []
   },
   "outputs": [],
   "source": [
    "# Print documentation, which lists the available methods\n",
    "help(loaddata)"
   ]
  },
  {
   "cell_type": "code",
   "execution_count": null,
   "id": "b5a73872-3310-439f-b179-058cb1b8ec8f",
   "metadata": {
    "tags": []
   },
   "outputs": [],
   "source": [
    "# List the available BARRA2 experiments published so far\n",
    "loaddata.list_experiments(\"BARRA2\")\n",
    "\n",
    "# Do you know?\n",
    "# domain_id=AUS-11 says it is over Australia at 0.11 deg\n",
    "# driving_variant_label=hres says the experiment is nested in ERA5 HRES reanalysis\n",
    "# source_id=BARRA-R2 is one of the BARRA2 systems"
   ]
  },
  {
   "cell_type": "code",
   "execution_count": null,
   "id": "d08f8a95-7c65-41de-9a79-f7f74d89a338",
   "metadata": {},
   "outputs": [],
   "source": [
    "# List the available BARPA experiments published so far\n",
    "loaddata.list_experiments(\"BARPA\")\n",
    "\n",
    "# Do you know?\n",
    "# domain_id=AUS-15 says it is over Australia at around 0.15 deg\n",
    "# driving_source_id indicates the driving global model from CMIP6\n",
    "# driving_experiment_id distinguishes whether this is historical or ssp* or ERA5-evaluation run\n",
    "# driving_variant_id indicates which global model ensemble member\n",
    "# source_id=BARPA-R is one of the BARPA systems"
   ]
  },
  {
   "cell_type": "code",
   "execution_count": null,
   "id": "d12f0ca5-8e8f-44e2-88fd-8f6454154828",
   "metadata": {
    "tags": []
   },
   "outputs": [],
   "source": [
    "# Printing BARRA-R2 files for a given variable and time period\n",
    "files = loaddata.get_barra2_files('BARRA-R2',\n",
    "                     '1hr', \n",
    "                     'tasmean', \n",
    "                     tstart='20100105', \n",
    "                     tend='20101010')\n",
    "print(\"\\n\".join(files))\n",
    "\n",
    "# Do you know?\n",
    "# help(loaddata.get_barra2_files)\n",
    "# to see how to use this method"
   ]
  },
  {
   "cell_type": "code",
   "execution_count": null,
   "id": "0ab67bd6-d8f2-456c-991b-ecb018feeec2",
   "metadata": {
    "tags": []
   },
   "outputs": [],
   "source": [
    "# Listing BARPA-R files for a given BARPA-R experiment, for a given variable and time period\n",
    "files = loaddata.get_barpa_files('BARPA-R', \n",
    "                    'ACCESS-CM2', \n",
    "                    'historical', \n",
    "                      'day', \n",
    "                     'pr', \n",
    "                     tstart='20100105', \n",
    "                     tend='20110210')\n",
    "print(\"\\n\".join(files))"
   ]
  },
  {
   "cell_type": "code",
   "execution_count": null,
   "id": "825757ab-3def-4fb0-ad64-8096f8238d2a",
   "metadata": {},
   "outputs": [],
   "source": [
    "# Loading BARRA-R2 data over some subdomain.\n",
    "# The data is returned as xarray.Dataset object.\n",
    "ds = loaddata.load_barra2_data('BARRA-R2',\n",
    "                    'day', \n",
    "                    'pr', \n",
    "                     tstart='20100105', \n",
    "                     tend='20141010',\n",
    "                    latrange=(-40,-30), lonrange=(110, 124))\n",
    "\n",
    "print(ds)"
   ]
  },
  {
   "cell_type": "code",
   "execution_count": null,
   "id": "7b08d6cc-312c-452a-ac98-b54d987a17cd",
   "metadata": {},
   "outputs": [],
   "source": [
    "# Loading BARPA-R data over some subdomain.\n",
    "# The data is returned as xarray.Dataset object.\n",
    "ds = loaddata.load_barpa_data('BARPA-R', \n",
    "                    'ACCESS-CM2', \n",
    "                    'historical', \n",
    "                    'day', \n",
    "                    'pr', \n",
    "                     tstart='20100105', \n",
    "                     tend='20141010',\n",
    "                    latrange=(-40,-30), lonrange=(110, 124))\n",
    "\n",
    "print(ds)"
   ]
  },
  {
   "cell_type": "code",
   "execution_count": null,
   "id": "4efd0374-3f66-4a93-9aea-cff7aec1b3e4",
   "metadata": {
    "tags": []
   },
   "outputs": [],
   "source": [
    "# But what is the variable pr? \n",
    "_ = loaddata.whatis('1hr', 'pr')"
   ]
  },
  {
   "cell_type": "code",
   "execution_count": null,
   "id": "abe6c234-bb15-4bea-b56f-58ffe0709867",
   "metadata": {},
   "outputs": [],
   "source": [
    "# Repeating the same but for a variable in BARPA experiment\n",
    "# Generally the meaning will be the same between BARRA2 and BARPA\n",
    "_ = loaddata.whatis('1hr', 'tas', collection=\"BARPA\")"
   ]
  },
  {
   "cell_type": "code",
   "execution_count": null,
   "id": "fcd68f41-7f7a-4831-90f4-00d567375691",
   "metadata": {
    "tags": []
   },
   "outputs": [],
   "source": [
    "# How do I know what time frequency is available for a given experiment? \n",
    "# For BARRA-R2...\n",
    "_ = datapaths.list_barra2_freqs('BARRA-R2')"
   ]
  },
  {
   "cell_type": "code",
   "execution_count": null,
   "id": "b957c5dc-e74a-43e8-8a7e-64c4fca96376",
   "metadata": {},
   "outputs": [],
   "source": [
    "# Then we can drill down to see what variable are available for this time frequency\n",
    "_ = datapaths.list_barra2_variables('BARRA-R2', '1hr')"
   ]
  },
  {
   "cell_type": "code",
   "execution_count": null,
   "id": "2f11a430-933d-4167-95b8-c0f7a58da6ec",
   "metadata": {},
   "outputs": [],
   "source": [
    "# But what is the variable hfss? \n",
    "_ = loaddata.whatis('1hr', 'hfss')"
   ]
  },
  {
   "cell_type": "code",
   "execution_count": null,
   "id": "f45ee530-3347-46fb-a11a-f69c8190974c",
   "metadata": {},
   "outputs": [],
   "source": [
    "# There is also few static variables!\n",
    "_ = datapaths.list_barra2_variables('BARRA-R2', 'fx')"
   ]
  },
  {
   "cell_type": "code",
   "execution_count": null,
   "id": "7983d59c-a43b-42d5-9681-6cc50be0bea8",
   "metadata": {
    "tags": []
   },
   "outputs": [],
   "source": [
    "# Repeating the same for BARPA\n",
    "_ = datapaths.list_barpa_freqs('BARPA-R', 'ERA5', 'evaluation')"
   ]
  },
  {
   "cell_type": "code",
   "execution_count": null,
   "id": "48d84010-7753-49a2-8d25-3b81d61ea7b1",
   "metadata": {},
   "outputs": [],
   "source": [
    "# What variables in the BARPA-R experiment?\n",
    "_ = datapaths.list_barpa_variables('BARPA-R', 'ERA5', 'evaluation', 'mon')"
   ]
  },
  {
   "cell_type": "code",
   "execution_count": null,
   "id": "3014e208-0f76-485e-8f54-e25a7f4af0d1",
   "metadata": {
    "tags": []
   },
   "outputs": [],
   "source": [
    "# So what is this variable?\n",
    "_ = loaddata.whatis('mon', 'mrfso')"
   ]
  },
  {
   "cell_type": "code",
   "execution_count": null,
   "id": "617ab4b3-5c3f-4568-a78d-bfac3dac817b",
   "metadata": {
    "tags": []
   },
   "outputs": [],
   "source": [
    "# Getting more information about how to use a method...\n",
    "help(datapaths.list_barpa_variables)"
   ]
  }
 ],
 "metadata": {
  "kernelspec": {
   "display_name": "Python 3 (ipykernel)",
   "language": "python",
   "name": "python3"
  },
  "language_info": {
   "codemirror_mode": {
    "name": "ipython",
    "version": 3
   },
   "file_extension": ".py",
   "mimetype": "text/x-python",
   "name": "python",
   "nbconvert_exporter": "python",
   "pygments_lexer": "ipython3",
   "version": "3.10.13"
  }
 },
 "nbformat": 4,
 "nbformat_minor": 5
}
