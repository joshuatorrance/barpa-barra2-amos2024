{
 "cells": [
  {
   "cell_type": "markdown",
   "id": "ed59c4a4-a59b-4234-beac-8ca25a6247dd",
   "metadata": {
    "tags": []
   },
   "source": [
    "# AMOS 2024 - Introducing loaddata Python module\n",
    "\n",
    "##### In this notebook we demonstrate the use of the LOADDATA module. \n",
    "##### The module is to simplify locating and loading the data files from BARRA2 regional reanalysis and BARPA regional projections in NCI Data Collection\n",
    "\n",
    "##### BARPA:  https://opus.nci.org.au/pages/viewpage.action?pageId=264241161\n",
    "\n",
    "##### BARRA2: https://opus.nci.org.au/pages/viewpage.action?pageId=264241166\n",
    "\n",
    "##### Before using this notebook, users must join ob53 and py18 projects via,\n",
    "\n",
    "##### To access BARRA2 data: https://my.nci.org.au/mancini/project/ob53/join\n",
    "\n",
    "##### To access BARPA data: https://my.nci.org.au/mancini/project/py18/join\n",
    "        "
   ]
  },
  {
   "cell_type": "code",
   "execution_count": 1,
   "id": "e8e27eb2-e47b-4b4b-8253-86d53ab93594",
   "metadata": {},
   "outputs": [],
   "source": [
    "import os, sys\n",
    "os.chdir(\"/g/data/hd50/chs548/BARRA2_evaluation/jt/notebooks/\")\n",
    "import loaddata\n",
    "from datetime import datetime as dt"
   ]
  },
  {
   "cell_type": "code",
   "execution_count": 2,
   "id": "295f310b-add3-43c5-a889-cb96860287df",
   "metadata": {
    "tags": []
   },
   "outputs": [
    {
     "name": "stdout",
     "output_type": "stream",
     "text": [
      "Help on module loaddata:\n",
      "\n",
      "NAME\n",
      "    loaddata\n",
      "\n",
      "DESCRIPTION\n",
      "    NAME\n",
      "        loaddata\n",
      "      \n",
      "    DESCRIPTION\n",
      "        loaddata is a Python module for interfacing with the BARRA2 and BARPA\n",
      "        data sets in the NCI data collection.\n",
      "        \n",
      "    PREREQUISITE\n",
      "        Users must join ob53 and py18 projects via,\n",
      "          https://my.nci.org.au/mancini/project/ob53/join\n",
      "          https://my.nci.org.au/mancini/project/py18/join\n",
      "          \n",
      "    AUTHOR\n",
      "        Chun-Hsu Su, chunhsu.su@bom.gov.au, Bureau of Meteorology\n",
      "\n",
      "FUNCTIONS\n",
      "    get_barpa_files(rcm, gcm, scenario, freq, variable, version='*', tstart=None, tend=None)\n",
      "        Returns all the matching BARPA files in the NCI data collection.\n",
      "        \n",
      "        Parameters:\n",
      "            rcm (str): Regional model, e.g. BARPA-R, BARPA-C\n",
      "            gcm (str): Driving GCM name, e.g. ACCESS-CM2\n",
      "            scenario (str): GCM experiment, e.g. historical, ssp370, ssp126, evaluation\n",
      "            freq (str): Time frequency of data, e.g., 1hr, day, mon\n",
      "            variable (str): Variable name, e.g. tas, uas, pr\n",
      "            version (str): Data release version if multiple available\n",
      "            tstart (datetime.datetime): Start of the time period\n",
      "            tend (datetime.datetime): End of the time period\n",
      "            \n",
      "        Returns:\n",
      "           files (list of str): List of full paths to the files \n",
      "        \n",
      "        Note: model, freq, variable as per labels in\n",
      "            /g/data/py18/BARPA/output/CMIP6/DD/[domain]/BOM/[gcm]/[scenario]/        \n",
      "            [ens]/[rcm]/v1-r1/[freq]/[variable]/[version]\n",
      "    \n",
      "    get_barra2_files(model, freq, variable, version='*', tstart=None, tend=None)\n",
      "        Returns all matching BARRA-R2 files in the NCI data collection.\n",
      "        \n",
      "        Parameters:\n",
      "           model (str): Model, e.g., BARRA-R2, BARRA-RE2, BARRA-C2\n",
      "           freq (str): Time frequency of the data, e.g. 1hr, day, mon\n",
      "           variable (str): Variable name, e.g., tas, uas, pr\n",
      "           version (str): Data release version if multiple available\n",
      "           tstart (datetime.datetime): Start of the time range\n",
      "           tend (datetime.datetime): End of the time range\n",
      "           \n",
      "        Returns:\n",
      "           files (list of str):List of full paths to the files \n",
      "        \n",
      "        Note: model, freq, variable as per labels in\n",
      "            /g/data/ob53/BARRA2/output/reanalysis/[domain]/BOM/ERA5/\n",
      "            historical/*/[model]/v1/[freq]/[variable]/[version]\n",
      "    \n",
      "    list_barpa_freqs(rcm, gcm, scenario)\n",
      "        Prints a listing of the time frequency available for BARPA model data.\n",
      "        \n",
      "        Parameters:\n",
      "            rcm (str): Regional model, e.g. BARPA-R, BARPA-C\n",
      "            gcm (str): Driving GCM name, e.g. ACCESS-CM2\n",
      "            scenario (str): GCM experiment, e.g. historical, ssp370, ssp126, evaluation\n",
      "    \n",
      "    list_barpa_variables(rcm, gcm, scenario, freq)\n",
      "        Prints a listing of the variables available for BARPA model.\n",
      "        \n",
      "        Parameters:\n",
      "            rcm (str): Regional model, e.g. BARPA-R, BARPA-C\n",
      "            gcm (str): Driving GCM name, e.g. ACCESS-CM2\n",
      "            scenario (str): GCM experiment, e.g. historical, ssp370, ssp126, evaluation\n",
      "            freq (str): Time frequency of data, e.g., 1hr, day, mon\n",
      "    \n",
      "    list_barra2_freqs(model)\n",
      "        Prints a listing of the time frequency available for BARRA2 model data.\n",
      "        \n",
      "        Parameters:\n",
      "            model (str): Model, e.g., BARRA-R2, BARRA-RE2, BARRA-C2\n",
      "    \n",
      "    list_barra2_variables(model, freq)\n",
      "        Prints a listing of the variables available for BARRA2 model.\n",
      "        \n",
      "        Parameters:\n",
      "            model (str): Model, e.g., BARRA-R2, BARRA-RE2, BARRA-C2\n",
      "           freq (str): Time frequency of the data, e.g. 1hr, day, mon\n",
      "    \n",
      "    list_experiments(model)\n",
      "        Prints listing of experiments\n",
      "        \n",
      "        Parameters:\n",
      "            model (str): Model, either BARRA2 or BARPA\n",
      "    \n",
      "    load_barpa_data(rcm, gcm, scenario, freq, variable, version='*', tstart=None, tend=None, loc=None, latrange=None, lonrange=None)\n",
      "        Returns the BAPRA data.\n",
      "        \n",
      "        Parameters:\n",
      "            rcm (str): Regional model, e.g. BARPA-R, BARPA-C\n",
      "            gcm (str): Driving GCM name, e.g. ACCESS-CM2\n",
      "            scenario (str): GCM experiment, e.g. historical, ssp370, ssp126, evaluation\n",
      "            freq (str): Time frequency of data, e.g., 1hr, day, mon\n",
      "            variable (str): Variable name, e.g. tas, uas, pr\n",
      "            version (str): Data release version if multiple available\n",
      "            tstart (datetime.datetime): Start of the time period\n",
      "            tend (datetime.datetime): End of the time period\n",
      "            loc (tuple of float), (latitude, longitude) if requesting data closest to a point location\n",
      "            latrange (tuple of float), (latmin, latmax) if requesting data over a latitude range\n",
      "            lonrange (tuple of float), (lonmin, lonmax) if requesting data over a longitude range\n",
      "        \n",
      "        Returns:\n",
      "           data (xarray.Dataset): Extracted data\n",
      "        \n",
      "        Note: model, freq, variable as per labels in\n",
      "            /g/data/py18/BARPA/output/CMIP6/DD/[domain]/BOM/[gcm]/[scenario]/        \n",
      "            [ens]/[rcm]/v1-r1/[freq]/[variable]/[version]\n",
      "    \n",
      "    load_barra2_data(model, freq, variable, version='*', tstart=None, tend=None, loc=None, latrange=None, lonrange=None)\n",
      "        Returns the BARRA2 data\n",
      "        \n",
      "        Parameters:\n",
      "           model (str): Model, e.g., AUS-11, AUS-22\n",
      "           freq (str): Time frequency of the data, e.g. 1hr, day, mon\n",
      "           variable (str): Variable name, e.g., tas, uas, pr\n",
      "           version (str): Data release version if multiple available\n",
      "           tstart (datetime.datetime): Start of the time range\n",
      "           tend (datetime.datetime): End of the time range\n",
      "           loc (tuple of float), (latitude, longitude) if requesting data closest to a point location\n",
      "           latrange (tuple of float), (latmin, latmax) if requesting data over a latitude range\n",
      "           lonrange (tuple of float), (lonmin, lonmax) if requesting data over a longitude range\n",
      "        \n",
      "        Returns:\n",
      "           data (xarray.Dataset): Extracted data\n",
      "           \n",
      "        Note: model, freq, variable as per labels in\n",
      "            /g/data/ob53/BARRA2/output/reanalysis/[model]/BOM/ERA5/\n",
      "            historical/*/BARRA-R2/v1/[freq]/[variable]/[version]\n",
      "    \n",
      "    make_barpa_dirpath(rcm, gcm, scenario, freq)\n",
      "        Returns path to the BARPA data directory.\n",
      "        \n",
      "        Parameters:\n",
      "            rcm (str): Regional model, e.g. BARPA-R, BARPA-C\n",
      "            gcm (str): Driving GCM name, e.g. ACCESS-CM2\n",
      "            scenario (str): GCM experiment, e.g. historical, ssp370, ssp126, evaluation\n",
      "            freq (str): Time frequency of data, e.g., 1hr, day, mon\n",
      "            \n",
      "        Returns:\n",
      "            path (str): Directory path\n",
      "    \n",
      "    make_barra2_dirpath(model, freq)\n",
      "        Returns path to the BARRA2 data directory.\n",
      "        \n",
      "        Parameters:\n",
      "            model (str): Model, e.g., BARRA-R2, BARRA-RE2, BARRA-C2\n",
      "           freq (str): Time frequency of the data, e.g. 1hr, day, mon\n",
      "           \n",
      "        Returns:\n",
      "           path (str): Directory path\n",
      "    \n",
      "    whatis(freq, variable, model='BARRA2')\n",
      "        Prints the metadata for this variable\n",
      "        \n",
      "        Parameters:\n",
      "            freq (str): Time frequency of the variable, e.g., 1hr, day\n",
      "            variable (str): Variable name\n",
      "            model (str): Which model, either BARRA2 or BARPA\n",
      "        \n",
      "        Returns\n",
      "            attributes (dict): Dictionary containing the variable attributes\n",
      "\n",
      "FILE\n",
      "    /g/data/hd50/chs548/BARRA2_evaluation/jt/notebooks/loaddata.py\n",
      "\n",
      "\n"
     ]
    }
   ],
   "source": [
    "# Print documentation, which lists the available methods\n",
    "help(loaddata)"
   ]
  },
  {
   "cell_type": "code",
   "execution_count": 3,
   "id": "b5a73872-3310-439f-b179-058cb1b8ec8f",
   "metadata": {},
   "outputs": [
    {
     "name": "stdout",
     "output_type": "stream",
     "text": [
      "{domain}   {era5_mem}   {model}\n",
      "AUS-11   hres   BARRA-R2\n"
     ]
    }
   ],
   "source": [
    "# List the available BARRA2 experiments published so far\n",
    "loaddata.list_experiments(\"BARRA2\")\n",
    "\n",
    "# Do you know?\n",
    "# domain=AUS-11 says it is over Australia at 0.11 deg\n",
    "# era5_mem=hres says the experiment is nested in ERA5 HRES reanalysis\n",
    "# model=BARRA-R2 is one of the BARRA2 systems"
   ]
  },
  {
   "cell_type": "code",
   "execution_count": 4,
   "id": "d08f8a95-7c65-41de-9a79-f7f74d89a338",
   "metadata": {},
   "outputs": [
    {
     "name": "stdout",
     "output_type": "stream",
     "text": [
      "{domain}   {gcm}   {scenario}   {ens}   {rcm}\n",
      "AUS-15   CESM2   historical   r11i1p1f1   BARPA-R\n",
      "AUS-15   NorESM2-MM   historical   r1i1p1f1   BARPA-R\n",
      "AUS-15   ACCESS-CM2   historical   r4i1p1f1   BARPA-R\n",
      "AUS-15   CMCC-ESM2   historical   r1i1p1f1   BARPA-R\n",
      "AUS-15   ERA5   evaluation   r1i1p1f1   BARPA-R\n",
      "AUS-15   MPI-ESM1-2-HR   historical   r1i1p1f1   BARPA-R\n",
      "AUS-15   EC-Earth3   historical   r1i1p1f1   BARPA-R\n",
      "AUS-15   ACCESS-ESM1-5   historical   r6i1p1f1   BARPA-R\n"
     ]
    }
   ],
   "source": [
    "# List the available BARPA experiments published so far\n",
    "loaddata.list_experiments(\"BARPA\")\n",
    "\n",
    "# Do you know?\n",
    "# domain=AUS-15 says it is over Australia at around 0.15 deg\n",
    "# gcm indicates the driving global model from CMIP6\n",
    "# scenario distinguishes whether this is historical or ssp* or ERA5-evaluation run\n",
    "# ens indicates which global model ensemble member\n",
    "# rcm=BARPA-R is one of the BARPA systems"
   ]
  },
  {
   "cell_type": "code",
   "execution_count": 5,
   "id": "d12f0ca5-8e8f-44e2-88fd-8f6454154828",
   "metadata": {},
   "outputs": [
    {
     "name": "stdout",
     "output_type": "stream",
     "text": [
      "/g/data/ob53/BARRA2/output/reanalysis/AUS-11/BOM/ERA5/historical/hres/BARRA-R2/v1/1hr/tasmean/v20231001/tasmean_AUS-11_ERA5_historical_hres_BOM_BARRA-R2_v1_1hr_201001-201001.nc\n",
      "/g/data/ob53/BARRA2/output/reanalysis/AUS-11/BOM/ERA5/historical/hres/BARRA-R2/v1/1hr/tasmean/v20231001/tasmean_AUS-11_ERA5_historical_hres_BOM_BARRA-R2_v1_1hr_201002-201002.nc\n",
      "/g/data/ob53/BARRA2/output/reanalysis/AUS-11/BOM/ERA5/historical/hres/BARRA-R2/v1/1hr/tasmean/v20231001/tasmean_AUS-11_ERA5_historical_hres_BOM_BARRA-R2_v1_1hr_201003-201003.nc\n",
      "/g/data/ob53/BARRA2/output/reanalysis/AUS-11/BOM/ERA5/historical/hres/BARRA-R2/v1/1hr/tasmean/v20231001/tasmean_AUS-11_ERA5_historical_hres_BOM_BARRA-R2_v1_1hr_201004-201004.nc\n",
      "/g/data/ob53/BARRA2/output/reanalysis/AUS-11/BOM/ERA5/historical/hres/BARRA-R2/v1/1hr/tasmean/v20231001/tasmean_AUS-11_ERA5_historical_hres_BOM_BARRA-R2_v1_1hr_201005-201005.nc\n",
      "/g/data/ob53/BARRA2/output/reanalysis/AUS-11/BOM/ERA5/historical/hres/BARRA-R2/v1/1hr/tasmean/v20231001/tasmean_AUS-11_ERA5_historical_hres_BOM_BARRA-R2_v1_1hr_201006-201006.nc\n",
      "/g/data/ob53/BARRA2/output/reanalysis/AUS-11/BOM/ERA5/historical/hres/BARRA-R2/v1/1hr/tasmean/v20231001/tasmean_AUS-11_ERA5_historical_hres_BOM_BARRA-R2_v1_1hr_201007-201007.nc\n",
      "/g/data/ob53/BARRA2/output/reanalysis/AUS-11/BOM/ERA5/historical/hres/BARRA-R2/v1/1hr/tasmean/v20231001/tasmean_AUS-11_ERA5_historical_hres_BOM_BARRA-R2_v1_1hr_201008-201008.nc\n",
      "/g/data/ob53/BARRA2/output/reanalysis/AUS-11/BOM/ERA5/historical/hres/BARRA-R2/v1/1hr/tasmean/v20231001/tasmean_AUS-11_ERA5_historical_hres_BOM_BARRA-R2_v1_1hr_201009-201009.nc\n",
      "/g/data/ob53/BARRA2/output/reanalysis/AUS-11/BOM/ERA5/historical/hres/BARRA-R2/v1/1hr/tasmean/v20231001/tasmean_AUS-11_ERA5_historical_hres_BOM_BARRA-R2_v1_1hr_201010-201010.nc\n"
     ]
    }
   ],
   "source": [
    "# Printing BARRA-R2 files for a given variable and time period\n",
    "files = loaddata.get_barra2_files('BARRA-R2',\n",
    "                     '1hr', \n",
    "                     'tasmean', \n",
    "                     tstart=dt(2010, 1, 5), \n",
    "                     tend=dt(2010, 10, 10))\n",
    "print(\"\\n\".join(files))\n",
    "\n",
    "# Do you know?\n",
    "# help(loaddata.get_barra2_files)\n",
    "# to see how to use this method"
   ]
  },
  {
   "cell_type": "code",
   "execution_count": 6,
   "id": "0ab67bd6-d8f2-456c-991b-ecb018feeec2",
   "metadata": {},
   "outputs": [
    {
     "name": "stdout",
     "output_type": "stream",
     "text": [
      "/g/data/py18/BARPA/output/CMIP6/DD/AUS-15/BOM/ACCESS-CM2/historical/r4i1p1f1/BARPA-R/v1-r1/day/pr/v20231001/pr_AUS-15_ACCESS-CM2_historical_r4i1p1f1_BOM_BARPA-R_v1-r1_day_201001-201012.nc\n",
      "/g/data/py18/BARPA/output/CMIP6/DD/AUS-15/BOM/ACCESS-CM2/historical/r4i1p1f1/BARPA-R/v1-r1/day/pr/v20231001/pr_AUS-15_ACCESS-CM2_historical_r4i1p1f1_BOM_BARPA-R_v1-r1_day_201101-201112.nc\n"
     ]
    }
   ],
   "source": [
    "# Listing BARPA-R files for a given BARPA-R experiment, for a given variable and time period\n",
    "files = loaddata.get_barpa_files('BARPA-R', \n",
    "                    'ACCESS-CM2', \n",
    "                    'historical', \n",
    "                      'day', \n",
    "                     'pr', \n",
    "                     tstart=dt(2010, 1, 5), \n",
    "                     tend=dt(2011, 2, 10))\n",
    "print(\"\\n\".join(files))"
   ]
  },
  {
   "cell_type": "code",
   "execution_count": 7,
   "id": "825757ab-3def-4fb0-ad64-8096f8238d2a",
   "metadata": {},
   "outputs": [
    {
     "name": "stdout",
     "output_type": "stream",
     "text": [
      "<xarray.Dataset>\n",
      "Dimensions:    (time: 1739, lat: 91, lon: 127, bnds: 2)\n",
      "Coordinates:\n",
      "  * time       (time) datetime64[ns] 2010-01-05T12:00:00 ... 2014-10-09T12:00:00\n",
      "  * lat        (lat) float64 -39.93 -39.82 -39.71 -39.6 ... -30.25 -30.14 -30.03\n",
      "  * lon        (lon) float64 110.0 110.1 110.3 110.4 ... 123.6 123.7 123.8 123.9\n",
      "  * bnds       (bnds) float64 0.0 1.0\n",
      "Data variables:\n",
      "    pr         (time, lat, lon) float64 dask.array<chunksize=(27, 91, 127), meta=np.ndarray>\n",
      "    time_bnds  (time, bnds) datetime64[ns] dask.array<chunksize=(27, 2), meta=np.ndarray>\n",
      "Attributes: (12/56)\n",
      "    axiom_version:             0.1.0\n",
      "    axiom_schemas_version:     0.1.0\n",
      "    axiom_schema:              cordex-1D.json\n",
      "    Conventions:               CF-1.10, ACDD-1.3\n",
      "    activity_id:               reanalysis\n",
      "    source:                    Data from Met Office Unified Model (UM) and Jo...\n",
      "    ...                        ...\n",
      "    creator_institution:       Bureau of Meteorology\n",
      "    keywords:                  Earth Science Services, Models, EARTH SCIENCE ...\n",
      "    title:                     Bureau of Meteorology Atmospheric high-resolut...\n",
      "    summary:                   The Bureau of Meteorology Atmospheric high-res...\n",
      "    date_modified:             2023-11-17T02:14:34Z\n",
      "    date_metadata_modified:    2023-11-17T02:14:34Z\n"
     ]
    }
   ],
   "source": [
    "# Loading BARRA-R2 data over some subdomain.\n",
    "# The data is returned as xarray.Dataset object.\n",
    "ds = loaddata.load_barra2_data('BARRA-R2',\n",
    "                    'day', \n",
    "                    'pr', \n",
    "                     tstart=dt(2010, 1, 5), \n",
    "                     tend=dt(2014, 10, 10),\n",
    "                    latrange=(-40,-30), lonrange=(110, 124))\n",
    "\n",
    "print(ds)"
   ]
  },
  {
   "cell_type": "code",
   "execution_count": 8,
   "id": "7b08d6cc-312c-452a-ac98-b54d987a17cd",
   "metadata": {},
   "outputs": [
    {
     "name": "stdout",
     "output_type": "stream",
     "text": [
      "<xarray.Dataset>\n",
      "Dimensions:    (time: 1739, lat: 65, lon: 90, bnds: 2)\n",
      "Coordinates:\n",
      "  * time       (time) datetime64[ns] 2010-01-05T12:00:00 ... 2014-10-09T12:00:00\n",
      "  * lat        (lat) float64 -39.98 -39.83 -39.67 -39.52 ... -30.4 -30.25 -30.09\n",
      "  * lon        (lon) float64 110.1 110.3 110.4 110.6 ... 123.4 123.6 123.7 123.9\n",
      "Dimensions without coordinates: bnds\n",
      "Data variables:\n",
      "    pr         (time, lat, lon) float64 dask.array<chunksize=(361, 65, 90), meta=np.ndarray>\n",
      "    time_bnds  (time, bnds) datetime64[ns] dask.array<chunksize=(361, 2), meta=np.ndarray>\n",
      "Attributes: (12/57)\n",
      "    axiom_version:             0.1.0\n",
      "    axiom_schemas_version:     0.1.0\n",
      "    axiom_schema:              cordex-1D.json\n",
      "    Conventions:               CF-1.10, ACDD-1.3\n",
      "    activity_id:               RCM\n",
      "    title:                     Bureau of Meteorology Atmospheric Regional Pro...\n",
      "    ...                        ...\n",
      "    creator_institution:       Bureau of Meteorology\n",
      "    keywords:                  Earth Science, Atmosphere; Continent, Australi...\n",
      "    driving_experiment:        CSIRO-ARCCSS ACCESS-CM2; historical; r4i1p1f1\n",
      "    driving_source_id:         ACCESS-CM2\n",
      "    date_modified:             2023-11-16T16:56:27Z\n",
      "    date_metadata_modified:    2023-11-16T16:56:27Z\n"
     ]
    }
   ],
   "source": [
    "# Loading BARPA-R data over some subdomain.\n",
    "# The data is returned as xarray.Dataset object.\n",
    "ds = loaddata.load_barpa_data('BARPA-R', \n",
    "                    'ACCESS-CM2', \n",
    "                    'historical', \n",
    "                    'day', \n",
    "                    'pr', \n",
    "                     tstart=dt(2010, 1, 5), \n",
    "                     tend=dt(2014, 10, 10),\n",
    "                    latrange=(-40,-30), lonrange=(110, 124))\n",
    "\n",
    "print(ds)"
   ]
  },
  {
   "cell_type": "code",
   "execution_count": 9,
   "id": "4efd0374-3f66-4a93-9aea-cff7aec1b3e4",
   "metadata": {},
   "outputs": [
    {
     "name": "stdout",
     "output_type": "stream",
     "text": [
      "Short name: pr\n",
      "long_name: Precipitation\n",
      "standard_name: precipitation_flux\n",
      "units: kg m-2 s-1\n",
      "cell_methods: time: mean (interval: 1 hour)\n"
     ]
    }
   ],
   "source": [
    "# But what is the variable pr? \n",
    "_ = loaddata.whatis('1hr', 'pr')"
   ]
  },
  {
   "cell_type": "code",
   "execution_count": 10,
   "id": "abe6c234-bb15-4bea-b56f-58ffe0709867",
   "metadata": {},
   "outputs": [
    {
     "name": "stdout",
     "output_type": "stream",
     "text": [
      "Short name: tas\n",
      "long_name: Near-Surface Air Temperature\n",
      "standard_name: air_temperature\n",
      "units: K\n",
      "cell_methods: time: point (interval: 1H)\n"
     ]
    }
   ],
   "source": [
    "# Repeating the same but for a variable in BARPA experiment\n",
    "# Generally the meaning will be the same between BARRA2 and BARPA\n",
    "_ = loaddata.whatis('1hr', 'tas', model=\"BARPA\")"
   ]
  },
  {
   "cell_type": "code",
   "execution_count": 11,
   "id": "fcd68f41-7f7a-4831-90f4-00d567375691",
   "metadata": {
    "tags": []
   },
   "outputs": [
    {
     "name": "stdout",
     "output_type": "stream",
     "text": [
      "fx, mon, 3hr, 1hr, day\n"
     ]
    }
   ],
   "source": [
    "# How do I know what time frequency is available for a given experiment? \n",
    "# For BARRA-R2...\n",
    "_ = loaddata.list_barra2_freqs('BARRA-R2')"
   ]
  },
  {
   "cell_type": "code",
   "execution_count": 12,
   "id": "b957c5dc-e74a-43e8-8a7e-64c4fca96376",
   "metadata": {},
   "outputs": [
    {
     "name": "stdout",
     "output_type": "stream",
     "text": [
      "rsut, rluscs, ta1500m, va400, pr, ta200m, ta700, clwvi, hus500, tas, uasmean, mrsos, ua400, zg925, ta250m, rlus, prc, va150m, ua300, zg300, zg400, zg850, ua850, va250m, va200m, ta600, rsdscs, wa300, ua50m, hus200, ps, ta50m, omega500, prsn, va600, tasmean, cll, hus400, vasmean, wa700, wsgsmax, uasmax, vasmax, ua250m, CAPE, va850, ua700, ua1000, hus1000, ua200m, va700, hus950, ua150m, ua1500m, prw, va300, wa1000, ua600, ua100m, ua925, zg200, wa600, va100m, va200, rsutcs, rsds, evspsblpot, hus600, zg1000, ua500, sfcWind, mrfsos, hfls, ta850, ta100m, ua200, rsdt, clh, va925, zg600, hus300, zg500, hurs, psl, ts, vas, huss, rldscs, ta925, ta150m, wa500, va1500m, uas, hus700, ta500, zg700, clivi, wa200, va50m, ta200, rlutcs, tasmin, ta300, clm, CIN, ta400, rlds, wa400, zmla, va1000, rsdsdir, rsuscs, hfss, rlut, wa850, ta1000, va500, clt, ta950, wa925, tasmax, hus850, rsus, hus925\n"
     ]
    }
   ],
   "source": [
    "# Then we can drill down to see what variable are available for this time frequency\n",
    "_ = loaddata.list_barra2_variables('BARRA-R2', '1hr')"
   ]
  },
  {
   "cell_type": "code",
   "execution_count": 13,
   "id": "2f11a430-933d-4167-95b8-c0f7a58da6ec",
   "metadata": {},
   "outputs": [
    {
     "name": "stdout",
     "output_type": "stream",
     "text": [
      "Short name: hfss\n",
      "long_name: Surface Upward Sensible Heat Flux\n",
      "standard_name: surface_upward_sensible_heat_flux\n",
      "units: W m-2\n",
      "cell_methods: time: mean (interval: 1 hour) time: mean (interval: 1H)\n"
     ]
    }
   ],
   "source": [
    "# But what is the variable hfss? \n",
    "_ = loaddata.whatis('1hr', 'hfss')"
   ]
  },
  {
   "cell_type": "code",
   "execution_count": 14,
   "id": "f45ee530-3347-46fb-a11a-f69c8190974c",
   "metadata": {},
   "outputs": [
    {
     "name": "stdout",
     "output_type": "stream",
     "text": [
      "orog, sftlf\n"
     ]
    }
   ],
   "source": [
    "# There is also few static variables!\n",
    "_ = loaddata.list_barra2_variables('BARRA-R2', 'fx')"
   ]
  },
  {
   "cell_type": "code",
   "execution_count": 15,
   "id": "7983d59c-a43b-42d5-9681-6cc50be0bea8",
   "metadata": {},
   "outputs": [
    {
     "name": "stdout",
     "output_type": "stream",
     "text": [
      "day, fx, 1hr, mon, 6hr\n"
     ]
    }
   ],
   "source": [
    "# Repeating the same for BARPA\n",
    "_ = loaddata.list_barpa_freqs('BARPA-R', 'ERA5', 'evaluation')"
   ]
  },
  {
   "cell_type": "code",
   "execution_count": 16,
   "id": "48d84010-7753-49a2-8d25-3b81d61ea7b1",
   "metadata": {},
   "outputs": [
    {
     "name": "stdout",
     "output_type": "stream",
     "text": [
      "snm, ta600, hus300, ta50, hus850, tsl, ua250m, rsut, ta10, ta50m, ta200m, rsds, ua20, wa150, ta100m, va850, va925, mrsos, hfss, ta500, rluscs, zg600, va100, ua1500m, ta150m, clivi, zmla, wa30, clm, va100m, sund, sfcWind, zg100, wa250, va150m, ua500, ua700, ta200, ta30, rlus, hus20, ta400, tasmax, ts, ta100, wa10, va250, hus500, zg400, va30, ua100, ua850, tauu, va1000, hfls, ua200, prhmax, ta300, rsuscs, zg20, clh, hus30, zg200, ua300, rsdscs, wa1000, ua400, va300, ua1000, hus150, wa50, mrfso, va70, wa20, ta1000, va10, rldscs, rsutcs, zg70, prw, uas, wsgsmax, va20, ta20, CAPE, hus10, rsdsdir, hus600, mrfsol, hus700, mrros, psl, va500, evspsblpot, va400, hus250, ua10, wa100, rlut, tas, zg1000, rlutcs, va50m, ta250m, mrso, wa600, cll, hus1000, ta1500m, wa700, zg30, mrsol, ps, wa400, ua50m, zg300, rlds, ua150m, ta150, wa200, zg700, hus70, hus100, va700, va1500m, hus50, omega500, zg250, zg925, va250m, wa500, va200, ua50, ua70, zg10, hus925, tauv, hus400, ua600, tasmin, ta70, ua150, wa300, prc, ta925, z0, ta250, va200m, va150, zg150, ua200m, mrro, sfcWindmax, va600, ua250, va50, prsn, CIN, zg850, zg500, ua100m, zg50, huss, mrfsos, wa850, hus200, ta700, ta850, snd, clwvi, rsus, wa925, wa70, snw, ua925, pr, rsdt, ua30, clt, hurs, sic, vas\n"
     ]
    }
   ],
   "source": [
    "# What variables in the BARPA-R experiment?\n",
    "_ = loaddata.list_barpa_variables('BARPA-R', 'ERA5', 'evaluation', 'mon')"
   ]
  },
  {
   "cell_type": "code",
   "execution_count": 17,
   "id": "3014e208-0f76-485e-8f54-e25a7f4af0d1",
   "metadata": {},
   "outputs": [
    {
     "name": "stdout",
     "output_type": "stream",
     "text": [
      "Short name: mrfso\n",
      "long_name: Soil Frozen Water Content\n",
      "standard_name: soil_frozen_water_content\n",
      "units: kg m-2\n",
      "cell_methods: time: point (interval: 3H) depth: sum time: mean (interval: 1M)\n"
     ]
    }
   ],
   "source": [
    "# So what is this variable?\n",
    "_ = loaddata.whatis('mon', 'mrfso')"
   ]
  },
  {
   "cell_type": "code",
   "execution_count": 18,
   "id": "617ab4b3-5c3f-4568-a78d-bfac3dac817b",
   "metadata": {},
   "outputs": [
    {
     "name": "stdout",
     "output_type": "stream",
     "text": [
      "Help on function list_barpa_variables in module loaddata:\n",
      "\n",
      "list_barpa_variables(rcm, gcm, scenario, freq)\n",
      "    Prints a listing of the variables available for BARPA model.\n",
      "    \n",
      "    Parameters:\n",
      "        rcm (str): Regional model, e.g. BARPA-R, BARPA-C\n",
      "        gcm (str): Driving GCM name, e.g. ACCESS-CM2\n",
      "        scenario (str): GCM experiment, e.g. historical, ssp370, ssp126, evaluation\n",
      "        freq (str): Time frequency of data, e.g., 1hr, day, mon\n",
      "\n"
     ]
    }
   ],
   "source": [
    "# Getting more information about how to use a method...\n",
    "help(loaddata.list_barpa_variables)"
   ]
  },
  {
   "cell_type": "code",
   "execution_count": null,
   "id": "0c30ee86-b4c4-4e90-8830-af972543b419",
   "metadata": {},
   "outputs": [],
   "source": []
  }
 ],
 "metadata": {
  "kernelspec": {
   "display_name": "Python 3 (ipykernel)",
   "language": "python",
   "name": "python3"
  },
  "language_info": {
   "codemirror_mode": {
    "name": "ipython",
    "version": 3
   },
   "file_extension": ".py",
   "mimetype": "text/x-python",
   "name": "python",
   "nbconvert_exporter": "python",
   "pygments_lexer": "ipython3",
   "version": "3.9.9"
  }
 },
 "nbformat": 4,
 "nbformat_minor": 5
}
