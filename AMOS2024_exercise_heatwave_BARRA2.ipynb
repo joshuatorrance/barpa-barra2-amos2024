{
 "cells": [
  {
   "cell_type": "markdown",
   "id": "c328b8e4-e361-4de6-ab2b-097b66c1a461",
   "metadata": {},
   "source": [
    "# AMOS 2024 - Heatwave case study using BARRA2 reanalysis\n",
    "\n",
    "##### In this notebook we demonstrate the use of BARRA2 data in the NCI Data Collection to explore the NSW heatwave of January 2017.\n",
    "\n",
    "##### More information on BARRA2 data: https://opus.nci.org.au/pages/viewpage.action?pageId=264241166\n",
    "\n",
    "##### Before using this notebook, users must join ob53 project via, https://my.nci.org.au/mancini/project/ob53/join"
   ]
  },
  {
   "cell_type": "code",
   "execution_count": 1,
   "id": "531e4c97-67bd-4439-8a84-2998b7923df0",
   "metadata": {
    "execution": {
     "iopub.execute_input": "2024-01-23T00:32:57.748242Z",
     "iopub.status.busy": "2024-01-23T00:32:57.747731Z",
     "iopub.status.idle": "2024-01-23T00:32:58.874120Z",
     "shell.execute_reply": "2024-01-23T00:32:58.873129Z",
     "shell.execute_reply.started": "2024-01-23T00:32:57.748194Z"
    },
    "tags": []
   },
   "outputs": [],
   "source": [
    "import os, sys\n",
    "os.chdir(\"/g/data/hd50/chs548/BARRA2_evaluation/jt/notebooks/\")\n",
    "import loaddata\n",
    "from datetime import datetime as dt\n",
    "# Here we will use the LOADDATA module to simply the loading of the data\n",
    "import loaddata\n",
    "import matplotlib.pyplot as plt\n",
    "import matplotlib as mpl\n",
    "import cartopy.crs as ccrs\n",
    "import numpy as np\n",
    "import xarray as xr"
   ]
  },
  {
   "cell_type": "markdown",
   "id": "99fb3bc0-bb16-4eef-832d-323d6a29684f",
   "metadata": {
    "jp-MarkdownHeadingCollapsed": true,
    "tags": []
   },
   "source": [
    "## Explore the data sets - what's available and what they are"
   ]
  },
  {
   "cell_type": "code",
   "execution_count": 4,
   "id": "f85187af-b680-45de-af91-6fbec1e9bd47",
   "metadata": {
    "collapsed": true,
    "execution": {
     "iopub.execute_input": "2024-01-19T01:42:51.080331Z",
     "iopub.status.busy": "2024-01-19T01:42:51.079700Z",
     "iopub.status.idle": "2024-01-19T01:42:51.089119Z",
     "shell.execute_reply": "2024-01-19T01:42:51.087948Z",
     "shell.execute_reply.started": "2024-01-19T01:42:51.080274Z"
    },
    "jupyter": {
     "outputs_hidden": true
    },
    "tags": []
   },
   "outputs": [
    {
     "name": "stdout",
     "output_type": "stream",
     "text": [
      "{domain}   {era5_mem}   {model}\n",
      "AUS-11   hres   BARRA-R2\n"
     ]
    }
   ],
   "source": [
    "# What experiments are available in BARRA2 at this time?\n",
    "loaddata.list_experiments(\"BARRA2\")\n",
    "\n",
    "# At this time, we have BARRA-R2 12 km reanalysis data. \n",
    "# Later this year, the BARRA-RE2 ensemble and BARRA-C2 4.4 km reanalysis data will be available."
   ]
  },
  {
   "cell_type": "code",
   "execution_count": 8,
   "id": "bfe1874c-779f-475e-bd58-5ef2b7662e4b",
   "metadata": {
    "execution": {
     "iopub.execute_input": "2024-01-19T01:43:34.188597Z",
     "iopub.status.busy": "2024-01-19T01:43:34.187989Z",
     "iopub.status.idle": "2024-01-19T01:43:34.197299Z",
     "shell.execute_reply": "2024-01-19T01:43:34.195778Z",
     "shell.execute_reply.started": "2024-01-19T01:43:34.188539Z"
    },
    "tags": []
   },
   "outputs": [
    {
     "name": "stdout",
     "output_type": "stream",
     "text": [
      "rsut, rluscs, ta1500m, va400, pr, ta200m, ta700, clwvi, hus500, tas, uasmean, mrsos, ua400, zg925, ta250m, rlus, prc, va150m, ua300, zg300, zg400, zg850, ua850, va250m, va200m, ta600, rsdscs, wa300, ua50m, hus200, ps, ta50m, omega500, prsn, va600, tasmean, cll, hus400, vasmean, wa700, wsgsmax, uasmax, vasmax, ua250m, CAPE, va850, ua700, ua1000, hus1000, ua200m, va700, hus950, ua150m, ua1500m, prw, va300, wa1000, ua600, ua100m, ua925, zg200, wa600, va100m, va200, rsutcs, rsds, evspsblpot, hus600, zg1000, ua500, sfcWind, mrfsos, hfls, ta850, ta100m, ua200, rsdt, clh, va925, zg600, hus300, zg500, hurs, psl, ts, vas, huss, rldscs, ta925, ta150m, wa500, va1500m, uas, hus700, ta500, zg700, clivi, wa200, va50m, ta200, rlutcs, tasmin, ta300, clm, CIN, ta400, rlds, wa400, zmla, va1000, rsdsdir, rsuscs, hfss, rlut, wa850, ta1000, va500, clt, ta950, wa925, tasmax, hus850, rsus, hus925\n"
     ]
    }
   ],
   "source": [
    "# What hourly variables are available?\n",
    "_ = loaddata.list_barra2_variables(\"BARRA-R2\", \"1hr\")"
   ]
  },
  {
   "cell_type": "code",
   "execution_count": 9,
   "id": "b3b2cd70-7cbc-4772-8ca9-6ecc26380379",
   "metadata": {
    "execution": {
     "iopub.execute_input": "2024-01-19T01:45:02.982670Z",
     "iopub.status.busy": "2024-01-19T01:45:02.982050Z",
     "iopub.status.idle": "2024-01-19T01:45:03.644810Z",
     "shell.execute_reply": "2024-01-19T01:45:03.644092Z",
     "shell.execute_reply.started": "2024-01-19T01:45:02.982613Z"
    }
   },
   "outputs": [
    {
     "name": "stdout",
     "output_type": "stream",
     "text": [
      "Short name: tas\n",
      "long_name: Near-Surface Air Temperature\n",
      "standard_name: air_temperature\n",
      "units: K\n",
      "cell_methods: time: point (interval: 1H)\n"
     ]
    }
   ],
   "source": [
    "# For heatwave case study, we will look at the screen-level temperature, near-surface wind vector and low level cloud cover\n",
    "# First check they are what they are, and explore different variable options\n",
    "_ = loaddata.whatis(\"1hr\", \"tas\")"
   ]
  },
  {
   "cell_type": "code",
   "execution_count": 10,
   "id": "9a13579e-d16f-4d07-ba1f-57e61ced317b",
   "metadata": {
    "execution": {
     "iopub.execute_input": "2024-01-19T01:45:16.308053Z",
     "iopub.status.busy": "2024-01-19T01:45:16.307442Z",
     "iopub.status.idle": "2024-01-19T01:45:16.452761Z",
     "shell.execute_reply": "2024-01-19T01:45:16.451394Z",
     "shell.execute_reply.started": "2024-01-19T01:45:16.307995Z"
    }
   },
   "outputs": [
    {
     "name": "stdout",
     "output_type": "stream",
     "text": [
      "Short name: tasmax\n",
      "long_name: Hourly Maximum Near-Surface Air Temperature\n",
      "standard_name: air_temperature\n",
      "units: K\n",
      "cell_methods: time: maximum (interval: 1 hour)\n"
     ]
    }
   ],
   "source": [
    "_ = loaddata.whatis(\"1hr\", \"tasmax\")"
   ]
  },
  {
   "cell_type": "code",
   "execution_count": 14,
   "id": "ef88ad7c-834b-4006-a08a-4d0359111982",
   "metadata": {
    "execution": {
     "iopub.execute_input": "2024-01-19T01:46:10.238393Z",
     "iopub.status.busy": "2024-01-19T01:46:10.237713Z",
     "iopub.status.idle": "2024-01-19T01:46:10.275428Z",
     "shell.execute_reply": "2024-01-19T01:46:10.274526Z",
     "shell.execute_reply.started": "2024-01-19T01:46:10.238337Z"
    },
    "tags": []
   },
   "outputs": [
    {
     "name": "stdout",
     "output_type": "stream",
     "text": [
      "Short name: uas\n",
      "long_name: Eastward Near-Surface Wind\n",
      "standard_name: eastward_wind\n",
      "units: m s-1\n",
      "cell_methods: time: point (interval: 1H) area: interpolation (method: bilinear)\n"
     ]
    }
   ],
   "source": [
    "_ = loaddata.whatis(\"1hr\", \"uas\")"
   ]
  },
  {
   "cell_type": "code",
   "execution_count": 16,
   "id": "b2d7423e-cf16-4bfc-8e5e-7e008a9d7494",
   "metadata": {
    "execution": {
     "iopub.execute_input": "2024-01-19T01:47:11.751992Z",
     "iopub.status.busy": "2024-01-19T01:47:11.751384Z",
     "iopub.status.idle": "2024-01-19T01:47:11.787770Z",
     "shell.execute_reply": "2024-01-19T01:47:11.786850Z",
     "shell.execute_reply.started": "2024-01-19T01:47:11.751936Z"
    }
   },
   "outputs": [
    {
     "name": "stdout",
     "output_type": "stream",
     "text": [
      "Short name: uasmax\n",
      "long_name: Eastward Near-Surface Wind\n",
      "standard_name: eastward_wind\n",
      "units: m s-1\n",
      "cell_methods: area: interpolation (method: bilinear) time: maximum (interval: 1H)\n"
     ]
    }
   ],
   "source": [
    "_ = loaddata.whatis(\"1hr\", \"uasmax\")"
   ]
  },
  {
   "cell_type": "code",
   "execution_count": 12,
   "id": "77bb1a81-6acd-4b4f-b932-0eb31032a998",
   "metadata": {
    "execution": {
     "iopub.execute_input": "2024-01-19T01:45:42.748135Z",
     "iopub.status.busy": "2024-01-19T01:45:42.746603Z",
     "iopub.status.idle": "2024-01-19T01:45:43.047429Z",
     "shell.execute_reply": "2024-01-19T01:45:43.046287Z",
     "shell.execute_reply.started": "2024-01-19T01:45:42.748060Z"
    }
   },
   "outputs": [
    {
     "name": "stdout",
     "output_type": "stream",
     "text": [
      "Short name: vas\n",
      "long_name: Northward Near-Surface Wind\n",
      "standard_name: northward_wind\n",
      "units: m s-1\n",
      "cell_methods: time: point (interval: 1H) area: interpolation (method: bilinear)\n"
     ]
    }
   ],
   "source": [
    "_ = loaddata.whatis(\"1hr\", \"vas\")"
   ]
  },
  {
   "cell_type": "code",
   "execution_count": 109,
   "id": "4acf2d42-54e8-4473-bc55-19f40a9a5c6d",
   "metadata": {
    "execution": {
     "iopub.execute_input": "2024-01-19T05:23:14.032568Z",
     "iopub.status.busy": "2024-01-19T05:23:14.031992Z",
     "iopub.status.idle": "2024-01-19T05:23:14.146258Z",
     "shell.execute_reply": "2024-01-19T05:23:14.145126Z",
     "shell.execute_reply.started": "2024-01-19T05:23:14.032516Z"
    },
    "tags": []
   },
   "outputs": [
    {
     "name": "stdout",
     "output_type": "stream",
     "text": [
      "Short name: cll\n",
      "long_name: Low Level Cloud Fraction\n",
      "standard_name: cloud_area_fraction_in_atmosphere_layer\n",
      "units: %\n",
      "cell_methods: time: mean (interval: 1 hour)\n"
     ]
    }
   ],
   "source": [
    "_ = loaddata.whatis(\"1hr\", \"cll\")"
   ]
  },
  {
   "cell_type": "code",
   "execution_count": 37,
   "id": "5ee4b965-465b-4805-874a-7cd979c1bb35",
   "metadata": {
    "execution": {
     "iopub.execute_input": "2024-01-19T02:00:54.860023Z",
     "iopub.status.busy": "2024-01-19T02:00:54.859370Z",
     "iopub.status.idle": "2024-01-19T02:00:54.927240Z",
     "shell.execute_reply": "2024-01-19T02:00:54.926005Z",
     "shell.execute_reply.started": "2024-01-19T02:00:54.859958Z"
    }
   },
   "outputs": [
    {
     "name": "stdout",
     "output_type": "stream",
     "text": [
      "Short name: orog\n",
      "long_name: Surface Altitude\n",
      "standard_name: surface_altitude\n",
      "units: m\n",
      "frequency: fx\n"
     ]
    }
   ],
   "source": [
    "_ = loaddata.whatis(\"fx\", \"orog\")"
   ]
  },
  {
   "cell_type": "code",
   "execution_count": 131,
   "id": "54b55307-efe7-4059-be3c-7bb753542c40",
   "metadata": {
    "execution": {
     "iopub.execute_input": "2024-01-19T05:33:05.897561Z",
     "iopub.status.busy": "2024-01-19T05:33:05.896991Z",
     "iopub.status.idle": "2024-01-19T05:33:05.965434Z",
     "shell.execute_reply": "2024-01-19T05:33:05.964202Z",
     "shell.execute_reply.started": "2024-01-19T05:33:05.897509Z"
    },
    "tags": []
   },
   "outputs": [
    {
     "name": "stdout",
     "output_type": "stream",
     "text": [
      "Short name: sftlf\n",
      "long_name: Percentage of the grid  cell occupied by land (including lakes)\n",
      "standard_name: land_area_fraction\n",
      "units: %\n",
      "frequency: fx\n"
     ]
    }
   ],
   "source": [
    "_ = loaddata.whatis(\"fx\", \"sftlf\")"
   ]
  },
  {
   "cell_type": "markdown",
   "id": "8d007cbc-b4de-4332-9a91-4851728a6b10",
   "metadata": {},
   "source": [
    "## Function to load the data"
   ]
  },
  {
   "cell_type": "code",
   "execution_count": 3,
   "id": "f98ba07a-793a-44dd-82be-eda2f5763eeb",
   "metadata": {
    "collapsed": true,
    "execution": {
     "iopub.execute_input": "2024-01-19T03:09:33.085638Z",
     "iopub.status.busy": "2024-01-19T03:09:33.084753Z",
     "iopub.status.idle": "2024-01-19T03:09:33.095106Z",
     "shell.execute_reply": "2024-01-19T03:09:33.093225Z",
     "shell.execute_reply.started": "2024-01-19T03:09:33.085574Z"
    },
    "jupyter": {
     "outputs_hidden": true
    },
    "tags": []
   },
   "outputs": [
    {
     "name": "stdout",
     "output_type": "stream",
     "text": [
      "Help on function load_barra2_data in module loaddata:\n",
      "\n",
      "load_barra2_data(model, freq, variable, version='*', tstart=None, tend=None, loc=None, latrange=None, lonrange=None)\n",
      "    Returns the BARRA2 data\n",
      "    \n",
      "    Parameters:\n",
      "       model (str): Model, e.g., BARRA-R2, BARRA-RE2, BARRA-C2\n",
      "       freq (str): Time frequency of the data, e.g. 1hr, day, mon\n",
      "       variable (str): Variable name, e.g., tas, uas, pr\n",
      "       version (str): Data release version if multiple available\n",
      "       tstart (datetime.datetime): Start of the time range\n",
      "       tend (datetime.datetime): End of the time range\n",
      "       loc (tuple of float), (latitude, longitude) if requesting data closest to a point location\n",
      "       latrange (tuple of float), (latmin, latmax) if requesting data over a latitude range\n",
      "       lonrange (tuple of float), (lonmin, lonmax) if requesting data over a longitude range\n",
      "    \n",
      "    Returns:\n",
      "       data (xarray.Dataset): Extracted data\n",
      "       \n",
      "    Note: model, freq, variable as per labels in\n",
      "        /g/data/ob53/BARRA2/output/reanalysis/[model]/BOM/ERA5/\n",
      "        historical/*/BARRA-R2/v1/[freq]/[variable]/[version]\n",
      "\n"
     ]
    }
   ],
   "source": [
    "# We will use hourly maximum temperature (tasmax), hourly inst u and v (uas, vas), and hourly mean low-level cloud cover (cll)\n",
    "# But feel free to explore other variables of your interests, such as pressure-level variables such as va850, ta850\n",
    "help(loaddata.load_barra2_data)"
   ]
  },
  {
   "cell_type": "code",
   "execution_count": 7,
   "id": "a1c4217d-caf0-4620-8331-235f2119bffa",
   "metadata": {
    "execution": {
     "iopub.execute_input": "2024-01-23T00:42:32.631028Z",
     "iopub.status.busy": "2024-01-23T00:42:32.630287Z",
     "iopub.status.idle": "2024-01-23T00:42:32.827300Z",
     "shell.execute_reply": "2024-01-23T00:42:32.826176Z",
     "shell.execute_reply.started": "2024-01-23T00:42:32.630966Z"
    },
    "tags": []
   },
   "outputs": [],
   "source": [
    "# What's the temperature in the region around Sydney during January 2017?\n",
    "\n",
    "loc = (-33.8688, 151.2093)\n",
    "latmin_c = loc[0] - 1\n",
    "latmax_c = loc[0] + 1\n",
    "lonmin_c = loc[1] - 1\n",
    "lonmax_c = loc[1] + 1\n",
    "tstart = dt(2016, 12, 1)\n",
    "tend = dt(2017, 4, 1)\n",
    "\n",
    "# Load tasmax data\n",
    "ds_tasmax = loaddata.load_barra2_data(\"BARRA-R2\", \"1hr\", \"tasmax\", \n",
    "                                      tstart=tstart, tend=tend,\n",
    "                                      latrange=(latmin_c, latmax_c),\n",
    "                                      lonrange=(lonmin_c, lonmax_c))\n",
    "# Convert to degC\n",
    "ds_tasmax['tasmax'] = ds_tasmax['tasmax'] - 273.15\n",
    "(NT, NY, NX) = ds_tasmax['tasmax'].shape\n",
    "\n",
    "# Load land sea mask\n",
    "ds_lsm = loaddata.load_barra2_data(\"BARRA-R2\", \"fx\", \"sftlf\",\n",
    "                                   latrange=(latmin_c, latmax_c),\n",
    "                                      lonrange=(lonmin_c, lonmax_c))\n",
    "\n",
    "# Compute spatial mean of tasmax over land, over the smaller subdomain around Sydney\n",
    "mask = (np.tile(ds_lsm['sftlf'].values, (NT,1,1)) >= 100)\n",
    "da_tasmax_spatial_av = ds_tasmax['tasmax'].where(mask).mean(dim=['lat', 'lon'])"
   ]
  },
  {
   "cell_type": "code",
   "execution_count": null,
   "id": "10103357-e618-4ee8-85ea-52740a297bfd",
   "metadata": {
    "tags": []
   },
   "outputs": [],
   "source": [
    "fig = plt.figure(figsize=(10, 3))\n",
    "\n",
    "# \n",
    "t0 = dt(2017, 2, 7)\n",
    "t1 = dt(2017, 2, 14)\n",
    "#\n",
    "# First subfigure showing the temperature changes during the whole period\n",
    "# \n",
    "ax = plt.subplot(1, 2, 1)\n",
    "da_tasmax_spatial_av.plot.line()\n",
    "plt.axvline(x=t0, color='r')\n",
    "plt.axvline(x=t1, color='r')\n",
    "#\n",
    "# Second subfigure showing the temperature changes \n",
    "# \n",
    "ax = plt.subplot(1, 2, 2)\n",
    "da_tasmax_spatial_av.sel(time=slice(t0, t1)).plot.line()"
   ]
  },
  {
   "cell_type": "code",
   "execution_count": 18,
   "id": "43dc33f9-f309-4929-af69-87f45cb4e48a",
   "metadata": {
    "execution": {
     "iopub.execute_input": "2024-01-23T00:57:48.279338Z",
     "iopub.status.busy": "2024-01-23T00:57:48.278702Z",
     "iopub.status.idle": "2024-01-23T00:57:48.289187Z",
     "shell.execute_reply": "2024-01-23T00:57:48.287746Z",
     "shell.execute_reply.started": "2024-01-23T00:57:48.279277Z"
    },
    "tags": []
   },
   "outputs": [],
   "source": [
    "# Define domain and time of interests as per above\n",
    "tstart = dt(2017, 2, 8)\n",
    "tend = dt(2017, 2, 14)\n",
    "\n",
    "latmin_r = loc[0] - 5\n",
    "latmax_r = loc[0] + 5\n",
    "lonmin_r = loc[1] - 5\n",
    "lonmax_r = loc[1] + 5"
   ]
  },
  {
   "cell_type": "code",
   "execution_count": 19,
   "id": "e4272896-da3e-40a3-b095-e1c58aac1e9c",
   "metadata": {
    "execution": {
     "iopub.execute_input": "2024-01-23T00:57:48.732046Z",
     "iopub.status.busy": "2024-01-23T00:57:48.731482Z",
     "iopub.status.idle": "2024-01-23T00:57:48.781085Z",
     "shell.execute_reply": "2024-01-23T00:57:48.779879Z",
     "shell.execute_reply.started": "2024-01-23T00:57:48.731996Z"
    },
    "tags": []
   },
   "outputs": [],
   "source": [
    "# Load the orography data\n",
    "ds_orog = loaddata.load_barra2_data(\"BARRA-R2\", \"fx\", \"orog\", \n",
    "                                    latrange=(latmin_r, latmax_r),\n",
    "                                      lonrange=(lonmin_r, lonmax_r))\n",
    "# Load land sea mask\n",
    "ds_lsm = loaddata.load_barra2_data(\"BARRA-R2\", \"fx\", \"sftlf\",\n",
    "                                   latrange=(latmin_r, latmax_r),\n",
    "                                      lonrange=(lonmin_r, lonmax_r))"
   ]
  },
  {
   "cell_type": "code",
   "execution_count": 20,
   "id": "91e7c7ce-5b91-40d1-bdb5-46f66ba879ba",
   "metadata": {
    "execution": {
     "iopub.execute_input": "2024-01-23T00:57:49.007482Z",
     "iopub.status.busy": "2024-01-23T00:57:49.006898Z",
     "iopub.status.idle": "2024-01-23T00:57:49.180744Z",
     "shell.execute_reply": "2024-01-23T00:57:49.179239Z",
     "shell.execute_reply.started": "2024-01-23T00:57:49.007432Z"
    },
    "tags": []
   },
   "outputs": [],
   "source": [
    "ds_tasmax = loaddata.load_barra2_data(\"BARRA-R2\", \"1hr\", \"tasmax\", \n",
    "                                      tstart=tstart, tend=tend,\n",
    "                                      latrange=(latmin_r, latmax_r),\n",
    "                                      lonrange=(lonmin_r, lonmax_r))\n",
    "ds_uas = loaddata.load_barra2_data(\"BARRA-R2\", \"1hr\", \"uas\", \n",
    "                                      tstart=tstart, tend=tend,\n",
    "                                      latrange=(latmin_r, latmax_r),\n",
    "                                      lonrange=(lonmin_r, lonmax_r))\n",
    "ds_vas = loaddata.load_barra2_data(\"BARRA-R2\", \"1hr\", \"vas\", \n",
    "                                      tstart=tstart, tend=tend,\n",
    "                                      latrange=(latmin_r, latmax_r),\n",
    "                                      lonrange=(lonmin_r, lonmax_r))\n",
    "ds_cll = loaddata.load_barra2_data(\"BARRA-R2\", \"1hr\", \"cll\", \n",
    "                                      tstart=tstart, tend=tend,\n",
    "                                      latrange=(latmin_r, latmax_r),\n",
    "                                      lonrange=(lonmin_r, lonmax_r))\n",
    "\n",
    "# Convert temperature from K to degC\n",
    "ds_tasmax['tasmax' ] = ds_tasmax['tasmax'] - 273.15\n",
    "(NT, NY, NX) = ds_tasmax['tasmax'].shape\n",
    "\n",
    "mask = (np.tile(ds_lsm['sftlf'].values, (NT,1,1)) >= 100)"
   ]
  },
  {
   "cell_type": "code",
   "execution_count": 21,
   "id": "2666cdcb-1579-4d5a-b57c-4a4e806ce9ab",
   "metadata": {
    "execution": {
     "iopub.execute_input": "2024-01-23T00:57:50.042134Z",
     "iopub.status.busy": "2024-01-23T00:57:50.041581Z",
     "iopub.status.idle": "2024-01-23T00:58:12.518927Z",
     "shell.execute_reply": "2024-01-23T00:58:12.517715Z",
     "shell.execute_reply.started": "2024-01-23T00:57:50.042086Z"
    },
    "tags": []
   },
   "outputs": [],
   "source": [
    "# Combine uas and vas into a single xr.Dataset object\n",
    "ds_uv = xr.merge([ds_uas['uas'], ds_vas['vas']])\n",
    "ds_uv_subsampled = ds_uv.isel(lat=range(0, NY, 7), lon=range(0, NX, 7)).compute()\n",
    "#ds_uv_subsampled = ds_uv #.isel(lat=range(0, NY, 10), lon=range(0, NX, 10)).compute()"
   ]
  },
  {
   "cell_type": "code",
   "execution_count": 22,
   "id": "7251c608-63e7-4fa0-8849-cbf8f80924a1",
   "metadata": {
    "execution": {
     "iopub.execute_input": "2024-01-23T00:58:12.521808Z",
     "iopub.status.busy": "2024-01-23T00:58:12.521196Z",
     "iopub.status.idle": "2024-01-23T00:58:12.544894Z",
     "shell.execute_reply": "2024-01-23T00:58:12.543799Z",
     "shell.execute_reply.started": "2024-01-23T00:58:12.521758Z"
    },
    "tags": []
   },
   "outputs": [],
   "source": [
    "# Compute spatial mean of tasmax over the smaller subdomain around Sydney\n",
    "ds_lsm_c = ds_lsm.sel(lat=slice(latmin_c, latmax_c), lon=slice(lonmin_c, lonmax_c))\n",
    "mask_c = (np.tile(ds_lsm_c['sftlf'], (NT,1,1)) >= 100)\n",
    "ds_tasmax_c = ds_tasmax.sel(lat=slice(latmin_c, latmax_c), lon=slice(lonmin_c, lonmax_c))\n",
    "da_tasmax_spatial_av = ds_tasmax_c['tasmax'].where(mask_c).mean(dim=['lat', 'lon'])"
   ]
  },
  {
   "cell_type": "code",
   "execution_count": null,
   "id": "d38ef9d6-bb96-458e-864d-eb271874dc6d",
   "metadata": {
    "tags": []
   },
   "outputs": [],
   "source": [
    "for time_step in range(0, NT, 3):\n",
    "    \n",
    "    # Plotting for this time step\n",
    "    t = ds_tasmax['time'][time_step]\n",
    "    \n",
    "    # Set up the figure object\n",
    "    fig = plt.figure(figsize=(14, 4))\n",
    "    \n",
    "    #\n",
    "    # First subfigure showing the timeseries of spatial mean tasmax\n",
    "    #\n",
    "    ax1 = plt.subplot(1, 3, 1)\n",
    "    da_tasmax_spatial_av.plot.line()\n",
    "    ax1.plot(t.data, da_tasmax_spatial_av.data[time_step], 'or')\n",
    "    # label the time step\n",
    "    ax1.set_title(t.data)\n",
    "    \n",
    "    #\n",
    "    # Second subfigure plotting temperature and wind vectors\n",
    "    #\n",
    "    ax2 = plt.subplot(1, 3, 2)\n",
    "    # Plot tasmax as background\n",
    "    ds_tasmax.sel(time=t, method='nearest')['tasmax'].plot(vmin=0, vmax=40, cmap=mpl.cm.RdBu_r, cbar_kwargs={\"shrink\": 0.5})\n",
    "    # Plot the 10m wind vector\n",
    "    ds_uv_subsampled.sel(time=t, method='nearest').plot.quiver(x='lon', y='lat', u='uas', v='vas', color='blue')\n",
    "    # Plot surface altitude as contour\n",
    "    ds_orog['orog'].plot.contour(levels=4, colors='k')\n",
    "    # Indicate where is Sydney\n",
    "    ax2.plot(loc[1], loc[0], 'xr', markersize=15)\n",
    "    \n",
    "    #\n",
    "    # Last subfigure plotting low level cloud\n",
    "    #\n",
    "    ax3 = plt.subplot(1, 3, 3)\n",
    "    # Plot cloud \n",
    "    ds_cll['cll'].sel(time=t, method='nearest').plot(vmin=0, vmax=100, cmap=mpl.cm.Greys_r, cbar_kwargs={\"shrink\": 0.5})\n",
    "    # Plot surface altitude as contour\n",
    "    ds_orog['orog'].plot.contour(levels=4, colors='b')\n",
    "    # Indicate where is Sydney\n",
    "    ax3.plot(loc[1], loc[0], 'xr', markersize=15)\n",
    "    \n",
    "    fig.tight_layout()\n",
    "    \n",
    "# this may take a while!"
   ]
  },
  {
   "cell_type": "code",
   "execution_count": null,
   "id": "ef03d87a-fa8a-4d07-83cb-5f926fc5917f",
   "metadata": {},
   "outputs": [],
   "source": []
  }
 ],
 "metadata": {
  "kernelspec": {
   "display_name": "Python 3 (ipykernel)",
   "language": "python",
   "name": "python3"
  },
  "language_info": {
   "codemirror_mode": {
    "name": "ipython",
    "version": 3
   },
   "file_extension": ".py",
   "mimetype": "text/x-python",
   "name": "python",
   "nbconvert_exporter": "python",
   "pygments_lexer": "ipython3",
   "version": "3.9.15"
  }
 },
 "nbformat": 4,
 "nbformat_minor": 5
}
