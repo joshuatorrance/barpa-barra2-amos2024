{
 "cells": [
  {
   "cell_type": "markdown",
   "id": "c328b8e4-e361-4de6-ab2b-097b66c1a461",
   "metadata": {},
   "source": [
    "# AMOS 2024 - Heatwave case study using BARRA2 reanalysis\n",
    "\n",
    "##### In this notebook we demonstrate the use of BARRA2 data in the NCI Data Collection to explore the NSW heatwave of January 2017.\n",
    "\n",
    "##### More information on BARRA2 data: https://opus.nci.org.au/pages/viewpage.action?pageId=264241166\n",
    "\n",
    "##### Before using this notebook, users must join ob53 project via, https://my.nci.org.au/mancini/project/ob53/join"
   ]
  },
  {
   "cell_type": "code",
   "execution_count": null,
   "id": "531e4c97-67bd-4439-8a84-2998b7923df0",
   "metadata": {
    "tags": []
   },
   "outputs": [],
   "source": [
    "import os, sys\n",
    "os.chdir(\"/g/data/hd50/chs548/BARRA2_evaluation/jt/notebooks/\")\n",
    "import loaddata\n",
    "from datetime import datetime as dt\n",
    "# Here we will use the LOADDATA module to simply the loading of the data\n",
    "import loaddata\n",
    "import matplotlib.pyplot as plt\n",
    "import matplotlib as mpl\n",
    "import cartopy.crs as ccrs\n",
    "import numpy as np\n",
    "import xarray as xr"
   ]
  },
  {
   "cell_type": "markdown",
   "id": "99fb3bc0-bb16-4eef-832d-323d6a29684f",
   "metadata": {
    "tags": []
   },
   "source": [
    "#### Explore the data sets - what's available and what they are"
   ]
  },
  {
   "cell_type": "code",
   "execution_count": null,
   "id": "f85187af-b680-45de-af91-6fbec1e9bd47",
   "metadata": {
    "tags": []
   },
   "outputs": [],
   "source": [
    "# What experiments are available in BARRA2 at this time?\n",
    "loaddata.list_experiments(\"BARRA2\")\n",
    "\n",
    "# At this time, we have BARRA-R2 12 km reanalysis data. \n",
    "# Later this year, the BARRA-RE2 ensemble and BARRA-C2 4.4 km reanalysis data will be available."
   ]
  },
  {
   "cell_type": "code",
   "execution_count": null,
   "id": "bfe1874c-779f-475e-bd58-5ef2b7662e4b",
   "metadata": {
    "tags": []
   },
   "outputs": [],
   "source": [
    "# What hourly variables are available?\n",
    "_ = loaddata.list_barra2_variables(\"BARRA-R2\", \"1hr\")"
   ]
  },
  {
   "cell_type": "code",
   "execution_count": null,
   "id": "b3b2cd70-7cbc-4772-8ca9-6ecc26380379",
   "metadata": {
    "tags": []
   },
   "outputs": [],
   "source": [
    "# For heatwave case study, we will look at the screen-level temperature, near-surface wind vector and low level cloud cover\n",
    "# First check they are what they are, and explore different variable options\n",
    "_ = loaddata.whatis(\"1hr\", \"tas\")"
   ]
  },
  {
   "cell_type": "code",
   "execution_count": null,
   "id": "9a13579e-d16f-4d07-ba1f-57e61ced317b",
   "metadata": {
    "tags": []
   },
   "outputs": [],
   "source": [
    "_ = loaddata.whatis(\"1hr\", \"tasmax\")"
   ]
  },
  {
   "cell_type": "code",
   "execution_count": null,
   "id": "ef88ad7c-834b-4006-a08a-4d0359111982",
   "metadata": {
    "tags": []
   },
   "outputs": [],
   "source": [
    "_ = loaddata.whatis(\"1hr\", \"uas\")"
   ]
  },
  {
   "cell_type": "code",
   "execution_count": null,
   "id": "b2d7423e-cf16-4bfc-8e5e-7e008a9d7494",
   "metadata": {
    "tags": []
   },
   "outputs": [],
   "source": [
    "_ = loaddata.whatis(\"1hr\", \"uasmax\")"
   ]
  },
  {
   "cell_type": "code",
   "execution_count": null,
   "id": "77bb1a81-6acd-4b4f-b932-0eb31032a998",
   "metadata": {
    "tags": []
   },
   "outputs": [],
   "source": [
    "_ = loaddata.whatis(\"1hr\", \"vas\")"
   ]
  },
  {
   "cell_type": "code",
   "execution_count": null,
   "id": "4acf2d42-54e8-4473-bc55-19f40a9a5c6d",
   "metadata": {
    "tags": []
   },
   "outputs": [],
   "source": [
    "_ = loaddata.whatis(\"1hr\", \"cll\")"
   ]
  },
  {
   "cell_type": "code",
   "execution_count": null,
   "id": "5ee4b965-465b-4805-874a-7cd979c1bb35",
   "metadata": {
    "tags": []
   },
   "outputs": [],
   "source": [
    "_ = loaddata.whatis(\"fx\", \"orog\")"
   ]
  },
  {
   "cell_type": "code",
   "execution_count": null,
   "id": "54b55307-efe7-4059-be3c-7bb753542c40",
   "metadata": {
    "tags": []
   },
   "outputs": [],
   "source": [
    "_ = loaddata.whatis(\"fx\", \"sftlf\")"
   ]
  },
  {
   "cell_type": "markdown",
   "id": "8d007cbc-b4de-4332-9a91-4851728a6b10",
   "metadata": {},
   "source": [
    "#### Function to load the data"
   ]
  },
  {
   "cell_type": "code",
   "execution_count": null,
   "id": "f98ba07a-793a-44dd-82be-eda2f5763eeb",
   "metadata": {
    "tags": []
   },
   "outputs": [],
   "source": [
    "# We will use hourly maximum temperature (tasmax), hourly inst u and v (uas, vas), and hourly mean low-level cloud cover (cll)\n",
    "# But feel free to explore other variables of your interests, such as pressure-level variables such as va850, ta850\n",
    "help(loaddata.load_barra2_data)"
   ]
  },
  {
   "cell_type": "markdown",
   "id": "2c9fd1be-e0f2-4b66-9fc0-1611604f61ba",
   "metadata": {
    "execution": {
     "iopub.execute_input": "2024-01-23T03:08:46.936787Z",
     "iopub.status.busy": "2024-01-23T03:08:46.936327Z",
     "iopub.status.idle": "2024-01-23T03:08:46.942289Z",
     "shell.execute_reply": "2024-01-23T03:08:46.940985Z",
     "shell.execute_reply.started": "2024-01-23T03:08:46.936743Z"
    }
   },
   "source": [
    "#### What's the temperature in the region around Sydney during January 2017?\n",
    "\n",
    "##### Plot the spatial mean of tasmax over during the few months and pick a smaller time period to examine"
   ]
  },
  {
   "cell_type": "code",
   "execution_count": null,
   "id": "a1c4217d-caf0-4620-8331-235f2119bffa",
   "metadata": {
    "tags": []
   },
   "outputs": [],
   "source": [
    "loc = (-33.8688, 151.2093)\n",
    "latmin_c = loc[0] - 1\n",
    "latmax_c = loc[0] + 1\n",
    "lonmin_c = loc[1] - 1\n",
    "lonmax_c = loc[1] + 1\n",
    "tstart = dt(2016, 12, 1)\n",
    "tend = dt(2017, 4, 1)\n",
    "\n",
    "# Load tasmax data\n",
    "ds_tasmax = loaddata.load_barra2_data(\"BARRA-R2\", \"1hr\", \"tasmax\", \n",
    "                                      tstart=tstart, tend=tend,\n",
    "                                      latrange=(latmin_c, latmax_c),\n",
    "                                      lonrange=(lonmin_c, lonmax_c))\n",
    "# Convert to degC\n",
    "ds_tasmax['tasmax'] = ds_tasmax['tasmax'] - 273.15\n",
    "# TODO: update units attribute\n",
    "(NT, NY, NX) = ds_tasmax['tasmax'].shape\n",
    "\n",
    "# Load land sea mask\n",
    "ds_lsm = loaddata.load_barra2_data(\"BARRA-R2\", \"fx\", \"sftlf\",\n",
    "                                   latrange=(latmin_c, latmax_c),\n",
    "                                      lonrange=(lonmin_c, lonmax_c))\n",
    "\n",
    "# Compute spatial mean of tasmax over land, over the smaller subdomain around Sydney\n",
    "mask = (np.tile(ds_lsm['sftlf'].values, (NT,1,1)) >= 100)\n",
    "da_tasmax_spatial_av = ds_tasmax['tasmax'].where(mask).mean(dim=['lat', 'lon'])"
   ]
  },
  {
   "cell_type": "code",
   "execution_count": null,
   "id": "10103357-e618-4ee8-85ea-52740a297bfd",
   "metadata": {
    "tags": []
   },
   "outputs": [],
   "source": [
    "fig = plt.figure(figsize=(10, 3))\n",
    "\n",
    "# \n",
    "t0 = dt(2017, 2, 7)\n",
    "t1 = dt(2017, 2, 14)\n",
    "#\n",
    "# First subfigure showing the temperature changes during the whole period\n",
    "# \n",
    "ax = plt.subplot(1, 2, 1)\n",
    "da_tasmax_spatial_av.plot.line()\n",
    "plt.axvline(x=t0, color='r')\n",
    "plt.axvline(x=t1, color='r')\n",
    "#\n",
    "# Second subfigure showing the temperature changes \n",
    "# \n",
    "ax = plt.subplot(1, 2, 2)\n",
    "da_tasmax_spatial_av.sel(time=slice(t0, t1)).plot.line()"
   ]
  },
  {
   "cell_type": "markdown",
   "id": "ad39907b-7607-4cbe-a34e-f259f30f08cb",
   "metadata": {},
   "source": [
    "#### Define domain and time of interests"
   ]
  },
  {
   "cell_type": "code",
   "execution_count": null,
   "id": "43dc33f9-f309-4929-af69-87f45cb4e48a",
   "metadata": {
    "tags": []
   },
   "outputs": [],
   "source": [
    "# Define domain and time of interests as per above\n",
    "tstart = dt(2017, 2, 8)\n",
    "tend = dt(2017, 2, 14)\n",
    "\n",
    "latmin_r = loc[0] - 5\n",
    "latmax_r = loc[0] + 5\n",
    "lonmin_r = loc[1] - 5\n",
    "lonmax_r = loc[1] + 5"
   ]
  },
  {
   "cell_type": "markdown",
   "id": "2eef63e9-ae09-4a94-a46c-c79cebc3b8bf",
   "metadata": {},
   "source": [
    "#### Load the data sets"
   ]
  },
  {
   "cell_type": "code",
   "execution_count": null,
   "id": "e4272896-da3e-40a3-b095-e1c58aac1e9c",
   "metadata": {
    "tags": []
   },
   "outputs": [],
   "source": [
    "# Load the orography data\n",
    "ds_orog = loaddata.load_barra2_data(\"BARRA-R2\", \"fx\", \"orog\", \n",
    "                                    latrange=(latmin_r, latmax_r),\n",
    "                                      lonrange=(lonmin_r, lonmax_r))\n",
    "# Load land sea mask\n",
    "ds_lsm = loaddata.load_barra2_data(\"BARRA-R2\", \"fx\", \"sftlf\",\n",
    "                                   latrange=(latmin_r, latmax_r),\n",
    "                                      lonrange=(lonmin_r, lonmax_r))"
   ]
  },
  {
   "cell_type": "code",
   "execution_count": null,
   "id": "91e7c7ce-5b91-40d1-bdb5-46f66ba879ba",
   "metadata": {
    "tags": []
   },
   "outputs": [],
   "source": [
    "ds_tasmax = loaddata.load_barra2_data(\"BARRA-R2\", \"1hr\", \"tasmax\", \n",
    "                                      tstart=tstart, tend=tend,\n",
    "                                      latrange=(latmin_r, latmax_r),\n",
    "                                      lonrange=(lonmin_r, lonmax_r))\n",
    "ds_uas = loaddata.load_barra2_data(\"BARRA-R2\", \"1hr\", \"uas\", \n",
    "                                      tstart=tstart, tend=tend,\n",
    "                                      latrange=(latmin_r, latmax_r),\n",
    "                                      lonrange=(lonmin_r, lonmax_r))\n",
    "ds_vas = loaddata.load_barra2_data(\"BARRA-R2\", \"1hr\", \"vas\", \n",
    "                                      tstart=tstart, tend=tend,\n",
    "                                      latrange=(latmin_r, latmax_r),\n",
    "                                      lonrange=(lonmin_r, lonmax_r))\n",
    "ds_cll = loaddata.load_barra2_data(\"BARRA-R2\", \"1hr\", \"cll\", \n",
    "                                      tstart=tstart, tend=tend,\n",
    "                                      latrange=(latmin_r, latmax_r),\n",
    "                                      lonrange=(lonmin_r, lonmax_r))"
   ]
  },
  {
   "cell_type": "markdown",
   "id": "232a2182-ceb9-4782-a91c-8b44e6c9eed3",
   "metadata": {},
   "source": [
    "#### Pre-process the data for plotting"
   ]
  },
  {
   "cell_type": "code",
   "execution_count": null,
   "id": "5d7ab80b-4748-4f10-bed6-44c289c76009",
   "metadata": {
    "tags": []
   },
   "outputs": [],
   "source": [
    "# Convert temperature from K to degC\n",
    "ds_tasmax['tasmax' ] = ds_tasmax['tasmax'] - 273.15\n",
    "(NT, NY, NX) = ds_tasmax['tasmax'].shape"
   ]
  },
  {
   "cell_type": "code",
   "execution_count": null,
   "id": "2666cdcb-1579-4d5a-b57c-4a4e806ce9ab",
   "metadata": {
    "tags": []
   },
   "outputs": [],
   "source": [
    "# Combine uas and vas into a single xr.Dataset object\n",
    "ds_uv = xr.merge([ds_uas['uas'], ds_vas['vas']])\n",
    "# Thin the data horizontally for plotting purposes, to avoid having very densed wind vectors\n",
    "ds_uv_subsampled = ds_uv.isel(lat=range(0, NY, 7), lon=range(0, NX, 7)).compute()"
   ]
  },
  {
   "cell_type": "code",
   "execution_count": null,
   "id": "7251c608-63e7-4fa0-8849-cbf8f80924a1",
   "metadata": {
    "tags": []
   },
   "outputs": [],
   "source": [
    "# Compute spatial mean of tasmax over the smaller subdomain around Sydney\n",
    "ds_lsm_c = ds_lsm.sel(lat=slice(latmin_c, latmax_c), lon=slice(lonmin_c, lonmax_c))\n",
    "mask_c = (np.tile(ds_lsm_c['sftlf'], (NT,1,1)) >= 100)\n",
    "ds_tasmax_c = ds_tasmax.sel(lat=slice(latmin_c, latmax_c), lon=slice(lonmin_c, lonmax_c))\n",
    "da_tasmax_spatial_av = ds_tasmax_c['tasmax'].where(mask_c).mean(dim=['lat', 'lon'])"
   ]
  },
  {
   "cell_type": "markdown",
   "id": "f70c63a9-8636-4727-bee2-3153496f46ea",
   "metadata": {},
   "source": [
    "#### Plot the heatwave with a series of 3-panels\n",
    "\n",
    "##### Each 3-panel shows,\n",
    "##### Left: Timeseries of tasmax around Sydney\n",
    "##### Middle: Spatial maps of tasmax and 10 m wind\n",
    "##### Right: Spatial maps of cloud cover"
   ]
  },
  {
   "cell_type": "code",
   "execution_count": null,
   "id": "d38ef9d6-bb96-458e-864d-eb271874dc6d",
   "metadata": {
    "tags": []
   },
   "outputs": [],
   "source": [
    "for time_step in range(0, NT, 3):\n",
    "    \n",
    "    # Plotting for this time step\n",
    "    t = ds_tasmax['time'][time_step]\n",
    "    \n",
    "    # Set up the figure object\n",
    "    fig = plt.figure(figsize=(14, 4))\n",
    "    \n",
    "    #\n",
    "    # First subfigure showing the timeseries of spatial mean tasmax\n",
    "    #\n",
    "    ax1 = plt.subplot(1, 3, 1)\n",
    "    da_tasmax_spatial_av.plot.line()\n",
    "    ax1.plot(t.data, da_tasmax_spatial_av.data[time_step], 'or')\n",
    "    # label the time step\n",
    "    ax1.set_title(t.data)\n",
    "    \n",
    "    #\n",
    "    # Second subfigure plotting temperature and wind vectors\n",
    "    #\n",
    "    ax2 = plt.subplot(1, 3, 2)\n",
    "    # Plot tasmax as background\n",
    "    ds_tasmax.sel(time=t, method='nearest')['tasmax'].plot(vmin=0, vmax=40, cmap=mpl.cm.RdBu_r, cbar_kwargs={\"shrink\": 0.5})\n",
    "    # Plot the 10m wind vector\n",
    "    ds_uv_subsampled.sel(time=t, method='nearest').plot.quiver(x='lon', y='lat', u='uas', v='vas', color='blue')\n",
    "    # Plot surface altitude as contour\n",
    "    ds_orog['orog'].plot.contour(levels=4, colors='k')\n",
    "    # Indicate where is Sydney\n",
    "    ax2.plot(loc[1], loc[0], 'xr', markersize=15)\n",
    "    \n",
    "    #\n",
    "    # Last subfigure plotting low level cloud\n",
    "    #\n",
    "    ax3 = plt.subplot(1, 3, 3)\n",
    "    # Plot cloud \n",
    "    ds_cll['cll'].sel(time=t, method='nearest').plot(vmin=0, vmax=100, cmap=mpl.cm.Greys_r, cbar_kwargs={\"shrink\": 0.5})\n",
    "    # Plot surface altitude as contour\n",
    "    ds_orog['orog'].plot.contour(levels=4, colors='b')\n",
    "    # Indicate where is Sydney\n",
    "    ax3.plot(loc[1], loc[0], 'xr', markersize=15)\n",
    "    \n",
    "    fig.tight_layout()\n",
    "    \n",
    "# this may take a while!"
   ]
  },
  {
   "cell_type": "code",
   "execution_count": null,
   "id": "ef03d87a-fa8a-4d07-83cb-5f926fc5917f",
   "metadata": {},
   "outputs": [],
   "source": []
  }
 ],
 "metadata": {
  "kernelspec": {
   "display_name": "Python 3 (ipykernel)",
   "language": "python",
   "name": "python3"
  },
  "language_info": {
   "codemirror_mode": {
    "name": "ipython",
    "version": 3
   },
   "file_extension": ".py",
   "mimetype": "text/x-python",
   "name": "python",
   "nbconvert_exporter": "python",
   "pygments_lexer": "ipython3",
   "version": "3.9.15"
  }
 },
 "nbformat": 4,
 "nbformat_minor": 5
}
