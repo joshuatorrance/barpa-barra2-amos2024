{
 "cells": [
  {
   "cell_type": "markdown",
   "id": "c328b8e4-e361-4de6-ab2b-097b66c1a461",
   "metadata": {},
   "source": [
    "# AMOS 2024 - (ANIMATED) Heatwave case study using BARRA2 reanalysis\n",
    "\n",
    "##### In this notebook we demonstrate the use of BARRA2 data in the NCI Data Collection to explore the NSW heatwave of January 2017.\n",
    "\n",
    "##### More information on BARRA2 data: https://opus.nci.org.au/pages/viewpage.action?pageId=264241166\n",
    "\n",
    "##### Before using this notebook, users must join ob53 project via, https://my.nci.org.au/mancini/project/ob53/join"
   ]
  },
  {
   "cell_type": "code",
   "execution_count": 1,
   "id": "0d887f13-59c8-492e-bbe3-f2ae327a4050",
   "metadata": {
    "execution": {
     "iopub.execute_input": "2024-01-22T23:29:16.006659Z",
     "iopub.status.busy": "2024-01-22T23:29:16.006054Z",
     "iopub.status.idle": "2024-01-22T23:29:16.431996Z",
     "shell.execute_reply": "2024-01-22T23:29:16.430981Z",
     "shell.execute_reply.started": "2024-01-22T23:29:16.006599Z"
    },
    "tags": []
   },
   "outputs": [],
   "source": [
    "%matplotlib notebook"
   ]
  },
  {
   "cell_type": "code",
   "execution_count": 52,
   "id": "531e4c97-67bd-4439-8a84-2998b7923df0",
   "metadata": {
    "execution": {
     "iopub.execute_input": "2024-01-23T01:01:10.155182Z",
     "iopub.status.busy": "2024-01-23T01:01:10.154572Z",
     "iopub.status.idle": "2024-01-23T01:01:10.163291Z",
     "shell.execute_reply": "2024-01-23T01:01:10.161853Z",
     "shell.execute_reply.started": "2024-01-23T01:01:10.155124Z"
    },
    "tags": []
   },
   "outputs": [],
   "source": [
    "import os, sys\n",
    "os.chdir(\"/g/data/hd50/chs548/BARRA2_evaluation/jt/notebooks/\")\n",
    "import loaddata\n",
    "from datetime import datetime as dt\n",
    "# Here we will use the LOADDATA module to simplify the loading of the data\n",
    "import loaddata\n",
    "import matplotlib.pyplot as plt\n",
    "import matplotlib as mpl\n",
    "import cartopy.crs as ccrs\n",
    "import numpy as np\n",
    "import xarray as xr"
   ]
  },
  {
   "cell_type": "code",
   "execution_count": 61,
   "id": "e77ce1cb-8c5c-4890-b50a-eb768f60c057",
   "metadata": {
    "execution": {
     "iopub.execute_input": "2024-01-23T01:24:05.332878Z",
     "iopub.status.busy": "2024-01-23T01:24:05.332288Z",
     "iopub.status.idle": "2024-01-23T01:24:05.345641Z",
     "shell.execute_reply": "2024-01-23T01:24:05.344342Z",
     "shell.execute_reply.started": "2024-01-23T01:24:05.332816Z"
    },
    "tags": []
   },
   "outputs": [
    {
     "data": {
      "text/plain": [
       "<contextlib.ExitStack at 0x15015edd4850>"
      ]
     },
     "execution_count": 61,
     "metadata": {},
     "output_type": "execute_result"
    }
   ],
   "source": [
    "# In order to highlight the rich data available from BARPA, this tutorial features animations\n",
    "# The following settings, as well as \"%matplotlib notebook\" at the beginning of the note-book, allow these animations to run\n",
    "\n",
    "from matplotlib.widgets import Slider\n",
    "from matplotlib.animation import FuncAnimation\n",
    "plt.rcParams[\"animation.html\"] = \"jshtml\"\n",
    "plt.rcParams['figure.dpi'] = 150  \n",
    "plt.rcParams['animation.embed_limit'] = 2**128\n",
    "plt.ioff()"
   ]
  },
  {
   "cell_type": "code",
   "execution_count": 2,
   "id": "f85187af-b680-45de-af91-6fbec1e9bd47",
   "metadata": {
    "execution": {
     "iopub.execute_input": "2024-01-22T05:48:15.584929Z",
     "iopub.status.busy": "2024-01-22T05:48:15.583539Z",
     "iopub.status.idle": "2024-01-22T05:48:15.599950Z",
     "shell.execute_reply": "2024-01-22T05:48:15.598446Z",
     "shell.execute_reply.started": "2024-01-22T05:48:15.584862Z"
    },
    "tags": []
   },
   "outputs": [
    {
     "name": "stdout",
     "output_type": "stream",
     "text": [
      "{domain}   {era5_mem}   {model}\n",
      "AUS-11   hres   BARRA-R2\n"
     ]
    }
   ],
   "source": [
    "# What experiments are available in BARRA2 at this time?\n",
    "loaddata.list_experiments(\"BARRA2\")\n",
    "\n",
    "# At this time, we have BARRA-R2 12 km reanalysis data. \n",
    "# Later this year, the BARRA-RE2 ensemble and BARRA-C2 4.4 km reanalysis data will be available."
   ]
  },
  {
   "cell_type": "code",
   "execution_count": 8,
   "id": "bfe1874c-779f-475e-bd58-5ef2b7662e4b",
   "metadata": {
    "execution": {
     "iopub.execute_input": "2024-01-19T01:43:34.188597Z",
     "iopub.status.busy": "2024-01-19T01:43:34.187989Z",
     "iopub.status.idle": "2024-01-19T01:43:34.197299Z",
     "shell.execute_reply": "2024-01-19T01:43:34.195778Z",
     "shell.execute_reply.started": "2024-01-19T01:43:34.188539Z"
    },
    "tags": []
   },
   "outputs": [
    {
     "name": "stdout",
     "output_type": "stream",
     "text": [
      "rsut, rluscs, ta1500m, va400, pr, ta200m, ta700, clwvi, hus500, tas, uasmean, mrsos, ua400, zg925, ta250m, rlus, prc, va150m, ua300, zg300, zg400, zg850, ua850, va250m, va200m, ta600, rsdscs, wa300, ua50m, hus200, ps, ta50m, omega500, prsn, va600, tasmean, cll, hus400, vasmean, wa700, wsgsmax, uasmax, vasmax, ua250m, CAPE, va850, ua700, ua1000, hus1000, ua200m, va700, hus950, ua150m, ua1500m, prw, va300, wa1000, ua600, ua100m, ua925, zg200, wa600, va100m, va200, rsutcs, rsds, evspsblpot, hus600, zg1000, ua500, sfcWind, mrfsos, hfls, ta850, ta100m, ua200, rsdt, clh, va925, zg600, hus300, zg500, hurs, psl, ts, vas, huss, rldscs, ta925, ta150m, wa500, va1500m, uas, hus700, ta500, zg700, clivi, wa200, va50m, ta200, rlutcs, tasmin, ta300, clm, CIN, ta400, rlds, wa400, zmla, va1000, rsdsdir, rsuscs, hfss, rlut, wa850, ta1000, va500, clt, ta950, wa925, tasmax, hus850, rsus, hus925\n"
     ]
    }
   ],
   "source": [
    "# What hourly variables are available?\n",
    "_ = loaddata.list_barra2_variables(\"BARRA-R2\", \"1hr\")"
   ]
  },
  {
   "cell_type": "code",
   "execution_count": 9,
   "id": "b3b2cd70-7cbc-4772-8ca9-6ecc26380379",
   "metadata": {
    "execution": {
     "iopub.execute_input": "2024-01-19T01:45:02.982670Z",
     "iopub.status.busy": "2024-01-19T01:45:02.982050Z",
     "iopub.status.idle": "2024-01-19T01:45:03.644810Z",
     "shell.execute_reply": "2024-01-19T01:45:03.644092Z",
     "shell.execute_reply.started": "2024-01-19T01:45:02.982613Z"
    }
   },
   "outputs": [
    {
     "name": "stdout",
     "output_type": "stream",
     "text": [
      "Short name: tas\n",
      "long_name: Near-Surface Air Temperature\n",
      "standard_name: air_temperature\n",
      "units: K\n",
      "cell_methods: time: point (interval: 1H)\n"
     ]
    }
   ],
   "source": [
    "# For heatwave case study, we will look at the screen-level temperature, near-surface wind vector and low level cloud cover\n",
    "# First check they are what they are, and explore different variable options\n",
    "_ = loaddata.whatis(\"1hr\", \"tas\")"
   ]
  },
  {
   "cell_type": "code",
   "execution_count": 10,
   "id": "9a13579e-d16f-4d07-ba1f-57e61ced317b",
   "metadata": {
    "execution": {
     "iopub.execute_input": "2024-01-19T01:45:16.308053Z",
     "iopub.status.busy": "2024-01-19T01:45:16.307442Z",
     "iopub.status.idle": "2024-01-19T01:45:16.452761Z",
     "shell.execute_reply": "2024-01-19T01:45:16.451394Z",
     "shell.execute_reply.started": "2024-01-19T01:45:16.307995Z"
    }
   },
   "outputs": [
    {
     "name": "stdout",
     "output_type": "stream",
     "text": [
      "Short name: tasmax\n",
      "long_name: Hourly Maximum Near-Surface Air Temperature\n",
      "standard_name: air_temperature\n",
      "units: K\n",
      "cell_methods: time: maximum (interval: 1 hour)\n"
     ]
    }
   ],
   "source": [
    "_ = loaddata.whatis(\"1hr\", \"tasmax\")"
   ]
  },
  {
   "cell_type": "code",
   "execution_count": 14,
   "id": "ef88ad7c-834b-4006-a08a-4d0359111982",
   "metadata": {
    "execution": {
     "iopub.execute_input": "2024-01-19T01:46:10.238393Z",
     "iopub.status.busy": "2024-01-19T01:46:10.237713Z",
     "iopub.status.idle": "2024-01-19T01:46:10.275428Z",
     "shell.execute_reply": "2024-01-19T01:46:10.274526Z",
     "shell.execute_reply.started": "2024-01-19T01:46:10.238337Z"
    },
    "tags": []
   },
   "outputs": [
    {
     "name": "stdout",
     "output_type": "stream",
     "text": [
      "Short name: uas\n",
      "long_name: Eastward Near-Surface Wind\n",
      "standard_name: eastward_wind\n",
      "units: m s-1\n",
      "cell_methods: time: point (interval: 1H) area: interpolation (method: bilinear)\n"
     ]
    }
   ],
   "source": [
    "_ = loaddata.whatis(\"1hr\", \"uas\")"
   ]
  },
  {
   "cell_type": "code",
   "execution_count": 16,
   "id": "b2d7423e-cf16-4bfc-8e5e-7e008a9d7494",
   "metadata": {
    "execution": {
     "iopub.execute_input": "2024-01-19T01:47:11.751992Z",
     "iopub.status.busy": "2024-01-19T01:47:11.751384Z",
     "iopub.status.idle": "2024-01-19T01:47:11.787770Z",
     "shell.execute_reply": "2024-01-19T01:47:11.786850Z",
     "shell.execute_reply.started": "2024-01-19T01:47:11.751936Z"
    }
   },
   "outputs": [
    {
     "name": "stdout",
     "output_type": "stream",
     "text": [
      "Short name: uasmax\n",
      "long_name: Eastward Near-Surface Wind\n",
      "standard_name: eastward_wind\n",
      "units: m s-1\n",
      "cell_methods: area: interpolation (method: bilinear) time: maximum (interval: 1H)\n"
     ]
    }
   ],
   "source": [
    "_ = loaddata.whatis(\"1hr\", \"uasmax\")"
   ]
  },
  {
   "cell_type": "code",
   "execution_count": 12,
   "id": "77bb1a81-6acd-4b4f-b932-0eb31032a998",
   "metadata": {
    "execution": {
     "iopub.execute_input": "2024-01-19T01:45:42.748135Z",
     "iopub.status.busy": "2024-01-19T01:45:42.746603Z",
     "iopub.status.idle": "2024-01-19T01:45:43.047429Z",
     "shell.execute_reply": "2024-01-19T01:45:43.046287Z",
     "shell.execute_reply.started": "2024-01-19T01:45:42.748060Z"
    }
   },
   "outputs": [
    {
     "name": "stdout",
     "output_type": "stream",
     "text": [
      "Short name: vas\n",
      "long_name: Northward Near-Surface Wind\n",
      "standard_name: northward_wind\n",
      "units: m s-1\n",
      "cell_methods: time: point (interval: 1H) area: interpolation (method: bilinear)\n"
     ]
    }
   ],
   "source": [
    "_ = loaddata.whatis(\"1hr\", \"vas\")"
   ]
  },
  {
   "cell_type": "code",
   "execution_count": 109,
   "id": "4acf2d42-54e8-4473-bc55-19f40a9a5c6d",
   "metadata": {
    "execution": {
     "iopub.execute_input": "2024-01-19T05:23:14.032568Z",
     "iopub.status.busy": "2024-01-19T05:23:14.031992Z",
     "iopub.status.idle": "2024-01-19T05:23:14.146258Z",
     "shell.execute_reply": "2024-01-19T05:23:14.145126Z",
     "shell.execute_reply.started": "2024-01-19T05:23:14.032516Z"
    },
    "tags": []
   },
   "outputs": [
    {
     "name": "stdout",
     "output_type": "stream",
     "text": [
      "Short name: cll\n",
      "long_name: Low Level Cloud Fraction\n",
      "standard_name: cloud_area_fraction_in_atmosphere_layer\n",
      "units: %\n",
      "cell_methods: time: mean (interval: 1 hour)\n"
     ]
    }
   ],
   "source": [
    "_ = loaddata.whatis(\"1hr\", \"cll\")"
   ]
  },
  {
   "cell_type": "code",
   "execution_count": 37,
   "id": "5ee4b965-465b-4805-874a-7cd979c1bb35",
   "metadata": {
    "execution": {
     "iopub.execute_input": "2024-01-19T02:00:54.860023Z",
     "iopub.status.busy": "2024-01-19T02:00:54.859370Z",
     "iopub.status.idle": "2024-01-19T02:00:54.927240Z",
     "shell.execute_reply": "2024-01-19T02:00:54.926005Z",
     "shell.execute_reply.started": "2024-01-19T02:00:54.859958Z"
    }
   },
   "outputs": [
    {
     "name": "stdout",
     "output_type": "stream",
     "text": [
      "Short name: orog\n",
      "long_name: Surface Altitude\n",
      "standard_name: surface_altitude\n",
      "units: m\n",
      "frequency: fx\n"
     ]
    }
   ],
   "source": [
    "_ = loaddata.whatis(\"fx\", \"orog\")"
   ]
  },
  {
   "cell_type": "code",
   "execution_count": 131,
   "id": "54b55307-efe7-4059-be3c-7bb753542c40",
   "metadata": {
    "execution": {
     "iopub.execute_input": "2024-01-19T05:33:05.897561Z",
     "iopub.status.busy": "2024-01-19T05:33:05.896991Z",
     "iopub.status.idle": "2024-01-19T05:33:05.965434Z",
     "shell.execute_reply": "2024-01-19T05:33:05.964202Z",
     "shell.execute_reply.started": "2024-01-19T05:33:05.897509Z"
    },
    "tags": []
   },
   "outputs": [
    {
     "name": "stdout",
     "output_type": "stream",
     "text": [
      "Short name: sftlf\n",
      "long_name: Percentage of the grid  cell occupied by land (including lakes)\n",
      "standard_name: land_area_fraction\n",
      "units: %\n",
      "frequency: fx\n"
     ]
    }
   ],
   "source": [
    "_ = loaddata.whatis(\"fx\", \"sftlf\")"
   ]
  },
  {
   "cell_type": "code",
   "execution_count": 43,
   "id": "43dc33f9-f309-4929-af69-87f45cb4e48a",
   "metadata": {
    "execution": {
     "iopub.execute_input": "2024-01-23T00:53:47.631200Z",
     "iopub.status.busy": "2024-01-23T00:53:47.630529Z",
     "iopub.status.idle": "2024-01-23T00:53:47.641001Z",
     "shell.execute_reply": "2024-01-23T00:53:47.639544Z",
     "shell.execute_reply.started": "2024-01-23T00:53:47.631149Z"
    },
    "tags": []
   },
   "outputs": [],
   "source": [
    "# Define domain and time of interests around Sydney\n",
    "# The domain and time period are defined based on AMOS2024_exercise_heatwave_BARRA2.ipynb\n",
    "tstart = dt(2017, 2, 8)\n",
    "tend = dt(2017, 2, 14)\n",
    "\n",
    "loc = (-33.8688, 151.2093)\n",
    "latmin_c = loc[0] - 1\n",
    "latmax_c = loc[0] + 1\n",
    "lonmin_c = loc[1] - 1\n",
    "lonmax_c = loc[1] + 1\n",
    "\n",
    "latmin_r = loc[0] - 5\n",
    "latmax_r = loc[0] + 5\n",
    "lonmin_r = loc[1] - 5\n",
    "lonmax_r = loc[1] + 5"
   ]
  },
  {
   "cell_type": "code",
   "execution_count": 44,
   "id": "e4272896-da3e-40a3-b095-e1c58aac1e9c",
   "metadata": {
    "execution": {
     "iopub.execute_input": "2024-01-23T00:53:59.344101Z",
     "iopub.status.busy": "2024-01-23T00:53:59.343489Z",
     "iopub.status.idle": "2024-01-23T00:53:59.388439Z",
     "shell.execute_reply": "2024-01-23T00:53:59.387442Z",
     "shell.execute_reply.started": "2024-01-23T00:53:59.344044Z"
    },
    "tags": []
   },
   "outputs": [],
   "source": [
    "# Load the orography data\n",
    "ds_orog = loaddata.load_barra2_data(\"BARRA-R2\", \"fx\", \"orog\", \n",
    "                                    latrange=(latmin_r, latmax_r),\n",
    "                                      lonrange=(lonmin_r, lonmax_r))\n",
    "# Load land sea mask\n",
    "ds_lsm = loaddata.load_barra2_data(\"BARRA-R2\", \"fx\", \"sftlf\",\n",
    "                                   latrange=(latmin_r, latmax_r),\n",
    "                                      lonrange=(lonmin_r, lonmax_r))"
   ]
  },
  {
   "cell_type": "code",
   "execution_count": 45,
   "id": "91e7c7ce-5b91-40d1-bdb5-46f66ba879ba",
   "metadata": {
    "execution": {
     "iopub.execute_input": "2024-01-23T00:55:03.494267Z",
     "iopub.status.busy": "2024-01-23T00:55:03.493668Z",
     "iopub.status.idle": "2024-01-23T00:55:03.669682Z",
     "shell.execute_reply": "2024-01-23T00:55:03.668722Z",
     "shell.execute_reply.started": "2024-01-23T00:55:03.494210Z"
    },
    "tags": []
   },
   "outputs": [],
   "source": [
    "ds_tasmax = loaddata.load_barra2_data(\"BARRA-R2\", \"1hr\", \"tasmax\", \n",
    "                                      tstart=tstart, tend=tend,\n",
    "                                      latrange=(latmin_r, latmax_r),\n",
    "                                      lonrange=(lonmin_r, lonmax_r))\n",
    "ds_uas = loaddata.load_barra2_data(\"BARRA-R2\", \"1hr\", \"uas\", \n",
    "                                      tstart=tstart, tend=tend,\n",
    "                                      latrange=(latmin_r, latmax_r),\n",
    "                                      lonrange=(lonmin_r, lonmax_r))\n",
    "ds_vas = loaddata.load_barra2_data(\"BARRA-R2\", \"1hr\", \"vas\", \n",
    "                                      tstart=tstart, tend=tend,\n",
    "                                      latrange=(latmin_r, latmax_r),\n",
    "                                      lonrange=(lonmin_r, lonmax_r))\n",
    "ds_cll = loaddata.load_barra2_data(\"BARRA-R2\", \"1hr\", \"cll\", \n",
    "                                      tstart=tstart, tend=tend,\n",
    "                                      latrange=(latmin_r, latmax_r),\n",
    "                                      lonrange=(lonmin_r, lonmax_r))\n",
    "\n",
    "# Convert temperature from K to degC\n",
    "ds_tasmax['tasmax' ] = ds_tasmax['tasmax'] - 273.15\n",
    "(NT, NY, NX) = ds_tasmax['tasmax'].shape"
   ]
  },
  {
   "cell_type": "code",
   "execution_count": 46,
   "id": "2666cdcb-1579-4d5a-b57c-4a4e806ce9ab",
   "metadata": {
    "execution": {
     "iopub.execute_input": "2024-01-23T00:55:04.414567Z",
     "iopub.status.busy": "2024-01-23T00:55:04.413788Z",
     "iopub.status.idle": "2024-01-23T00:55:26.891297Z",
     "shell.execute_reply": "2024-01-23T00:55:26.890068Z",
     "shell.execute_reply.started": "2024-01-23T00:55:04.414493Z"
    },
    "tags": []
   },
   "outputs": [],
   "source": [
    "# Combine uas and vas into a single xr.Dataset object\n",
    "ds_uv = xr.merge([ds_uas['uas'], ds_vas['vas']])\n",
    "ds_uv_subsampled = ds_uv.isel(lat=range(0, NY, 7), lon=range(0, NX, 7)).compute()"
   ]
  },
  {
   "cell_type": "code",
   "execution_count": 47,
   "id": "7251c608-63e7-4fa0-8849-cbf8f80924a1",
   "metadata": {
    "execution": {
     "iopub.execute_input": "2024-01-23T00:57:04.776222Z",
     "iopub.status.busy": "2024-01-23T00:57:04.775556Z",
     "iopub.status.idle": "2024-01-23T00:57:04.824457Z",
     "shell.execute_reply": "2024-01-23T00:57:04.823021Z",
     "shell.execute_reply.started": "2024-01-23T00:57:04.776147Z"
    },
    "tags": []
   },
   "outputs": [],
   "source": [
    "# Compute spatial mean of tasmax over land, over the smaller subdomain around Sydney\n",
    "ds_lsm_c = ds_lsm.sel(lat=slice(latmin_c, latmax_c), lon=slice(lonmin_c, lonmax_c))\n",
    "mask_c = (np.tile(ds_lsm_c['sftlf'], (NT,1,1)) >= 100)\n",
    "\n",
    "ds_tasmax_c = ds_tasmax.sel(lat=slice(latmin_c, latmax_c), lon=slice(lonmin_c, lonmax_c))\n",
    "\n",
    "da_tasmax_spatial_av = ds_tasmax_c['tasmax'].where(mask_c).mean(dim=['lat', 'lon'])"
   ]
  },
  {
   "cell_type": "code",
   "execution_count": null,
   "id": "f8f211d8-9f8a-4419-8e3d-2df4ffd9c5ec",
   "metadata": {
    "tags": []
   },
   "outputs": [],
   "source": [
    "# to create an animation we first create the initial frame. \n",
    "\n",
    "# set up the figure\n",
    "fig=plt.figure(figsize=(14,5)) # set up figure\n",
    "\n",
    "#\n",
    "# Populate the initial frame\n",
    "#\n",
    "time_step = 0\n",
    "t = ds_tasmax['time'][time_step]\n",
    "\n",
    "#\n",
    "# First subfigure showing the timeseries of spatial mean tasmax\n",
    "#\n",
    "ax1 = plt.subplot(1, 3, 1)\n",
    "fig1_tasmax = da_tasmax_spatial_av.plot.line()\n",
    "fig1_dot = ax1.plot(t.data, da_tasmax_spatial_av.data[time_step], 'or')\n",
    "#  label the time step\n",
    "ax1.set_title(t.data)\n",
    "\n",
    "#\n",
    "# Second subfigure plotting temperature and wind vectors\n",
    "#\n",
    "ax2 = plt.subplot(1, 3, 2)\n",
    "# Plot tasmax as background\n",
    "fig2_tasmax = ds_tasmax.sel(time=t, method='nearest')['tasmax'].plot(vmin=0, vmax=40, cmap=mpl.cm.RdBu_r, cbar_kwargs={\"shrink\": 0.5})\n",
    "# Plot the 10m wind vector\n",
    "fig2_wind = ds_uv_subsampled.sel(time=t, method='nearest').plot.quiver(x='lon', y='lat', u='uas', v='vas', color='blue')\n",
    "# Plot surface altitude as contour\n",
    "fig2_orog = ds_orog['orog'].plot.contour(levels=4, colors='k')\n",
    "# Indicate where is Sydney\n",
    "ax2.plot(loc[1], loc[0], 'xr', markersize=15)\n",
    "\n",
    "#\n",
    "# Last subfigure plotting low level cloud\n",
    "#\n",
    "ax3 = plt.subplot(1, 3, 3)\n",
    "# Plot cloud \n",
    "fig3_cll = ds_cll['cll'].sel(time=t, method='nearest').plot(vmin=0, vmax=100, cmap=mpl.cm.Greys_r, cbar_kwargs={\"shrink\": 0.5})\n",
    "# Plot surface altitude as contour\n",
    "fig3_orog = ds_orog['orog'].plot.contour(levels=4, colors='b')\n",
    "# Indicate where is Sydney\n",
    "ax3.plot(loc[1], loc[0], 'xr', markersize=15)\n",
    "    \n",
    "fig.tight_layout()\n",
    "\n",
    "# Ceate a function that will update the figure to time_step t\n",
    "def animate(time_step): \n",
    "    # Plotting for this time step\n",
    "    t = ds_tasmax['time'][time_step]\n",
    "    \n",
    "    fig1_dot[0].set_xdata(x=t.data)\n",
    "    fig1_dot[0].set_ydata(y=float(da_tasmax_spatial_av.data[time_step]))\n",
    "    \n",
    "    fig2_tasmax.set_array(ds_tasmax.sel(time=t, method='nearest')['tasmax'].values)\n",
    "    fig2_wind.set_UVC(ds_uv_subsampled.sel(time=t, method='nearest')['uas'].values, ds_uv_subsampled.sel(time=t, method='nearest')['vas'].values)\n",
    "    \n",
    "    fig3_cll.set_array(ds_cll['cll'].sel(time=t, method='nearest').values)\n",
    "    \n",
    "    ax1.set_title(t.data)\n",
    "    \n",
    "# finally, we use FuncAnimation to generate our figure\n",
    "\n",
    "nstep = len(ds_tasmax['time'])\n",
    "FuncAnimation(fig, animate, frames=nstep, interval=50)  # generate animation\n",
    "\n",
    "# this may take a while!"
   ]
  },
  {
   "cell_type": "code",
   "execution_count": null,
   "id": "203cee96-d88c-414a-b60e-99ab1eab1dfa",
   "metadata": {},
   "outputs": [],
   "source": []
  }
 ],
 "metadata": {
  "kernelspec": {
   "display_name": "Python 3 (ipykernel)",
   "language": "python",
   "name": "python3"
  },
  "language_info": {
   "codemirror_mode": {
    "name": "ipython",
    "version": 3
   },
   "file_extension": ".py",
   "mimetype": "text/x-python",
   "name": "python",
   "nbconvert_exporter": "python",
   "pygments_lexer": "ipython3",
   "version": "3.9.15"
  }
 },
 "nbformat": 4,
 "nbformat_minor": 5
}
