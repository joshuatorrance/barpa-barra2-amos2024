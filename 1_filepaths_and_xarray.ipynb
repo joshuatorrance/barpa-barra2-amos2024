{
 "cells": [
  {
   "cell_type": "markdown",
   "id": "d7300b5f-4554-4430-b04a-fac88edf6459",
   "metadata": {},
   "source": [
    "# Accessing and using BARRA2 and BARPA data for research\n",
    "\n",
    "## BARRA2\n",
    "\n",
    "Bureau of Meteorology Atmospheric high-resolution Regional Reanalysis for \n",
    "Australia - Version 2 (BARRA2) is a reanalysis from 1979 to the present day covering Australia, New Zealand and a portion of South-East Asia.\n",
    "\n",
    "## BARPA\n",
    "\n",
    "The Bureau of Meteorology Atmospheric Regional Projections for Australia (BARPA) delivers high-resolution dynamical downscaling of CMIP6 experiments over CORDEX-Australasia and Australian domains.\n",
    "\n",
    "## NCI\n",
    "\n",
    "Both these datasets are hosted at NCI on Gadi. Additional information on these datasets can be found in NCI's documentation pages for [BARPA](https://opus.nci.org.au/pages/viewpage.action?pageId=264241161https://opus.nci.org.au/pages/viewpage.action?pageId=264241161) and [BARRA2](https://opus.nci.org.au/pages/viewpage.action?pageId=264241166https://opus.nci.org.au/pages/viewpage.action?pageId=264241166).\n",
    "\n",
    "<font color='red'>TODO add reference to OPUS pages for this workshop?</font>"
   ]
  },
  {
   "cell_type": "markdown",
   "id": "674515a9-aa1f-4b61-a798-d063d2c29072",
   "metadata": {},
   "source": [
    "## Accessing BARRA2 & BARPA\n",
    "\n",
    "The outputs for BARRA2 and BARPA are store at NCI in the ob53 and py18 projects respectively.\n",
    "Access to these projects can be requested in the usual way at the NCI account management pages - https://my.nci.org.au/mancini\n",
    "The files are also available for direct download from NCI's Thredds server:\n",
    "- [BARRA2](https://dap.nci.org.au/thredds/remoteCatalogService?catalog=https://dapds00.nci.org.au/thredds/catalogs/ob53/catalog.xml)\n",
    "- [BARPA](https://dap.nci.org.au/thredds/remoteCatalogService?catalog=https://dapds00.nci.org.au/thredds/catalogs/py18/catalog.xml)\n",
    "\n",
    "### List of variables\n",
    "\n",
    "A list of the variables used by BARPA and BARRA2 can be found [here](https://github.com/joshuatorrance/barpa-barra2-amos2024/blob/main/BARRA2_BARPA_variable_list.csvhttps://github.com/joshuatorrance/barpa-barra2-amos2024/blob/main/BARRA2_BARPA_variable_list.csv)."
   ]
  },
  {
   "cell_type": "markdown",
   "id": "3b9a74e9-7324-4a2b-8f80-6842f7291f97",
   "metadata": {},
   "source": [
    "***\n",
    "This notebook covers some basic interactions with BARPA and BARRA2 data and some simple manipulations using *xarray*.\n",
    "\n",
    "For more information on the multitude of tools available with *xarray* check out the xarray documentation:\n",
    "https://docs.xarray.dev/en/stable/getting-started-guide/index.html\n",
    "***"
   ]
  },
  {
   "cell_type": "markdown",
   "id": "08e04df2-b2f1-4083-97ba-5b6906033d55",
   "metadata": {},
   "source": [
    "## Enter the notebook directory"
   ]
  },
  {
   "cell_type": "markdown",
   "id": "55fd4162-8037-4947-bd18-49803c822d1a",
   "metadata": {},
   "source": [
    "To begin, navigate to the directory containing this notebook. The 'nci_ipynb' package, developed by NCI, is designed to automate this process. \n",
    "For more details, please refer https://pypi.org/project/nci-ipynb"
   ]
  },
  {
   "cell_type": "code",
   "execution_count": null,
   "id": "2c07a1f4-3b57-46cd-873d-844cf2953757",
   "metadata": {
    "tags": []
   },
   "outputs": [],
   "source": [
    "import os\n",
    "import nci_ipynb\n",
    "os.chdir(nci_ipynb.dir())\n",
    "print(os.getcwd())"
   ]
  },
  {
   "cell_type": "markdown",
   "id": "8ec741bf-7da6-4b26-bdc3-9a258c5ddc79",
   "metadata": {},
   "source": [
    "## Loading BARRA/BARPA data with Xarray & Dask"
   ]
  },
  {
   "cell_type": "markdown",
   "id": "fa0047d9-e8cb-4561-8db4-b794b86ae0d3",
   "metadata": {},
   "source": [
    "First we load the required python modules and start a dask client to speed up our computation."
   ]
  },
  {
   "cell_type": "code",
   "execution_count": null,
   "id": "c1e5f5fa-1880-4679-bebc-1aa694d6604f",
   "metadata": {
    "tags": []
   },
   "outputs": [],
   "source": [
    "# Imports for the notebook\n",
    "import os, sys\n",
    "from glob import glob\n",
    "from datetime import datetime\n",
    "import xarray as xr\n",
    "import pandas as pd\n",
    "from matplotlib import pyplot as plt\n",
    "import cartopy.crs\n",
    "import dask.distributed"
   ]
  },
  {
   "cell_type": "code",
   "execution_count": null,
   "id": "9b7689b6-3284-4156-bdc5-87a25c67c9aa",
   "metadata": {
    "tags": []
   },
   "outputs": [],
   "source": [
    "# Let's explictly load dask so we can check progress\n",
    "# Copy and paste the dashboard link/path from this cell's output\n",
    "# to the Dask tab on the left.\n",
    "client = dask.distributed.Client()\n",
    "client"
   ]
  },
  {
   "cell_type": "markdown",
   "id": "adc8b5ff-70b3-497b-a963-df3b1a591a90",
   "metadata": {},
   "source": [
    "There should now be a dask client running (click on \"Launch dashboard in JupyterLab\" to see the dashboard). The dask client will allow for better parallelisation of xarray operations such as opens multiple files or processing large datasets.\n",
    "\n",
    "You can see the progress of dask operations in the dask dashboard."
   ]
  },
  {
   "cell_type": "markdown",
   "id": "ed11bccc-55f2-4ef6-9966-7f27a8ae381d",
   "metadata": {},
   "source": [
    "***\n",
    "Next we will build a path to the BARPA or BARRA2 data."
   ]
  },
  {
   "cell_type": "code",
   "execution_count": null,
   "id": "625ae9ce-fbed-4ca2-9c6e-ae874c3bd967",
   "metadata": {
    "tags": []
   },
   "outputs": [],
   "source": [
    "## Data location\n",
    "# Let's define the path to the files we're interested in\n",
    "# BARRA2\n",
    "barra_r2_root_path = \"/g/data/ob53/BARRA2/output/reanalysis/AUS-11/BOM/ERA5/historical/hres/BARRA-R2/v1\"\n",
    "\n",
    "# BARPA\n",
    "barpa_top_path = \"/g/data/py18/BARPA/output/CMIP6/DD/AUS-15/BOM\"\n",
    "barpa_model = \"ACCESS-CM2\"\n",
    "    # One BARPA model out of:\n",
    "    # ACCESS-CM2, ACCESS-ESM1-5, CESM2, CMCC-ESM2, EC-Earth3, ERA5, MPI-ESM1-2-HR, NorESM2-MM\n",
    "barpa_scenario = \"historical\"\n",
    "barpa_root_path = f\"{barpa_top_path}/{barpa_model}/{barpa_scenario}/*/BARPA-R/v1-r1\"\n",
    "\n",
    "### Pick the root path that interests you, either BARPA or BARRA2, comment out the other one. ###\n",
    "root_path = barra_r2_root_path\n",
    "#root_path = barpa_root_path\n",
    "\n",
    "## Time resolution\n",
    "# e.g. BARRA - mon, day, 3hr, 1hr\n",
    "#      BARPA - mon, day, 6hr, 1hr\n",
    "time_resolution = \"1hr\"\n",
    "\n",
    "## Variable\n",
    "# Choose the variable to look at, e.g. \"ts\" for surface temperature\n",
    "var = \"ts\"\n",
    "\n",
    "## Date (YYYYMM)\n",
    "# With glob we can use wild cards to find the files we want\n",
    "# e.g. \"2014??\" for all of 2014 or \"20140[123]\" for the first three months\n",
    "# Note that BARRA2 data has one file per month, BARPA data has one file per year\n",
    "date = \"2014??\"\n",
    "\n",
    "# Build a string to use with glob\n",
    "glob_str = os.path.join(root_path, time_resolution, var, \"*\", f\"*{date}.nc\")\n",
    "\n",
    "# Pass the string to glob will will return a matching list of file paths\n",
    "file_list = sorted(glob(glob_str))"
   ]
  },
  {
   "cell_type": "code",
   "execution_count": null,
   "id": "c5d51371-693f-4a4e-a5fd-52649f992fa2",
   "metadata": {
    "tags": []
   },
   "outputs": [],
   "source": [
    "# Open the dataset\n",
    "\n",
    "# If we have a single file we can use open_dataset\n",
    "#ds = xr.open_dataset(file_list[0])\n",
    "\n",
    "# If we have a list of files we use open_mfdataset\n",
    "# Use parallel=True to take advantage of Dask's multiprocessing\n",
    "ds = xr.open_mfdataset(file_list, parallel=True)"
   ]
  },
  {
   "cell_type": "code",
   "execution_count": null,
   "id": "1d281955-c20e-4c12-82a0-355f76f8a2e2",
   "metadata": {
    "tags": []
   },
   "outputs": [],
   "source": [
    "ds"
   ]
  },
  {
   "cell_type": "code",
   "execution_count": null,
   "id": "8b42ea43-e51f-4cbe-b43c-66c04f5f31b0",
   "metadata": {
    "tags": []
   },
   "outputs": [],
   "source": [
    "ds[var].attrs"
   ]
  },
  {
   "cell_type": "markdown",
   "id": "641a2286-dad5-4089-923a-9bdd28507945",
   "metadata": {},
   "source": [
    "# Loading BARRA2/BARPA data with Intake-ESM\n",
    "\n",
    "Instead, you can use NCI Intake-ESM catalog files to manipulate BARRA2/BARPA data collections.\n",
    "\n",
    "For more details in NCI indexing scheme, please refer https://opus.nci.org.au/display/DAE/Dataset+catalogue+Indexes+and+Intake\n"
   ]
  },
  {
   "cell_type": "code",
   "execution_count": null,
   "id": "fcfc88c7-9aba-4808-b07b-a711fa9df077",
   "metadata": {
    "tags": []
   },
   "outputs": [],
   "source": [
    "import intake\n",
    "\n",
    "# Specify the Intake-esm catalog files.\n",
    "catalog_files={\"BARPA\":\"/g/data/dk92/catalog/v2/esm/barpa-py18/catalog.json\",\n",
    "              \"BARRA2\":\"/g/data/dk92/catalog/v2/esm/barra2-ob53/catalog.json\"}\n",
    "\n",
    "dclt=\"BARRA2\" # BARPA\n",
    "data_catalog = intake.open_esm_datastore(catalog_files[dclt])"
   ]
  },
  {
   "cell_type": "code",
   "execution_count": null,
   "id": "52ab2a14-8a70-4b47-ad7e-e90895a9bdf1",
   "metadata": {
    "tags": []
   },
   "outputs": [],
   "source": [
    "# The catalog keys are produced by following the naming convention in \n",
    "#/g/data/ob53/BARRA2/README.txt\n",
    "#/g/data/py18/BARPA/README.txt\n",
    "\n",
    "for col in data_catalog.df.columns:\n",
    "# Aavailable keys for the dataset\n",
    "    print(\"avaliable key: \",col)\n",
    "# Available values for each key\n",
    "#    print (\"values: \", data_catalog.df[col].unique())"
   ]
  },
  {
   "cell_type": "code",
   "execution_count": null,
   "id": "cbdb6c75-691d-4501-ba8f-9ef9121cefae",
   "metadata": {
    "tags": []
   },
   "outputs": [],
   "source": [
    "# Now we can combine searches for a goup of key-values.\n",
    "query = dict(\n",
    "    variable_id=[\"ts\"],\n",
    "    time_range=[\"2014/*\"],\n",
    "    freq=[\"1hr\"],\n",
    ")\n",
    "catalog_subset = data_catalog.search(**query)\n",
    "catalog_subset"
   ]
  },
  {
   "cell_type": "code",
   "execution_count": null,
   "id": "4ebb664d-39fb-43f3-8550-c77a041f3d74",
   "metadata": {
    "tags": []
   },
   "outputs": [],
   "source": [
    "# The information from the searched catalog object could be viewed in a pandas table.\n",
    "print(catalog_subset.df)"
   ]
  },
  {
   "cell_type": "code",
   "execution_count": null,
   "id": "8ac975de-797e-4c91-a801-c425922e7a53",
   "metadata": {
    "tags": []
   },
   "outputs": [],
   "source": [
    "# You could also set keywords when loading the dataset.\n",
    "dsets = catalog_subset.to_dataset_dict(\n",
    "#    cdf_kwargs={'chunks':{'lat': 646, 'lon': 1082, 'time':100}}\n",
    ")\n",
    "dsets"
   ]
  },
  {
   "cell_type": "code",
   "execution_count": null,
   "id": "e1b9cf99-792a-4f30-8929-12dd16d254e0",
   "metadata": {
    "tags": []
   },
   "outputs": [],
   "source": [
    "# You could also set keywords when loading the dataset.\n",
    "dsets = catalog_subset.to_dataset_dict(\n",
    "#    cdf_kwargs={'chunks':{'lat': 646, 'lon': 1082, 'time':100}}\n",
    ")\n",
    "dsets"
   ]
  },
  {
   "cell_type": "code",
   "execution_count": null,
   "id": "51c0adf6-3e48-4246-a1f5-e751380b7a87",
   "metadata": {
    "tags": []
   },
   "outputs": [],
   "source": [
    "esmds[var].attrs"
   ]
  },
  {
   "cell_type": "markdown",
   "id": "146f040c-31ae-4092-b4c6-c7a7d3996891",
   "metadata": {
    "execution": {
     "iopub.execute_input": "2024-01-23T03:40:02.359172Z",
     "iopub.status.busy": "2024-01-23T03:40:02.358214Z",
     "iopub.status.idle": "2024-01-23T03:40:02.368847Z",
     "shell.execute_reply": "2024-01-23T03:40:02.367420Z",
     "shell.execute_reply.started": "2024-01-23T03:40:02.359102Z"
    }
   },
   "source": [
    "## esmloader\n",
    "\n",
    "'esmloader' is a module included with these notebooks to simplify access to BARPA and BARRA2 datasets.## esmloader\n",
    "\n"
   ]
  },
  {
   "cell_type": "code",
   "execution_count": null,
   "id": "781f2c15-b153-4d18-8d45-1ef58729f9b7",
   "metadata": {
    "tags": []
   },
   "outputs": [],
   "source": [
    "from esmloader import EsmCat\n",
    "\n",
    "# Specify the which data collection you want to load, i.e. BARRA2 or BARPA.\n",
    "barra2=EsmCat(\"BARRA2\")"
   ]
  },
  {
   "cell_type": "code",
   "execution_count": null,
   "id": "34d4f365-415d-4921-b6dc-478ea4a4c6c1",
   "metadata": {
    "tags": []
   },
   "outputs": [],
   "source": [
    "# Load some BARRA data\n",
    "ds = barra2.load_barra2_data(\"BARRA-R2\", \"1hr\", \"ts\", tstart=\"2014010100\", tend=\"2015010100\")\n",
    "ds"
   ]
  },
  {
   "cell_type": "code",
   "execution_count": null,
   "id": "a6b5fd9d-2cc9-479a-bbf5-87b62f3fe1ab",
   "metadata": {
    "tags": []
   },
   "outputs": [],
   "source": [
    "barpa=EsmCat(\"BARPA\")\n",
    "# Load some BARPA data\n",
    "ds = barpa.load_barpa_data(\"BARPA-R\", \"ACCESS-CM2\", \"historical\", \"1hr\", \"ts\", tstart=\"2014010100\", tend=\"2015010100\")\n",
    "ds"
   ]
  },
  {
   "cell_type": "markdown",
   "id": "88e6b72b-0ca6-4a83-9e7f-a4e2278948ed",
   "metadata": {
    "execution": {
     "iopub.execute_input": "2024-01-23T04:57:09.617237Z",
     "iopub.status.busy": "2024-01-23T04:57:09.616625Z",
     "iopub.status.idle": "2024-01-23T04:57:09.650626Z",
     "shell.execute_reply": "2024-01-23T04:57:09.649342Z",
     "shell.execute_reply.started": "2024-01-23T04:57:09.617187Z"
    },
    "tags": []
   },
   "source": [
    "### Load data contains some other helpful functions\n",
    "Here's a couple of them"
   ]
  },
  {
   "cell_type": "code",
   "execution_count": null,
   "id": "eefa0db4-dce9-43a1-9751-c0f0f998723d",
   "metadata": {
    "tags": []
   },
   "outputs": [],
   "source": [
    "# Examine a particular variable\n",
    "_ = barra2.whatis('1hr', 'pr')"
   ]
  },
  {
   "cell_type": "code",
   "execution_count": null,
   "id": "a055a4dd-5cdb-42eb-b5cd-9652844d2fb2",
   "metadata": {
    "tags": []
   },
   "outputs": [],
   "source": [
    "# List the available variables\n",
    "_ = barra2.list_barra2_variables('BARRA-R2', '1hr')"
   ]
  },
  {
   "cell_type": "markdown",
   "id": "2f0768a3-5044-4901-a328-9cbcbd89d6c1",
   "metadata": {},
   "source": [
    "## Instantaneous vs. Accumulated variables\n",
    "The variables used in BARPA and BARRA2 can be separated into two group, *instantaneous* and *accumulated*.\n",
    "\n",
    "*Instantaneous* variables give a snapshot of the underlying model stat at the given time.\n",
    "\n",
    "*Accumulated* variables give an aggregate view of a given time window (e.g. hourly mean, daily max). Accumulated variables will have an additional coordinate, 'time_bnds'.\n",
    "\n",
    "It's important to note that time values are different between instantaneous and accumulated variables.\n",
    "For instantaneous variables the time value match the start of the window when snapshot was taken, i.e. 00:00, 01:00.\n",
    "Accumulated variables use time values in the centre of their window, i.e. 00:30, 01:30.\n",
    "\n",
    "It's important to keep these different time values in mind if one if combining variables in some way, e.g. performing arithmetic or plotting."
   ]
  },
  {
   "cell_type": "code",
   "execution_count": null,
   "id": "09df3a10-d5b8-4e88-a8ad-c369a822c45d",
   "metadata": {
    "tags": []
   },
   "outputs": [],
   "source": [
    "var = 'tas'\n",
    "time_resolution = '1hr'\n",
    "\n",
    "# What is this variable?\n",
    "barra2.whatis(time_resolution, var)\n",
    "\n",
    "# Take a look at the first time step\n",
    "ds_inst = barra2.load_barra2_data(\"BARRA-R2\", time_resolution, var, tstart=\"2014010100\", tend=\"2015010100\")\n",
    "ds_inst['time'][0].data"
   ]
  },
  {
   "cell_type": "code",
   "execution_count": null,
   "id": "d98e0532-afe2-47eb-8781-6086bed92426",
   "metadata": {
    "tags": []
   },
   "outputs": [],
   "source": [
    "var = 'tasmax'\n",
    "time_resolution = '1hr'\n",
    "\n",
    "# What is this variable?\n",
    "barra2.whatis(time_resolution, var)\n",
    "\n",
    "# Take a look a the first time step\n",
    "ds_accum = barra2.load_barra2_data(\"BARRA-R2\", time_resolution, var, tstart=\"2014010100\", tend=\"2015010100\")\n",
    "ds_accum['time'][0].data"
   ]
  },
  {
   "cell_type": "code",
   "execution_count": null,
   "id": "314fc85b-2a44-4dac-a513-d51f1a8bd4f1",
   "metadata": {
    "tags": []
   },
   "outputs": [],
   "source": [
    "# Accumulated variables have time_bnds\n",
    "ds_accum['time_bnds'][0:3].compute()"
   ]
  },
  {
   "cell_type": "markdown",
   "id": "5abc0d1a-b7dc-4616-a7ae-afe2a662284c",
   "metadata": {},
   "source": [
    "## Indexing and Plotting Data\n",
    "Xarray has sophisticated indexing tools available.\n",
    "There are many ways to index data with Xarray, below are a couple of examples.\n",
    "\n",
    "See Xarray's [documentation](https://docs.xarray.dev/en/latest/user-guide/indexing.html) for more details.\n",
    "\n",
    "Xarray data sets can be easily plotting with matplotlib."
   ]
  },
  {
   "cell_type": "code",
   "execution_count": null,
   "id": "2df919c8-6ca0-48da-a0ee-1b83c501de9c",
   "metadata": {
    "tags": []
   },
   "outputs": [],
   "source": [
    "var = 'ts'\n",
    "ds = barra2.load_barra2_data(\"BARRA-R2\", \"1hr\", var, tstart=\"2014010100\", tend=\"2015010100\")\n",
    "ds"
   ]
  },
  {
   "cell_type": "markdown",
   "id": "b0e91cfe-d525-424b-9ea6-79dae14cdd93",
   "metadata": {},
   "source": [
    "### First timestep"
   ]
  },
  {
   "cell_type": "code",
   "execution_count": null,
   "id": "9c31157f-c787-4850-a0af-4568fcda8bb3",
   "metadata": {
    "tags": []
   },
   "outputs": [],
   "source": [
    "# Select the first timestep using the index\n",
    "ds_first_timestep = ds.isel(time=0)\n",
    "ds_first_timestep"
   ]
  },
  {
   "cell_type": "code",
   "execution_count": null,
   "id": "8cdb738c-7f92-449a-b31b-d40ca88286b9",
   "metadata": {
    "tags": []
   },
   "outputs": [],
   "source": [
    "# Alternatively select the first timestep by giving a string\n",
    "# Look what happens if we don't specify said string precisely\n",
    "ds.sel(time='2014-01-01')"
   ]
  },
  {
   "cell_type": "code",
   "execution_count": null,
   "id": "17f0e5ca-2ca2-4bfd-89ca-c39bd99201b1",
   "metadata": {
    "tags": []
   },
   "outputs": [],
   "source": [
    "# Alternatively select the first timestep by giving a string\n",
    "# Look what happens if we don't specify said string precisely\n",
    "ds_first_timestep = ds.sel(time='2014-01-01T00:00')\n",
    "ds_first_timestep"
   ]
  },
  {
   "cell_type": "markdown",
   "id": "db45df20-8c13-4a82-b602-2aa85afb36cc",
   "metadata": {
    "execution": {
     "iopub.execute_input": "2024-01-24T02:27:24.902971Z",
     "iopub.status.busy": "2024-01-24T02:27:24.902167Z",
     "iopub.status.idle": "2024-01-24T02:27:24.910208Z",
     "shell.execute_reply": "2024-01-24T02:27:24.908684Z",
     "shell.execute_reply.started": "2024-01-24T02:27:24.902911Z"
    }
   },
   "source": [
    "### Basic Plotting\n",
    "xarray uses matplotlib to allow for quick and convenient plotting."
   ]
  },
  {
   "cell_type": "code",
   "execution_count": null,
   "id": "d30af99d-db44-4e3b-89cf-df4110ac03d6",
   "metadata": {
    "tags": []
   },
   "outputs": [],
   "source": [
    "# Plot the first field\n",
    "\n",
    "# Can only plot data arrays (not datasets)\n",
    "da = ds_first_timestep[var]\n",
    "da.plot()"
   ]
  },
  {
   "cell_type": "code",
   "execution_count": null,
   "id": "8a6b1850-71de-45d9-b819-d7d1d1ada5f6",
   "metadata": {
    "tags": []
   },
   "outputs": [],
   "source": [
    "# Plot the first field - with coastlines!\n",
    "\n",
    "# Can only plot data arrays (not datasets)\n",
    "da = ds_first_timestep[var]\n",
    "\n",
    "# Build a cartopy projection so we can draw on the coastlines\n",
    "centre_lon = da['lon'].mean().values\n",
    "projection = cartopy.crs.PlateCarree(central_longitude=centre_lon)\n",
    "\n",
    "# Now plot the field with the transform.\n",
    "plot = da.plot(\n",
    "    transform=cartopy.crs.PlateCarree(),\n",
    "    subplot_kws={\"projection\": projection})\n",
    "\n",
    "# Draw the coastlines using cartopy\n",
    "plot.axes.coastlines()"
   ]
  },
  {
   "cell_type": "markdown",
   "id": "9bbdde45-3f96-4cbd-8b99-d19186d81bdb",
   "metadata": {},
   "source": [
    "### More indexing - Zoom in on Melbourne"
   ]
  },
  {
   "cell_type": "code",
   "execution_count": null,
   "id": "da79d1d6-e8e9-4063-9492-e034984959fc",
   "metadata": {
    "tags": []
   },
   "outputs": [],
   "source": [
    "# Select the Melbourne region using slice\n",
    "melb_lat, melb_lon = -37.840935, 144.946457\n",
    "width = 1.5\n",
    "\n",
    "ds_melb = ds.sel(lat=slice(melb_lat - width/2, melb_lat + width/2),\n",
    "                 lon=slice(melb_lon - width/2, melb_lon + width/2))"
   ]
  },
  {
   "cell_type": "code",
   "execution_count": null,
   "id": "96a58385-bd75-4d40-b2c6-09ff9f63f050",
   "metadata": {
    "tags": []
   },
   "outputs": [],
   "source": [
    "# Let's convert the temperature to centigrade\n",
    "ds_melb[var] = ds_melb[var] - 273.25\n",
    "\n",
    "# The above arithmetic will not preserve the DataArray's attributes\n",
    "# So let's copy them here and update the units.\n",
    "ds_melb[var].attrs = ds[var].attrs\n",
    "ds_melb[var].attrs['units'] = 'C'"
   ]
  },
  {
   "cell_type": "code",
   "execution_count": null,
   "id": "b12b8f1a-d2d2-41b8-9dc3-c55d0dd21cff",
   "metadata": {
    "tags": []
   },
   "outputs": [],
   "source": [
    "# Let's plot the resulting data array as we did before\n",
    "# We can reuse the project we defined earlier\n",
    "da = ds_melb.isel(time=0)[var]\n",
    "\n",
    "plot = da.plot(\n",
    "    transform=cartopy.crs.PlateCarree(),\n",
    "    subplot_kws={\"projection\": projection})\n",
    "\n",
    "plot.axes.coastlines()"
   ]
  },
  {
   "cell_type": "markdown",
   "id": "139cbb1f-9411-4f84-8c62-7d492e79380d",
   "metadata": {},
   "source": [
    "### Data Manipulation - Mean temperature in Melbourne during 2014"
   ]
  },
  {
   "cell_type": "code",
   "execution_count": null,
   "id": "79cb6849-5c9f-4d6a-b794-cebf11911985",
   "metadata": {
    "tags": []
   },
   "outputs": [],
   "source": [
    "# Take our Melbourne dataset and caculate the mean of each spatial field then plot the result\n",
    "ds_melb[var].mean(dim=['lat', 'lon']).plot()\n",
    "\n",
    "# xarray uses matplotlib to handle the plotting\n",
    "# Add a custom title to the plot using the standard matplotlib command\n",
    "plt.title(f\"Mean {da.attrs['long_name']} in Melbourne region ({da.attrs['units']})\")"
   ]
  },
  {
   "cell_type": "markdown",
   "id": "135daeeb-732c-4679-a4a4-2a0c64667b72",
   "metadata": {},
   "source": [
    "### Exercises\n",
    "1. Plot the average temperature in Melbourne by time-of-day\n",
    "2. Plot the min and max daily temperatures in Melbourne"
   ]
  },
  {
   "cell_type": "code",
   "execution_count": null,
   "id": "09292ba2-77b6-4fd6-bfc0-46319e654eda",
   "metadata": {
    "tags": []
   },
   "outputs": [],
   "source": [
    "# First get time in the the local Melb timezone\n",
    "# Use pandas to add the UTC timezone to 'time', convert it to Melbourne's timezone (AEDT), then remove the timezone again\n",
    "time_melb = pd.to_datetime(ds_melb['time']).tz_localize('UTC').tz_convert('Australia/Melbourne').tz_localize(None)\n",
    "\n",
    "# Replace time with time_melb\n",
    "ds_melb_aedt = ds_melb.assign_coords(time_melb=(\"time\", time_melb)).drop('time').swap_dims({'time': 'time_melb'})\n",
    "\n",
    "# Add the attributes for time_melb so our plots below are nicer\n",
    "ds_melb_aedt['time_melb'].attrs = {'standard_name': 'time_melb', 'axis': 'T', 'long_name': 'Time in AEDT'}\n",
    "\n",
    "ds_melb_aedt"
   ]
  },
  {
   "cell_type": "markdown",
   "id": "cf191105-ded5-4b02-b7f8-83801486b12b",
   "metadata": {
    "execution": {
     "iopub.execute_input": "2024-01-24T03:22:17.927130Z",
     "iopub.status.busy": "2024-01-24T03:22:17.926675Z",
     "iopub.status.idle": "2024-01-24T03:22:17.932778Z",
     "shell.execute_reply": "2024-01-24T03:22:17.932002Z",
     "shell.execute_reply.started": "2024-01-24T03:22:17.927096Z"
    }
   },
   "source": [
    "#### Average temperature by time of day"
   ]
  },
  {
   "cell_type": "code",
   "execution_count": null,
   "id": "83300552-7140-4da1-b4fa-f33a5a1a72db",
   "metadata": {
    "tags": []
   },
   "outputs": [],
   "source": [
    "# Now plot the mean spatial field value, averaged for each hour of the day\n",
    "ds_melb_aedt[var].mean(dim=['lat', 'lon']).groupby(\"time_melb.hour\").mean().plot()\n",
    "\n",
    "plt.title(f'Mean {ds_melb_aedt[var].attrs[\"long_name\"]} by time of day in Melbourne during 2014')\n",
    "\n",
    "plt.xlabel(f'Hour of the day (Melbourne timezone)')\n",
    "plt.ylabel(f'Mean {ds_melb_aedt[var].attrs[\"long_name\"]} ({ds_melb_aedt[var].attrs[\"units\"]})')"
   ]
  },
  {
   "cell_type": "markdown",
   "id": "1506dd74-4a50-4be6-aa02-57df04331467",
   "metadata": {},
   "source": [
    "#### Min and Max Temperature"
   ]
  },
  {
   "cell_type": "code",
   "execution_count": null,
   "id": "37347eb2-6a33-43c2-b05d-8f17baa0c8de",
   "metadata": {
    "tags": []
   },
   "outputs": [],
   "source": [
    "# Daily min and max is usually from 9am to 9am\n",
    "# Resample our hourly data into daily data, and offset to 9am\n",
    "ds_melb_aedt.resample({'time_melb': '1D'}, offset='+9H').max().max(dim=['lat', 'lon'])[var].plot(label='Daily Max')\n",
    "ds_melb_aedt.resample({'time_melb': '1D'}, offset='+9H').mean().mean(dim=['lat', 'lon'])[var].plot(label='Daily Mean')\n",
    "ds_melb_aedt.resample({'time_melb': '1D'}, offset='+9H').min().min(dim=['lat', 'lon'])[var].plot(label='Daily Min')\n",
    "\n",
    "# Let's add a legend and title, etc.\n",
    "plt.legend(bbox_to_anchor=(1.01, 1.0))\n",
    "\n",
    "plt.title(f'{ds_melb_aedt[var].attrs[\"long_name\"]} in Melbourne')\n",
    "\n",
    "plt.xlabel(f'{ds_melb_aedt[\"time_melb\"].attrs[\"long_name\"]}')\n",
    "plt.ylabel(f'{ds_melb_aedt[var].attrs[\"long_name\"]} ({ds_melb_aedt[var].attrs[\"units\"]})')"
   ]
  },
  {
   "cell_type": "code",
   "execution_count": null,
   "id": "bb5bce30-2b49-42d0-b72d-e3f56152022d",
   "metadata": {},
   "outputs": [],
   "source": [
    "client.close()"
   ]
  }
 ],
 "metadata": {
  "kernelspec": {
   "display_name": "Python 3 (ipykernel)",
   "language": "python",
   "name": "python3"
  },
  "language_info": {
   "codemirror_mode": {
    "name": "ipython",
    "version": 3
   },
   "file_extension": ".py",
   "mimetype": "text/x-python",
   "name": "python",
   "nbconvert_exporter": "python",
   "pygments_lexer": "ipython3",
   "version": "3.10.13"
  },
  "toc-autonumbering": true
 },
 "nbformat": 4,
 "nbformat_minor": 5
}
