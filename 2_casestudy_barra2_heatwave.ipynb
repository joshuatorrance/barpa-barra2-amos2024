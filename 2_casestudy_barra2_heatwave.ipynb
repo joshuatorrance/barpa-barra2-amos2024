{
 "cells": [
  {
   "cell_type": "markdown",
   "id": "307426aa-9017-4034-a38d-d02db6059581",
   "metadata": {},
   "source": [
    "# AMOS 2024 - BARRA2 historical Heatwave Case Study\n",
    "\n",
    "AUTHOR: Chun-Hsu Su (chunhsu.su@bom.gov.au)\n",
    "\n",
    "In this notebook we demonstrate the use of BARRA2 data in the NCI Data Collection to explore the NSW heatwave of January 2017.\n",
    "\n",
    "More information on BARRA2 data: https://opus.nci.org.au/pages/viewpage.action?pageId=264241166\n",
    "\n",
    "Before using this notebook, users must join ob53 project via, https://my.nci.org.au/mancini/project/ob53/join\n",
    "\n",
    "Reanalyses are useful for users to go back in time to look at how a past weather event had occurred and the driving atmospheric processes.\n",
    "\n",
    "***\n",
    "\n",
    "This case study looks at the early 2017 New South Wales heatwaves. \n",
    "\n",
    "A special climate statement reporting on the exceptional heat in southeast Australia can be found http://www.bom.gov.au/climate/current/statements/scs61.pdf\n",
    "\n",
    "In January and February, there were three distinct heatwaves in southeast Australia, with the highest temperatures recorded over 9–12 February 2017. \n",
    "\n",
    "There were 3 heatwaves across January and early February 2017 saw unusually high daily maximum and minimum temperatures for at least three consecutive days over large parts of the country. The first heatwave began around 10 January and continued to 14 January. \n",
    "\n",
    "The pattern of pressure systems - high pressure system over Tasman Sea and an upper level ridge over central and eastern Australia - drew hot air from central part of the continent.\n"
   ]
  },
  {
   "cell_type": "code",
   "execution_count": null,
   "id": "12cfdcb9-dd89-4db3-af4a-6a0bb27c8101",
   "metadata": {
    "tags": []
   },
   "outputs": [],
   "source": [
    "import os\n",
    "import nci_ipynb\n",
    "os.chdir(nci_ipynb.dir())\n",
    "print(os.getcwd())"
   ]
  },
  {
   "cell_type": "code",
   "execution_count": null,
   "id": "531e4c97-67bd-4439-8a84-2998b7923df0",
   "metadata": {
    "tags": []
   },
   "outputs": [],
   "source": [
    "# Import standard python modules\n",
    "import os, sys\n",
    "from datetime import datetime\n",
    "import dask.distributed\n",
    "import matplotlib.pyplot as plt\n",
    "import numpy as np\n",
    "import xarray as xr\n",
    "xr.set_options(keep_attrs=True)\n",
    "\n",
    "import esmloader"
   ]
  },
  {
   "cell_type": "code",
   "execution_count": null,
   "id": "22ac0ee9-0873-494d-b814-bace133fb5b9",
   "metadata": {
    "tags": []
   },
   "outputs": [],
   "source": [
    "# Specify the which data collection you want to load, i.e. BARRA2 or BARPA.\n",
    "barra2 = esmloader.EsmCat(\"BARRA2\")"
   ]
  },
  {
   "cell_type": "code",
   "execution_count": null,
   "id": "d3b8d7d2-543e-4cdd-980d-a8820dce64ad",
   "metadata": {
    "tags": []
   },
   "outputs": [],
   "source": [
    "# Start a dask client\n",
    "client = dask.distributed.Client()\n",
    "client"
   ]
  },
  {
   "cell_type": "markdown",
   "id": "99fb3bc0-bb16-4eef-832d-323d6a29684f",
   "metadata": {
    "tags": []
   },
   "source": [
    "### 1. Explore the BARRA-R2 data sets"
   ]
  },
  {
   "cell_type": "markdown",
   "id": "0b878045-4a60-4811-b263-b7c69a733cab",
   "metadata": {
    "execution": {
     "iopub.execute_input": "2024-01-24T05:36:24.716216Z",
     "iopub.status.busy": "2024-01-24T05:36:24.715512Z",
     "iopub.status.idle": "2024-01-24T05:36:24.725657Z",
     "shell.execute_reply": "2024-01-24T05:36:24.724316Z",
     "shell.execute_reply.started": "2024-01-24T05:36:24.716164Z"
    }
   },
   "source": [
    "What experiments are available in BARRA2 at this time?\n",
    "\n",
    "At this time, we have BARRA-R2 12 km reanalysis data. \n",
    "\n",
    "Later this year, the BARRA-RE2 ensemble and BARRA-C2 4.4 km reanalysis data will be available. BARRA-C2 will appear as \"AUS-04  hres  BARRA-C2\" because it is defined over a different spatial domain AUS-04 and nested in ERA5 HRES analysis."
   ]
  },
  {
   "cell_type": "code",
   "execution_count": null,
   "id": "07602006-e6ab-4694-b818-769f0c2830e1",
   "metadata": {
    "tags": []
   },
   "outputs": [],
   "source": [
    "barra2.keys"
   ]
  },
  {
   "cell_type": "code",
   "execution_count": null,
   "id": "f85187af-b680-45de-af91-6fbec1e9bd47",
   "metadata": {
    "tags": []
   },
   "outputs": [],
   "source": [
    "#loaddata.list_experiments(\"BARRA2\")\n",
    "print(barra2.get_values('domain_id'))\n",
    "print(barra2.get_values('driving_variant_label'))\n",
    "print(barra2.get_values('source_id'))"
   ]
  },
  {
   "cell_type": "markdown",
   "id": "d193a957-1a6d-4077-ae35-286b10f36797",
   "metadata": {},
   "source": [
    "What hourly variables are available?"
   ]
  },
  {
   "cell_type": "code",
   "execution_count": null,
   "id": "bfe1874c-779f-475e-bd58-5ef2b7662e4b",
   "metadata": {
    "tags": []
   },
   "outputs": [],
   "source": [
    "_ = barra2.list_barra2_variables(\"BARRA-R2\", \"1hr\")"
   ]
  },
  {
   "cell_type": "markdown",
   "id": "303ff253-ce4f-41bd-97de-87d2e2643f32",
   "metadata": {},
   "source": [
    "For heatwave case study, we will look at the screen-level temperature, near-surface wind vector and low level cloud cover.\n",
    "\n",
    "First check they are what they are, and explore different variable options"
   ]
  },
  {
   "cell_type": "code",
   "execution_count": null,
   "id": "b3b2cd70-7cbc-4772-8ca9-6ecc26380379",
   "metadata": {
    "tags": []
   },
   "outputs": [],
   "source": [
    "_ = barra2.whatis(\"1hr\", \"tas\")"
   ]
  },
  {
   "cell_type": "code",
   "execution_count": null,
   "id": "9a13579e-d16f-4d07-ba1f-57e61ced317b",
   "metadata": {
    "tags": []
   },
   "outputs": [],
   "source": [
    "_ = barra2.whatis(\"1hr\", \"tasmax\")"
   ]
  },
  {
   "cell_type": "code",
   "execution_count": null,
   "id": "ef88ad7c-834b-4006-a08a-4d0359111982",
   "metadata": {
    "tags": []
   },
   "outputs": [],
   "source": [
    "_ = barra2.whatis(\"1hr\", \"uas\")"
   ]
  },
  {
   "cell_type": "code",
   "execution_count": null,
   "id": "b2d7423e-cf16-4bfc-8e5e-7e008a9d7494",
   "metadata": {
    "tags": []
   },
   "outputs": [],
   "source": [
    "_ = barra2.whatis(\"1hr\", \"uasmax\")"
   ]
  },
  {
   "cell_type": "code",
   "execution_count": null,
   "id": "77bb1a81-6acd-4b4f-b932-0eb31032a998",
   "metadata": {
    "tags": []
   },
   "outputs": [],
   "source": [
    "_ = barra2.whatis(\"1hr\", \"vas\")"
   ]
  },
  {
   "cell_type": "code",
   "execution_count": null,
   "id": "4acf2d42-54e8-4473-bc55-19f40a9a5c6d",
   "metadata": {
    "tags": []
   },
   "outputs": [],
   "source": [
    "_ = barra2.whatis(\"1hr\", \"cll\")"
   ]
  },
  {
   "cell_type": "code",
   "execution_count": null,
   "id": "5ee4b965-465b-4805-874a-7cd979c1bb35",
   "metadata": {
    "tags": []
   },
   "outputs": [],
   "source": [
    "_ = barra2.whatis(\"fx\", \"orog\")"
   ]
  },
  {
   "cell_type": "code",
   "execution_count": null,
   "id": "54b55307-efe7-4059-be3c-7bb753542c40",
   "metadata": {
    "tags": []
   },
   "outputs": [],
   "source": [
    "_ = barra2.whatis(\"fx\", \"sftlf\")"
   ]
  },
  {
   "cell_type": "markdown",
   "id": "8d007cbc-b4de-4332-9a91-4851728a6b10",
   "metadata": {},
   "source": [
    "For this case study, we will use\n",
    "- hourly maximum temperature (1hr/tasmax)\n",
    "- hourly inst u and v (1hr/uas, 1hr/vas)\n",
    "- hourly mean low-level cloud cover (1hr/cll)\n",
    "\n",
    "We will use the loaddata.load_barra2_data function."
   ]
  },
  {
   "cell_type": "code",
   "execution_count": null,
   "id": "f98ba07a-793a-44dd-82be-eda2f5763eeb",
   "metadata": {
    "tags": []
   },
   "outputs": [],
   "source": [
    "help(barra2.load_barra2_data)"
   ]
  },
  {
   "cell_type": "markdown",
   "id": "2c9fd1be-e0f2-4b66-9fc0-1611604f61ba",
   "metadata": {
    "execution": {
     "iopub.execute_input": "2024-01-23T03:08:46.936787Z",
     "iopub.status.busy": "2024-01-23T03:08:46.936327Z",
     "iopub.status.idle": "2024-01-23T03:08:46.942289Z",
     "shell.execute_reply": "2024-01-23T03:08:46.940985Z",
     "shell.execute_reply.started": "2024-01-23T03:08:46.936743Z"
    }
   },
   "source": [
    "### 2. First look at the temperature variability in the region around Sydney during December 2016 and March 2017"
   ]
  },
  {
   "cell_type": "code",
   "execution_count": null,
   "id": "a1c4217d-caf0-4620-8331-235f2119bffa",
   "metadata": {
    "tags": []
   },
   "outputs": [],
   "source": [
    "# Location of Sydney\n",
    "loc = (-33.8688, 151.2093)\n",
    "\n",
    "# Examine a small 2x2 degrees bounding box around Sydney\n",
    "latmin_c = loc[0] - 1\n",
    "latmax_c = loc[0] + 1\n",
    "lonmin_c = loc[1] - 1\n",
    "lonmax_c = loc[1] + 1\n",
    "\n",
    "# Look at Dec 2016 to Mar 2017 time period. The time format is yyyymmdd, yyyy is year, mm is month, dd is day\n",
    "tstart = 20161201\n",
    "tend = 20170331"
   ]
  },
  {
   "cell_type": "markdown",
   "id": "e7147034-914e-4df1-ae23-017b7f830f15",
   "metadata": {},
   "source": [
    "We compute spatial mean of tasmax over during the few months and pick a smaller time period to examine in the next step."
   ]
  },
  {
   "cell_type": "code",
   "execution_count": null,
   "id": "0564e16a-5c1b-49ff-b7fb-89337e84369c",
   "metadata": {
    "tags": []
   },
   "outputs": [],
   "source": [
    "# Load tasmax data\n",
    "ds_tasmax = barra2.load_barra2_data(\"BARRA-R2\", \"1hr\", \"tasmax\", \n",
    "                                    tstart=tstart, tend=tend,\n",
    "                                    latrange=(latmin_c, latmax_c),\n",
    "                                    lonrange=(lonmin_c, lonmax_c))\n",
    "\n",
    "# Convert to degC and update the units attributes\n",
    "ds_tasmax['tasmax'] = ds_tasmax['tasmax'] - 273.15\n",
    "ds_tasmax['tasmax'] = ds_tasmax['tasmax'].assign_attrs({\"units\": \"degC\"})\n",
    "(NT, NY, NX) = ds_tasmax['tasmax'].shape\n",
    "\n",
    "# Load land sea mask\n",
    "ds_lsm = barra2.load_barra2_data(\"BARRA-R2\", \"fx\", \"sftlf\",\n",
    "                                 latrange=(latmin_c, latmax_c),\n",
    "                                 lonrange=(lonmin_c, lonmax_c))\n",
    "\n",
    "# Generate a 3d land sea mask\n",
    "mask_condition = np.tile(ds_lsm['sftlf'].values, (NT,1,1)) >= 100\n",
    "\n",
    "# Mask the tasmax, retain only data over land\n",
    "da_tasmax_masked = ds_tasmax['tasmax'].where(mask_condition)\n",
    "\n",
    "# Compute spatial mean of tasmax over land\n",
    "da_tasmax_spatial_av = da_tasmax_masked.mean(dim=['lat', 'lon'])"
   ]
  },
  {
   "cell_type": "markdown",
   "id": "ae78de77-ea28-4c2d-98dd-5092e2f218b0",
   "metadata": {
    "execution": {
     "iopub.execute_input": "2024-01-24T05:41:17.766513Z",
     "iopub.status.busy": "2024-01-24T05:41:17.766038Z",
     "iopub.status.idle": "2024-01-24T05:41:17.796519Z",
     "shell.execute_reply": "2024-01-24T05:41:17.794917Z",
     "shell.execute_reply.started": "2024-01-24T05:41:17.766466Z"
    }
   },
   "source": [
    "Plot timeseries of tasmax averaged over Sydney region"
   ]
  },
  {
   "cell_type": "code",
   "execution_count": null,
   "id": "10103357-e618-4ee8-85ea-52740a297bfd",
   "metadata": {
    "tags": []
   },
   "outputs": [],
   "source": [
    "fig = plt.figure(figsize=(10, 3))\n",
    "\n",
    "# \n",
    "t0 = datetime(2017, 2, 7)\n",
    "t1 = datetime(2017, 2, 14)\n",
    "#\n",
    "# First subfigure showing the temperature changes during the whole period\n",
    "# \n",
    "ax = plt.subplot(1, 2, 1)\n",
    "da_tasmax_spatial_av.plot.line()\n",
    "plt.axvline(x=t0, color='r')\n",
    "plt.axvline(x=t1, color='r')\n",
    "\n",
    "#\n",
    "# Second subfigure showing the temperature changes \n",
    "# \n",
    "ax = plt.subplot(1, 2, 2)\n",
    "da_tasmax_spatial_av.sel(time=slice(t0, t1)).plot.line()"
   ]
  },
  {
   "cell_type": "markdown",
   "id": "ad39907b-7607-4cbe-a34e-f259f30f08cb",
   "metadata": {},
   "source": [
    "### 3. Examine the evolution of the first heatwave in February 2017"
   ]
  },
  {
   "cell_type": "markdown",
   "id": "1cfb533a-3e91-453a-b59a-dbbaaf6a91d4",
   "metadata": {},
   "source": [
    "Define domain and time of interests as per above"
   ]
  },
  {
   "cell_type": "code",
   "execution_count": null,
   "id": "43dc33f9-f309-4929-af69-87f45cb4e48a",
   "metadata": {
    "tags": []
   },
   "outputs": [],
   "source": [
    "# Location of Sydney\n",
    "loc = (-33.8688, 151.2093)\n",
    "\n",
    "tstart = 20170208\n",
    "tend = 20170214\n",
    "\n",
    "# Look at a larger 10x10 deg domain centered at Sydney\n",
    "latmin_r = loc[0] - 5\n",
    "latmax_r = loc[0] + 5\n",
    "lonmin_r = loc[1] - 5\n",
    "lonmax_r = loc[1] + 5"
   ]
  },
  {
   "cell_type": "markdown",
   "id": "2eef63e9-ae09-4a94-a46c-c79cebc3b8bf",
   "metadata": {},
   "source": [
    "Load all the data for different variables"
   ]
  },
  {
   "cell_type": "code",
   "execution_count": null,
   "id": "e4272896-da3e-40a3-b095-e1c58aac1e9c",
   "metadata": {
    "tags": []
   },
   "outputs": [],
   "source": [
    "#\n",
    "# Static variables\n",
    "#\n",
    "\n",
    "# Load the orography data\n",
    "ds_orog = barra2.load_barra2_data(\"BARRA-R2\", \"fx\", \"orog\", \n",
    "                                  latrange=(latmin_r, latmax_r),\n",
    "                                  lonrange=(lonmin_r, lonmax_r))\n",
    "# Load land sea mask\n",
    "ds_lsm = barra2.load_barra2_data(\"BARRA-R2\", \"fx\", \"sftlf\",\n",
    "                                 latrange=(latmin_r, latmax_r),\n",
    "                                 lonrange=(lonmin_r, lonmax_r))"
   ]
  },
  {
   "cell_type": "code",
   "execution_count": null,
   "id": "91e7c7ce-5b91-40d1-bdb5-46f66ba879ba",
   "metadata": {
    "tags": []
   },
   "outputs": [],
   "source": [
    "#\n",
    "# Time varying variables\n",
    "#\n",
    "# If unclear what these variables are, use loaddata.whatis(freq, variable_name)\n",
    "# \n",
    "ds_tasmax = barra2.load_barra2_data(\"BARRA-R2\", \"1hr\", \"tasmax\",\n",
    "                                    tstart=tstart, tend=tend,\n",
    "                                    latrange=(latmin_r, latmax_r),\n",
    "                                    lonrange=(lonmin_r, lonmax_r),\n",
    "                                    chunks={'time': 'auto'})\n",
    "ds_uas = barra2.load_barra2_data(\"BARRA-R2\", \"1hr\", \"uas\",\n",
    "                                 tstart=tstart, tend=tend,\n",
    "                                 latrange=(latmin_r, latmax_r),\n",
    "                                 lonrange=(lonmin_r, lonmax_r),\n",
    "                                 chunks={'time': 'auto'})\n",
    "ds_vas = barra2.load_barra2_data(\"BARRA-R2\", \"1hr\", \"vas\",\n",
    "                                 tstart=tstart, tend=tend,\n",
    "                                 latrange=(latmin_r, latmax_r),\n",
    "                                 lonrange=(lonmin_r, lonmax_r),\n",
    "                                 chunks={'time': 'auto'})\n",
    "ds_cll = barra2.load_barra2_data(\"BARRA-R2\", \"1hr\", \"cll\",\n",
    "                                 tstart=tstart, tend=tend,\n",
    "                                 latrange=(latmin_r, latmax_r),\n",
    "                                 lonrange=(lonmin_r, lonmax_r),\n",
    "                                 chunks={'time': 'auto'})"
   ]
  },
  {
   "cell_type": "markdown",
   "id": "232a2182-ceb9-4782-a91c-8b44e6c9eed3",
   "metadata": {},
   "source": [
    "Pre-process the data for plotting\n",
    "\n",
    "Convert temperature to degC"
   ]
  },
  {
   "cell_type": "code",
   "execution_count": null,
   "id": "5d7ab80b-4748-4f10-bed6-44c289c76009",
   "metadata": {
    "tags": []
   },
   "outputs": [],
   "source": [
    "# Convert temperature from K to degC\n",
    "ds_tasmax['tasmax' ] = ds_tasmax['tasmax'] - 273.15\n",
    "ds_tasmax['tasmax'] = ds_tasmax['tasmax'].assign_attrs({\"units\": \"degC\"})\n",
    "\n",
    "(NT, NY, NX) = ds_tasmax['tasmax'].shape"
   ]
  },
  {
   "cell_type": "markdown",
   "id": "826a06e2-2fed-4617-b1e2-bc7b6955e502",
   "metadata": {
    "execution": {
     "iopub.execute_input": "2024-01-24T06:25:35.986918Z",
     "iopub.status.busy": "2024-01-24T06:25:35.986421Z",
     "iopub.status.idle": "2024-01-24T06:25:35.995601Z",
     "shell.execute_reply": "2024-01-24T06:25:35.993769Z",
     "shell.execute_reply.started": "2024-01-24T06:25:35.986873Z"
    }
   },
   "source": [
    "Combine 10 metre wind components, uas and vas, into a single xr.Dataset object so that xarray can plot both as vector field"
   ]
  },
  {
   "cell_type": "code",
   "execution_count": null,
   "id": "2666cdcb-1579-4d5a-b57c-4a4e806ce9ab",
   "metadata": {
    "tags": []
   },
   "outputs": [],
   "source": [
    "# Combine into a single xr.Dataset object\n",
    "ds_uv = xr.merge([ds_uas['uas'], ds_vas['vas']])\n",
    "\n",
    "# Thin the data horizontally for plotting purposes, to avoid having very densed wind vectors\n",
    "ds_uv_subsampled = ds_uv.isel(lat=range(0, NY, 7), lon=range(0, NX, 7)).compute()"
   ]
  },
  {
   "cell_type": "markdown",
   "id": "095f52bd-b353-4d19-a503-4bde3ff5e7a8",
   "metadata": {},
   "source": [
    "Compute spatial mean of tasmax over the smaller subdomain around Sydney"
   ]
  },
  {
   "cell_type": "code",
   "execution_count": null,
   "id": "7251c608-63e7-4fa0-8849-cbf8f80924a1",
   "metadata": {
    "tags": []
   },
   "outputs": [],
   "source": [
    "# Define land sea mask over a small 2x2 degrees bounding box around Sydney\n",
    "latmin_c = loc[0] - 1\n",
    "latmax_c = loc[0] + 1\n",
    "lonmin_c = loc[1] - 1\n",
    "lonmax_c = loc[1] + 1\n",
    "\n",
    "ds_lsm_c = ds_lsm.sel(lat=slice(latmin_c, latmax_c), lon=slice(lonmin_c, lonmax_c))\n",
    "mask_condition = (np.tile(ds_lsm_c['sftlf'], (NT,1,1)) >= 100)\n",
    "\n",
    "# Truncate over a smaller domain focussing around Sydney\n",
    "ds_tasmax_c = ds_tasmax.sel(lat=slice(latmin_c, latmax_c), lon=slice(lonmin_c, lonmax_c))\n",
    "\n",
    "# Apply land sea mask to compute spatial mean over land points only\n",
    "ds_tasmax_masked = ds_tasmax_c['tasmax'].where(mask_condition)\n",
    "\n",
    "da_tasmax_spatial_av = ds_tasmax_masked.mean(dim=['lat', 'lon'])"
   ]
  },
  {
   "cell_type": "markdown",
   "id": "f70c63a9-8636-4727-bee2-3153496f46ea",
   "metadata": {},
   "source": [
    "Plot the heatwave with a series of 3-panels\n",
    "\n",
    "Each 3-panel shows,\n",
    "- Left: Timeseries of tasmax around Sydney\n",
    "- Middle: Spatial maps of tasmax and 10 m wind\n",
    "- Right: Spatial maps of cloud cover"
   ]
  },
  {
   "cell_type": "code",
   "execution_count": null,
   "id": "d38ef9d6-bb96-458e-864d-eb271874dc6d",
   "metadata": {
    "tags": []
   },
   "outputs": [],
   "source": [
    "for time_step in range(0, NT, 3):\n",
    "    # Plotting for every 3 time steps, i.e., 3-hourly snapshots\n",
    "    \n",
    "    # Plotting for this time step\n",
    "    t = ds_tasmax['time'][time_step]\n",
    "    \n",
    "    # Set up the figure object\n",
    "    fig = plt.figure(figsize=(14, 4))\n",
    "    \n",
    "    #\n",
    "    # First subfigure showing the timeseries of spatial mean tasmax\n",
    "    #\n",
    "    ax1 = plt.subplot(1, 3, 1)\n",
    "    da_tasmax_spatial_av.plot.line()\n",
    "    ax1.plot(t.data, da_tasmax_spatial_av.data[time_step], 'or')\n",
    "    # label the time step\n",
    "    ax1.set_title(t.data)\n",
    "    \n",
    "    #\n",
    "    # Second subfigure plotting temperature and wind vectors\n",
    "    #\n",
    "    ax2 = plt.subplot(1, 3, 2)\n",
    "    # Plot tasmax as background\n",
    "    ds_tasmax.sel(time=t, method='nearest')['tasmax'].plot(vmin=0, vmax=40, cmap='RdBu_r', cbar_kwargs={\"shrink\": 0.5})\n",
    "    # Plot the 10m wind vector\n",
    "    ds_uv_subsampled.sel(time=t, method='nearest').plot.quiver(x='lon', y='lat', u='uas', v='vas', color='blue')\n",
    "    # Plot surface altitude as contour\n",
    "    ds_orog['orog'].plot.contour(levels=4, colors='k')\n",
    "    # Indicate where is Sydney\n",
    "    ax2.plot(loc[1], loc[0], 'xr', markersize=15)\n",
    "    \n",
    "    #\n",
    "    # Last subfigure plotting low level cloud\n",
    "    #\n",
    "    ax3 = plt.subplot(1, 3, 3)\n",
    "    # Plot cloud \n",
    "    ds_cll['cll'].sel(time=t, method='nearest').plot(vmin=0, vmax=100, cmap='Greys_r', cbar_kwargs={\"shrink\": 0.5})\n",
    "    # Plot surface altitude as contour\n",
    "    ds_orog['orog'].plot.contour(levels=4, colors='b')\n",
    "    # Indicate where is Sydney\n",
    "    ax3.plot(loc[1], loc[0], 'xr', markersize=15)\n",
    "    \n",
    "    fig.tight_layout()\n",
    "    \n",
    "# this may take a while!"
   ]
  },
  {
   "cell_type": "code",
   "execution_count": null,
   "id": "617d2ffe-94ac-420d-bdb0-0f52a2849aac",
   "metadata": {},
   "outputs": [],
   "source": [
    "client.close()"
   ]
  },
  {
   "cell_type": "markdown",
   "id": "b5c7b1cd-2c27-438f-b859-d87d810950e9",
   "metadata": {
    "execution": {
     "iopub.execute_input": "2024-01-24T06:58:36.003038Z",
     "iopub.status.busy": "2024-01-24T06:58:36.002435Z",
     "iopub.status.idle": "2024-01-24T06:58:36.009959Z",
     "shell.execute_reply": "2024-01-24T06:58:36.008551Z",
     "shell.execute_reply.started": "2024-01-24T06:58:36.002980Z"
    }
   },
   "source": [
    "### 4. Exercise: Consider a different high impact weather event. \n",
    "\n",
    "Examples are,\n",
    "1. Melbourne dust storm on 8 February 1983, \"“everything went black\" as the result of dry, cold front crossing Victoria, preceded by hot, gusty northerly winds. https://webarchive.nla.gov.au/awa/20090330051442/http://pandora.nla.gov.au/pan/96122/20090317-1643/www.bom.gov.au/lam/climate/levelthree/c20thc/storm7.html Consider look at temperature (1hr/tas), wind (1hr/uas, vas) and top-layer soil moisture (1hr/mrsos)\n",
    "\n",
    "2. Sydney hailstorm on 14 April 1999, with most affected areas include south-east suburbs of Kensington, Kingsford, Botany, Mascot, Randwick and Paddington. https://knowledge.aidr.org.au/resources/storm-sydney-1999/ Consider look at precipitation (1hr/pr) and CAPE (1hr/CAPE).\n",
    "\n",
    "3. Extreme rainfall in NSW over 2021/2022 - compound event where a series of mesoscale rainfall occurred sequentially in the same location. http://www.bom.gov.au/climate/current/statements/scs76.pdf?20220525 Consider look at precipitation (1hr/pr), sea-level pressure (1hr/psl), and soil moisture (1hr/mrsos or 3hr/mrsol)\n",
    "\n",
    "4. Black summer bushfire 2019/2020 in SE Australia, during September 2019 to February 2020. http://www.bom.gov.au/climate/current/statements/scs73.pdf Consider look at temperature (1hr/tas), relative humidity (1hr/hurs) and wind (1hr/uas, vas)."
   ]
  },
  {
   "cell_type": "code",
   "execution_count": null,
   "id": "28ace253-fc97-4258-8fc2-e594019a3943",
   "metadata": {},
   "outputs": [],
   "source": []
  }
 ],
 "metadata": {
  "kernelspec": {
   "display_name": "Python 3 (ipykernel)",
   "language": "python",
   "name": "python3"
  },
  "language_info": {
   "codemirror_mode": {
    "name": "ipython",
    "version": 3
   },
   "file_extension": ".py",
   "mimetype": "text/x-python",
   "name": "python",
   "nbconvert_exporter": "python",
   "pygments_lexer": "ipython3",
   "version": "3.10.13"
  }
 },
 "nbformat": 4,
 "nbformat_minor": 5
}
