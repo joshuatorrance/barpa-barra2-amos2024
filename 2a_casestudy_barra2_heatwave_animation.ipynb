{
 "cells": [
  {
   "cell_type": "markdown",
   "id": "c328b8e4-e361-4de6-ab2b-097b66c1a461",
   "metadata": {},
   "source": [
    "# AMOS 2024 - BARRA2 historical Heatwave Case Study (ANIMATED VERSION)\n",
    "\n",
    "##### In this notebook we demonstrate the use of BARRA2 data in the NCI Data Collection to explore the NSW heatwave of January 2017.\n",
    "\n",
    "##### More information on BARRA2 data: https://opus.nci.org.au/pages/viewpage.action?pageId=264241166\n",
    "\n",
    "##### Before using this notebook, users must join ob53 project via, https://my.nci.org.au/mancini/project/ob53/join\n",
    "\n",
    "Reanalyses are useful for users to go back in time to look at how a past weather event had occurred and the driving atmospheric processes.\n",
    "\n",
    "This case study looks at the early 2017 New South Wales heatwaves. \n",
    "\n",
    "A special climate statement reporting on the exceptional heat in southeast Australia can be found http://www.bom.gov.au/climate/current/statements/scs61.pdf\n",
    "\n",
    "In January and February, there were three distinct heatwaves in southeast Australia, with the highest temperatures recorded over 9–12 February 2017. \n",
    "\n",
    "There were 3 heatwaves across January and early February 2017 saw unusually high daily maximum and minimum temperatures for at least three consecutive days over large parts of the country. The first heatwave began around 10 January and continued to 14 January. \n",
    "\n",
    "The pattern of pressure systems - high pressure system over Tasman Sea and an upper level ridge over central and eastern Australia - drew hot air from central part of the continent."
   ]
  },
  {
   "cell_type": "code",
   "execution_count": null,
   "id": "0d887f13-59c8-492e-bbe3-f2ae327a4050",
   "metadata": {
    "tags": []
   },
   "outputs": [],
   "source": [
    "%matplotlib notebook"
   ]
  },
  {
   "cell_type": "code",
   "execution_count": null,
   "id": "531e4c97-67bd-4439-8a84-2998b7923df0",
   "metadata": {
    "tags": []
   },
   "outputs": [],
   "source": [
    "# Import standard python modules\n",
    "import os, sys\n",
    "import dask.distributed\n",
    "import matplotlib.pyplot as plt\n",
    "import numpy as np\n",
    "import xarray as xr\n",
    "xr.set_options(keep_attrs=True)\n",
    "\n",
    "# We will use the LOADDATA module to simplify loading BARRA data\n",
    "notebook_dir = f\"/scratch/om02/{os.environ['USER']}/barpa-barra2-amos2024\"\n",
    "sys.path.append(notebook_dir)\n",
    "import loaddata"
   ]
  },
  {
   "cell_type": "code",
   "execution_count": null,
   "id": "493c6040-283c-4188-bcbc-2d7ba9da3492",
   "metadata": {
    "tags": []
   },
   "outputs": [],
   "source": [
    "# Start a dask client\n",
    "client = dask.distributed.Client()\n",
    "client"
   ]
  },
  {
   "cell_type": "code",
   "execution_count": null,
   "id": "e77ce1cb-8c5c-4890-b50a-eb768f60c057",
   "metadata": {
    "tags": []
   },
   "outputs": [],
   "source": [
    "# In order to highlight the rich data available from BARRA2, this tutorial features animations\n",
    "# The following settings, as well as \"%matplotlib notebook\" at the beginning of the note-book, allow these animations to run\n",
    "from matplotlib.animation import FuncAnimation\n",
    "plt.rcParams[\"animation.html\"] = \"jshtml\"\n",
    "plt.rcParams['figure.dpi'] = 150  \n",
    "plt.rcParams['animation.embed_limit'] = 2**128\n",
    "plt.ioff()"
   ]
  },
  {
   "cell_type": "markdown",
   "id": "89016def-5a14-4cfa-bc11-1146cca8747b",
   "metadata": {
    "execution": {
     "iopub.execute_input": "2024-01-23T03:02:25.845349Z",
     "iopub.status.busy": "2024-01-23T03:02:25.844806Z",
     "iopub.status.idle": "2024-01-23T03:02:25.860577Z",
     "shell.execute_reply": "2024-01-23T03:02:25.858948Z",
     "shell.execute_reply.started": "2024-01-23T03:02:25.845298Z"
    }
   },
   "source": [
    "### Examine the evolution of the first heatwave in February 2017\n",
    "\n",
    "The domain and time period are defined based on AMOS2024_exercise_heatwave_BARRA2.ipynb"
   ]
  },
  {
   "cell_type": "code",
   "execution_count": null,
   "id": "43dc33f9-f309-4929-af69-87f45cb4e48a",
   "metadata": {
    "tags": []
   },
   "outputs": [],
   "source": [
    "tstart = \"20170208\"\n",
    "tend = \"20170214\"\n",
    "\n",
    "loc = (-33.8688, 151.2093)\n",
    "latmin_c = loc[0] - 1\n",
    "latmax_c = loc[0] + 1\n",
    "lonmin_c = loc[1] - 1\n",
    "lonmax_c = loc[1] + 1\n",
    "\n",
    "latmin_r = loc[0] - 5\n",
    "latmax_r = loc[0] + 5\n",
    "lonmin_r = loc[1] - 5\n",
    "lonmax_r = loc[1] + 5"
   ]
  },
  {
   "cell_type": "markdown",
   "id": "598998a3-297d-4daa-9723-f6c729d4f46d",
   "metadata": {},
   "source": [
    "Load all the data for different variables"
   ]
  },
  {
   "cell_type": "code",
   "execution_count": null,
   "id": "e4272896-da3e-40a3-b095-e1c58aac1e9c",
   "metadata": {
    "tags": []
   },
   "outputs": [],
   "source": [
    "#\n",
    "# Static variables\n",
    "#\n",
    "\n",
    "# Load the orography data\n",
    "ds_orog = loaddata.load_barra2_data(\"BARRA-R2\", \"fx\", \"orog\", \n",
    "                                    latrange=(latmin_r, latmax_r),\n",
    "                                    lonrange=(lonmin_r, lonmax_r))\n",
    "# Load land sea mask\n",
    "ds_lsm = loaddata.load_barra2_data(\"BARRA-R2\", \"fx\", \"sftlf\",\n",
    "                                   latrange=(latmin_r, latmax_r),\n",
    "                                   lonrange=(lonmin_r, lonmax_r))"
   ]
  },
  {
   "cell_type": "code",
   "execution_count": null,
   "id": "91e7c7ce-5b91-40d1-bdb5-46f66ba879ba",
   "metadata": {
    "tags": []
   },
   "outputs": [],
   "source": [
    "#\n",
    "# Time varying variables\n",
    "#\n",
    "# If unclear what these variables are, use loaddata.whatis(freq, variable_name)\n",
    "# \n",
    "\n",
    "ds_tasmax = loaddata.load_barra2_data(\"BARRA-R2\", \"1hr\", \"tasmax\",\n",
    "                                      tstart=tstart, tend=tend,\n",
    "                                      latrange=(latmin_r, latmax_r),\n",
    "                                      lonrange=(lonmin_r, lonmax_r),\n",
    "                                      chunks={'time': 'auto'})\n",
    "ds_uas = loaddata.load_barra2_data(\"BARRA-R2\", \"1hr\", \"uas\",\n",
    "                                   tstart=tstart, tend=tend,\n",
    "                                   latrange=(latmin_r, latmax_r),\n",
    "                                   lonrange=(lonmin_r, lonmax_r),\n",
    "                                   chunks={'time': 'auto'})\n",
    "ds_vas = loaddata.load_barra2_data(\"BARRA-R2\", \"1hr\", \"vas\",\n",
    "                                   tstart=tstart, tend=tend,\n",
    "                                   latrange=(latmin_r, latmax_r),\n",
    "                                   lonrange=(lonmin_r, lonmax_r),\n",
    "                                   chunks={'time': 'auto'})\n",
    "ds_cll = loaddata.load_barra2_data(\"BARRA-R2\", \"1hr\", \"cll\",\n",
    "                                   tstart=tstart, tend=tend,\n",
    "                                   latrange=(latmin_r, latmax_r),\n",
    "                                   lonrange=(lonmin_r, lonmax_r),\n",
    "                                   chunks={'time': 'auto'})"
   ]
  },
  {
   "cell_type": "markdown",
   "id": "5a7ed086-a342-4b7f-8b31-e66e9e43f3f1",
   "metadata": {},
   "source": [
    "Pre-process the data for plotting\n",
    "\n",
    "Convert temperature to degC"
   ]
  },
  {
   "cell_type": "code",
   "execution_count": null,
   "id": "8974d059-d467-46ac-aad3-c9320eb5544c",
   "metadata": {
    "tags": []
   },
   "outputs": [],
   "source": [
    "# Convert temperature from K to degC\n",
    "ds_tasmax['tasmax' ] = ds_tasmax['tasmax'] - 273.15\n",
    "ds_tasmax['tasmax'] = ds_tasmax['tasmax'].assign_attrs({\"units\": \"degC\"})\n",
    "\n",
    "(NT, NY, NX) = ds_tasmax['tasmax'].shape"
   ]
  },
  {
   "cell_type": "markdown",
   "id": "5f28989b-278e-4a1f-8165-5c6568a0a40c",
   "metadata": {
    "execution": {
     "iopub.execute_input": "2024-01-24T06:51:28.119279Z",
     "iopub.status.busy": "2024-01-24T06:51:28.118529Z",
     "iopub.status.idle": "2024-01-24T06:51:28.151521Z",
     "shell.execute_reply": "2024-01-24T06:51:28.148261Z",
     "shell.execute_reply.started": "2024-01-24T06:51:28.119219Z"
    }
   },
   "source": [
    "Combine 10 metre wind components, uas and vas, into a single xr.Dataset object so that xarray can plot both as vector field"
   ]
  },
  {
   "cell_type": "code",
   "execution_count": null,
   "id": "2666cdcb-1579-4d5a-b57c-4a4e806ce9ab",
   "metadata": {
    "tags": []
   },
   "outputs": [],
   "source": [
    "ds_uv = xr.merge([ds_uas['uas'], ds_vas['vas']])\n",
    "\n",
    "# Thin the data horizontally for plotting purposes, to avoid having very densed wind vectors\n",
    "ds_uv_subsampled = ds_uv.isel(lat=range(0, NY, 7), lon=range(0, NX, 7)).compute()"
   ]
  },
  {
   "cell_type": "markdown",
   "id": "fb021ebd-5a7c-4fb0-9c83-b32f3153168b",
   "metadata": {},
   "source": [
    "Compute spatial mean of tasmax over the smaller subdomain around Sydney"
   ]
  },
  {
   "cell_type": "code",
   "execution_count": null,
   "id": "7251c608-63e7-4fa0-8849-cbf8f80924a1",
   "metadata": {
    "tags": []
   },
   "outputs": [],
   "source": [
    "# Define land sea mask over a small 2x2 degrees bounding box around Sydney\n",
    "latmin_c = loc[0] - 1\n",
    "latmax_c = loc[0] + 1\n",
    "lonmin_c = loc[1] - 1\n",
    "lonmax_c = loc[1] + 1\n",
    "\n",
    "ds_lsm_c = ds_lsm.sel(lat=slice(latmin_c, latmax_c), lon=slice(lonmin_c, lonmax_c))\n",
    "mask_condition = (np.tile(ds_lsm_c['sftlf'], (NT,1,1)) >= 100)\n",
    "\n",
    "# Truncate over a smaller domain focussing around Sydney\n",
    "ds_tasmax_c = ds_tasmax.sel(lat=slice(latmin_c, latmax_c), lon=slice(lonmin_c, lonmax_c))\n",
    "\n",
    "# Apply land sea mask to compute spatial mean over land points only\n",
    "ds_tasmax_masked = ds_tasmax_c['tasmax'].where(mask_condition)\n",
    "\n",
    "da_tasmax_spatial_av = ds_tasmax_masked.mean(dim=['lat', 'lon'])"
   ]
  },
  {
   "cell_type": "markdown",
   "id": "e43c065d-7a4b-413b-9328-57407f882cf5",
   "metadata": {},
   "source": [
    "Create animation of the heatwave\n",
    "\n",
    "Each 3-panel shows,\n",
    "- Left: Timeseries of tasmax around Sydney\n",
    "- Middle: Spatial maps of tasmax and 10 m wind\n",
    "- Right: Spatial maps of cloud cover"
   ]
  },
  {
   "cell_type": "code",
   "execution_count": null,
   "id": "f8f211d8-9f8a-4419-8e3d-2df4ffd9c5ec",
   "metadata": {
    "tags": []
   },
   "outputs": [],
   "source": [
    "#\n",
    "# Create an animation we first create the initial frame. \n",
    "#\n",
    "\n",
    "# set up the figure\n",
    "fig=plt.figure(figsize=(14,5)) # set up figure\n",
    "\n",
    "#\n",
    "# Populate the initial frame\n",
    "#\n",
    "time_step = 0\n",
    "t = ds_tasmax['time'][time_step]\n",
    "\n",
    "#\n",
    "# First subfigure showing the timeseries of spatial mean tasmax\n",
    "#\n",
    "ax1 = plt.subplot(1, 3, 1)\n",
    "fig1_tasmax = da_tasmax_spatial_av.plot.line()\n",
    "fig1_dot = ax1.plot(t.data, da_tasmax_spatial_av.data[time_step], 'or')\n",
    "#  label the time step\n",
    "ax1.set_title(t.data)\n",
    "\n",
    "#\n",
    "# Second subfigure plotting temperature and wind vectors\n",
    "#\n",
    "ax2 = plt.subplot(1, 3, 2)\n",
    "# Plot tasmax as background\n",
    "fig2_tasmax = ds_tasmax.sel(time=t, method='nearest')['tasmax'].plot(vmin=0, vmax=40, cmap='RdBu_r', cbar_kwargs={\"shrink\": 0.5})\n",
    "# Plot the 10m wind vector\n",
    "fig2_wind = ds_uv_subsampled.sel(time=t, method='nearest').plot.quiver(x='lon', y='lat', u='uas', v='vas', color='blue')\n",
    "# Plot surface altitude as contour\n",
    "fig2_orog = ds_orog['orog'].plot.contour(levels=4, colors='k')\n",
    "# Indicate where is Sydney\n",
    "ax2.plot(loc[1], loc[0], 'xr', markersize=15)\n",
    "\n",
    "#\n",
    "# Last subfigure plotting low level cloud\n",
    "#\n",
    "ax3 = plt.subplot(1, 3, 3)\n",
    "# Plot cloud \n",
    "fig3_cll = ds_cll['cll'].sel(time=t, method='nearest').plot(vmin=0, vmax=100, cmap='Greys_r', cbar_kwargs={\"shrink\": 0.5})\n",
    "# Plot surface altitude as contour\n",
    "fig3_orog = ds_orog['orog'].plot.contour(levels=4, colors='b')\n",
    "# Indicate where is Sydney\n",
    "ax3.plot(loc[1], loc[0], 'xr', markersize=15)\n",
    "    \n",
    "fig.tight_layout()\n",
    "\n",
    "#\n",
    "# Ceate a function that will update the figure to time_step t\n",
    "#\n",
    "def animate(time_step): \n",
    "    # Plotting for this time step\n",
    "    t = ds_tasmax['time'][time_step]\n",
    "    \n",
    "    # Update the red dot indicator\n",
    "    fig1_dot[0].set_xdata(x=t.data)\n",
    "    fig1_dot[0].set_ydata(y=float(da_tasmax_spatial_av.data[time_step]))\n",
    "    \n",
    "    # Update the temperature field\n",
    "    fig2_tasmax.set_array(ds_tasmax.sel(time=t, method='nearest')['tasmax'].values)\n",
    "    \n",
    "    # Update the wind vector field\n",
    "    fig2_wind.set_UVC(ds_uv_subsampled.sel(time=t, method='nearest')['uas'].values, ds_uv_subsampled.sel(time=t, method='nearest')['vas'].values)\n",
    "    \n",
    "    # Update the cloud field\n",
    "    fig3_cll.set_array(ds_cll['cll'].sel(time=t, method='nearest').values)\n",
    "    \n",
    "    ax1.set_title(t.data)\n",
    "    \n",
    "#\n",
    "# Finally, we use FuncAnimation to generate our figure\n",
    "#\n",
    "nstep = len(ds_tasmax['time'])\n",
    "FuncAnimation(fig, animate, frames=nstep, interval=50)  # generate animation\n",
    "\n",
    "# this may take a while!"
   ]
  },
  {
   "cell_type": "markdown",
   "id": "49dfed02-ad51-49a8-8676-f715479183ad",
   "metadata": {
    "execution": {
     "iopub.execute_input": "2024-01-24T23:09:09.755005Z",
     "iopub.status.busy": "2024-01-24T23:09:09.754535Z",
     "iopub.status.idle": "2024-01-24T23:09:09.771647Z",
     "shell.execute_reply": "2024-01-24T23:09:09.769918Z",
     "shell.execute_reply.started": "2024-01-24T23:09:09.754956Z"
    }
   },
   "source": [
    "### 4. Exercise: Consider a different high impact weather event. \n",
    "\n",
    "Examples are,\n",
    "1. Melbourne dust storm on 8 February 1983, \"“everything went black\" as the result of dry, cold front crossing Victoria, preceded by hot, gusty northerly winds. https://webarchive.nla.gov.au/awa/20090330051442/http://pandora.nla.gov.au/pan/96122/20090317-1643/www.bom.gov.au/lam/climate/levelthree/c20thc/storm7.html Consider look at temperature (1hr/tas), wind (1hr/uas, vas) and top-layer soil moisture (1hr/mrsos)\n",
    "\n",
    "2. Sydney hailstorm on 14 April 1999, with most affected areas include south-east suburbs of Kensington, Kingsford, Botany, Mascot, Randwick and Paddington. https://knowledge.aidr.org.au/resources/storm-sydney-1999/ Consider look at precipitation (1hr/pr) and CAPE (1hr/CAPE).\n",
    "\n",
    "3. Extreme rainfall in NSW over 2021/2022 - compound event where a series of mesoscale rainfall occurred sequentially in the same location. http://www.bom.gov.au/climate/current/statements/scs76.pdf?20220525 Consider look at precipitation (1hr/pr), sea-level pressure (1hr/psl), and soil moisture (1hr/mrsos or 3hr/mrsol)\n",
    "\n",
    "4. Black summer bushfire 2019/2020 in SE Australia, during September 2019 to February 2020. http://www.bom.gov.au/climate/current/statements/scs73.pdf Consider look at temperature (1hr/tas), relative humidity (1hr/hurs) and wind (1hr/uas, vas)."
   ]
  },
  {
   "cell_type": "code",
   "execution_count": null,
   "id": "d77951bb-5b20-429e-b3f6-6c9d4e8f5c09",
   "metadata": {},
   "outputs": [],
   "source": []
  }
 ],
 "metadata": {
  "kernelspec": {
   "display_name": "Python 3 (ipykernel)",
   "language": "python",
   "name": "python3"
  },
  "language_info": {
   "codemirror_mode": {
    "name": "ipython",
    "version": 3
   },
   "file_extension": ".py",
   "mimetype": "text/x-python",
   "name": "python",
   "nbconvert_exporter": "python",
   "pygments_lexer": "ipython3",
   "version": "3.9.15"
  }
 },
 "nbformat": 4,
 "nbformat_minor": 5
}
