{
 "cells": [
  {
   "cell_type": "markdown",
   "id": "90e0c48c-613e-4681-bb8a-2499d42e35ea",
   "metadata": {},
   "source": [
    "## WIP BARRA TC Marcus Case Study"
   ]
  },
  {
   "cell_type": "markdown",
   "id": "45602cc3-714b-4333-9d65-189e41a038de",
   "metadata": {},
   "source": [
    "## BARRA2 - Cyclone Marcus 2018-03\n",
    "https://en.wikipedia.org/wiki/Cyclone_Marcus\n",
    "\n",
    "- From 2018-03-14 to 2018-03-27\n",
    "- Category 5\n",
    "- $75 million damage"
   ]
  },
  {
   "cell_type": "markdown",
   "id": "d2a9f04d-d8e0-4954-9eb5-fbafd1810075",
   "metadata": {},
   "source": [
    "#### Load necessary modules"
   ]
  },
  {
   "cell_type": "code",
   "execution_count": 2,
   "id": "3cf57f0d-159c-49cf-8639-f81729a91d51",
   "metadata": {
    "execution": {
     "iopub.execute_input": "2024-01-18T00:36:29.104229Z",
     "iopub.status.busy": "2024-01-18T00:36:29.103645Z",
     "iopub.status.idle": "2024-01-18T00:36:29.274215Z",
     "shell.execute_reply": "2024-01-18T00:36:29.273320Z",
     "shell.execute_reply.started": "2024-01-18T00:36:29.104175Z"
    },
    "tags": []
   },
   "outputs": [],
   "source": [
    "import os\n",
    "from glob import glob\n",
    "import xarray as xr\n",
    "import pandas\n",
    "from matplotlib import pyplot as plt\n",
    "import cartopy.crs\n",
    "from dask.distributed import Client, LocalCluster"
   ]
  },
  {
   "cell_type": "code",
   "execution_count": 3,
   "id": "5e76c8fb-23d3-4177-9982-dcab8dd883a7",
   "metadata": {
    "execution": {
     "iopub.execute_input": "2024-01-18T00:36:37.706257Z",
     "iopub.status.busy": "2024-01-18T00:36:37.705698Z",
     "iopub.status.idle": "2024-01-18T00:36:37.713588Z",
     "shell.execute_reply": "2024-01-18T00:36:37.711721Z",
     "shell.execute_reply.started": "2024-01-18T00:36:37.706206Z"
    }
   },
   "outputs": [],
   "source": [
    "# TODO: Is there a better way to do this?\n",
    "# Jupyter notebooks typically don't run from the file's location\n",
    "# So we need to change the working directory\n",
    "\n",
    "# Change notebook working directory to the location of the notebook\n",
    "# Update the following to the directory containing the notebook file\n",
    "notebook_dir = \"/home/548/jt4085/repos/BARRA2_evaluation/jt/notebooks\"\n",
    "os.chdir(notebook_dir)"
   ]
  },
  {
   "cell_type": "code",
   "execution_count": 4,
   "id": "792d6b2e-d0c2-4689-aeab-866cb11b20de",
   "metadata": {
    "execution": {
     "iopub.execute_input": "2024-01-18T00:36:38.054456Z",
     "iopub.status.busy": "2024-01-18T00:36:38.053226Z",
     "iopub.status.idle": "2024-01-18T00:36:38.083145Z",
     "shell.execute_reply": "2024-01-18T00:36:38.082037Z",
     "shell.execute_reply.started": "2024-01-18T00:36:38.054389Z"
    }
   },
   "outputs": [],
   "source": [
    "from loaddata import load_dataset"
   ]
  },
  {
   "cell_type": "code",
   "execution_count": 5,
   "id": "b1af20f1-ec80-4fc6-bdc9-2c38e6183d5a",
   "metadata": {
    "execution": {
     "iopub.execute_input": "2024-01-18T00:36:38.316683Z",
     "iopub.status.busy": "2024-01-18T00:36:38.316273Z",
     "iopub.status.idle": "2024-01-18T00:36:40.196085Z",
     "shell.execute_reply": "2024-01-18T00:36:40.195220Z",
     "shell.execute_reply.started": "2024-01-18T00:36:38.316646Z"
    }
   },
   "outputs": [
    {
     "data": {
      "text/html": [
       "<div>\n",
       "    <div style=\"width: 24px; height: 24px; background-color: #e1e1e1; border: 3px solid #9D9D9D; border-radius: 5px; position: absolute;\"> </div>\n",
       "    <div style=\"margin-left: 48px;\">\n",
       "        <h3 style=\"margin-bottom: 0px;\">Client</h3>\n",
       "        <p style=\"color: #9D9D9D; margin-bottom: 0px;\">Client-a53552d2-b599-11ee-bd24-000007b7fe80</p>\n",
       "        <table style=\"width: 100%; text-align: left;\">\n",
       "\n",
       "        <tr>\n",
       "        \n",
       "            <td style=\"text-align: left;\"><strong>Connection method:</strong> Cluster object</td>\n",
       "            <td style=\"text-align: left;\"><strong>Cluster type:</strong> distributed.LocalCluster</td>\n",
       "        \n",
       "        </tr>\n",
       "\n",
       "        \n",
       "            <tr>\n",
       "                <td style=\"text-align: left;\">\n",
       "                    <strong>Dashboard: </strong> <a href=\"/proxy/8787/status\" target=\"_blank\">/proxy/8787/status</a>\n",
       "                </td>\n",
       "                <td style=\"text-align: left;\"></td>\n",
       "            </tr>\n",
       "        \n",
       "\n",
       "        </table>\n",
       "\n",
       "        \n",
       "            <button style=\"margin-bottom: 12px;\" data-commandlinker-command=\"dask:populate-and-launch-layout\" data-commandlinker-args='{\"url\": \"/proxy/8787/status\" }'>\n",
       "                Launch dashboard in JupyterLab\n",
       "            </button>\n",
       "        \n",
       "\n",
       "        \n",
       "            <details>\n",
       "            <summary style=\"margin-bottom: 20px;\"><h3 style=\"display: inline;\">Cluster Info</h3></summary>\n",
       "            <div class=\"jp-RenderedHTMLCommon jp-RenderedHTML jp-mod-trusted jp-OutputArea-output\">\n",
       "    <div style=\"width: 24px; height: 24px; background-color: #e1e1e1; border: 3px solid #9D9D9D; border-radius: 5px; position: absolute;\">\n",
       "    </div>\n",
       "    <div style=\"margin-left: 48px;\">\n",
       "        <h3 style=\"margin-bottom: 0px; margin-top: 0px;\">LocalCluster</h3>\n",
       "        <p style=\"color: #9D9D9D; margin-bottom: 0px;\">86cd1bb8</p>\n",
       "        <table style=\"width: 100%; text-align: left;\">\n",
       "            <tr>\n",
       "                <td style=\"text-align: left;\">\n",
       "                    <strong>Dashboard:</strong> <a href=\"/proxy/8787/status\" target=\"_blank\">/proxy/8787/status</a>\n",
       "                </td>\n",
       "                <td style=\"text-align: left;\">\n",
       "                    <strong>Workers:</strong> 2\n",
       "                </td>\n",
       "            </tr>\n",
       "            <tr>\n",
       "                <td style=\"text-align: left;\">\n",
       "                    <strong>Total threads:</strong> 2\n",
       "                </td>\n",
       "                <td style=\"text-align: left;\">\n",
       "                    <strong>Total memory:</strong> 9.00 GiB\n",
       "                </td>\n",
       "            </tr>\n",
       "            \n",
       "            <tr>\n",
       "    <td style=\"text-align: left;\"><strong>Status:</strong> running</td>\n",
       "    <td style=\"text-align: left;\"><strong>Using processes:</strong> True</td>\n",
       "</tr>\n",
       "\n",
       "            \n",
       "        </table>\n",
       "\n",
       "        <details>\n",
       "            <summary style=\"margin-bottom: 20px;\">\n",
       "                <h3 style=\"display: inline;\">Scheduler Info</h3>\n",
       "            </summary>\n",
       "\n",
       "            <div style=\"\">\n",
       "    <div>\n",
       "        <div style=\"width: 24px; height: 24px; background-color: #FFF7E5; border: 3px solid #FF6132; border-radius: 5px; position: absolute;\"> </div>\n",
       "        <div style=\"margin-left: 48px;\">\n",
       "            <h3 style=\"margin-bottom: 0px;\">Scheduler</h3>\n",
       "            <p style=\"color: #9D9D9D; margin-bottom: 0px;\">Scheduler-a68616f0-9358-4038-ae64-bb1cb06d8790</p>\n",
       "            <table style=\"width: 100%; text-align: left;\">\n",
       "                <tr>\n",
       "                    <td style=\"text-align: left;\">\n",
       "                        <strong>Comm:</strong> tcp://127.0.0.1:34075\n",
       "                    </td>\n",
       "                    <td style=\"text-align: left;\">\n",
       "                        <strong>Workers:</strong> 2\n",
       "                    </td>\n",
       "                </tr>\n",
       "                <tr>\n",
       "                    <td style=\"text-align: left;\">\n",
       "                        <strong>Dashboard:</strong> <a href=\"/proxy/8787/status\" target=\"_blank\">/proxy/8787/status</a>\n",
       "                    </td>\n",
       "                    <td style=\"text-align: left;\">\n",
       "                        <strong>Total threads:</strong> 2\n",
       "                    </td>\n",
       "                </tr>\n",
       "                <tr>\n",
       "                    <td style=\"text-align: left;\">\n",
       "                        <strong>Started:</strong> Just now\n",
       "                    </td>\n",
       "                    <td style=\"text-align: left;\">\n",
       "                        <strong>Total memory:</strong> 9.00 GiB\n",
       "                    </td>\n",
       "                </tr>\n",
       "            </table>\n",
       "        </div>\n",
       "    </div>\n",
       "\n",
       "    <details style=\"margin-left: 48px;\">\n",
       "        <summary style=\"margin-bottom: 20px;\">\n",
       "            <h3 style=\"display: inline;\">Workers</h3>\n",
       "        </summary>\n",
       "\n",
       "        \n",
       "        <div style=\"margin-bottom: 20px;\">\n",
       "            <div style=\"width: 24px; height: 24px; background-color: #DBF5FF; border: 3px solid #4CC9FF; border-radius: 5px; position: absolute;\"> </div>\n",
       "            <div style=\"margin-left: 48px;\">\n",
       "            <details>\n",
       "                <summary>\n",
       "                    <h4 style=\"margin-bottom: 0px; display: inline;\">Worker: 0</h4>\n",
       "                </summary>\n",
       "                <table style=\"width: 100%; text-align: left;\">\n",
       "                    <tr>\n",
       "                        <td style=\"text-align: left;\">\n",
       "                            <strong>Comm: </strong> tcp://127.0.0.1:36645\n",
       "                        </td>\n",
       "                        <td style=\"text-align: left;\">\n",
       "                            <strong>Total threads: </strong> 1\n",
       "                        </td>\n",
       "                    </tr>\n",
       "                    <tr>\n",
       "                        <td style=\"text-align: left;\">\n",
       "                            <strong>Dashboard: </strong> <a href=\"/proxy/41211/status\" target=\"_blank\">/proxy/41211/status</a>\n",
       "                        </td>\n",
       "                        <td style=\"text-align: left;\">\n",
       "                            <strong>Memory: </strong> 4.50 GiB\n",
       "                        </td>\n",
       "                    </tr>\n",
       "                    <tr>\n",
       "                        <td style=\"text-align: left;\">\n",
       "                            <strong>Nanny: </strong> tcp://127.0.0.1:45257\n",
       "                        </td>\n",
       "                        <td style=\"text-align: left;\"></td>\n",
       "                    </tr>\n",
       "                    <tr>\n",
       "                        <td colspan=\"2\" style=\"text-align: left;\">\n",
       "                            <strong>Local directory: </strong> /jobfs/106459187.gadi-pbs/dask-worker-space/worker-2r7donkh\n",
       "                        </td>\n",
       "                    </tr>\n",
       "\n",
       "                    \n",
       "\n",
       "                    \n",
       "\n",
       "                </table>\n",
       "            </details>\n",
       "            </div>\n",
       "        </div>\n",
       "        \n",
       "        <div style=\"margin-bottom: 20px;\">\n",
       "            <div style=\"width: 24px; height: 24px; background-color: #DBF5FF; border: 3px solid #4CC9FF; border-radius: 5px; position: absolute;\"> </div>\n",
       "            <div style=\"margin-left: 48px;\">\n",
       "            <details>\n",
       "                <summary>\n",
       "                    <h4 style=\"margin-bottom: 0px; display: inline;\">Worker: 1</h4>\n",
       "                </summary>\n",
       "                <table style=\"width: 100%; text-align: left;\">\n",
       "                    <tr>\n",
       "                        <td style=\"text-align: left;\">\n",
       "                            <strong>Comm: </strong> tcp://127.0.0.1:41829\n",
       "                        </td>\n",
       "                        <td style=\"text-align: left;\">\n",
       "                            <strong>Total threads: </strong> 1\n",
       "                        </td>\n",
       "                    </tr>\n",
       "                    <tr>\n",
       "                        <td style=\"text-align: left;\">\n",
       "                            <strong>Dashboard: </strong> <a href=\"/proxy/36553/status\" target=\"_blank\">/proxy/36553/status</a>\n",
       "                        </td>\n",
       "                        <td style=\"text-align: left;\">\n",
       "                            <strong>Memory: </strong> 4.50 GiB\n",
       "                        </td>\n",
       "                    </tr>\n",
       "                    <tr>\n",
       "                        <td style=\"text-align: left;\">\n",
       "                            <strong>Nanny: </strong> tcp://127.0.0.1:38027\n",
       "                        </td>\n",
       "                        <td style=\"text-align: left;\"></td>\n",
       "                    </tr>\n",
       "                    <tr>\n",
       "                        <td colspan=\"2\" style=\"text-align: left;\">\n",
       "                            <strong>Local directory: </strong> /jobfs/106459187.gadi-pbs/dask-worker-space/worker-wcgwzbgb\n",
       "                        </td>\n",
       "                    </tr>\n",
       "\n",
       "                    \n",
       "\n",
       "                    \n",
       "\n",
       "                </table>\n",
       "            </details>\n",
       "            </div>\n",
       "        </div>\n",
       "        \n",
       "\n",
       "    </details>\n",
       "</div>\n",
       "\n",
       "        </details>\n",
       "    </div>\n",
       "</div>\n",
       "            </details>\n",
       "        \n",
       "\n",
       "    </div>\n",
       "</div>"
      ],
      "text/plain": [
       "<Client: 'tcp://127.0.0.1:34075' processes=2 threads=2, memory=9.00 GiB>"
      ]
     },
     "execution_count": 5,
     "metadata": {},
     "output_type": "execute_result"
    }
   ],
   "source": [
    "# Let's explictly load dask so we can check progress\n",
    "# Copy and past the dashboard link/path from this cell's output\n",
    "# to the Dask tab on the left.\n",
    "cluster = LocalCluster()\n",
    "client = Client(cluster)\n",
    "client"
   ]
  },
  {
   "cell_type": "markdown",
   "id": "8191b683-c1c3-4cc5-98f5-e0f187c8bd49",
   "metadata": {},
   "source": [
    "#### Load BARRA2 data for TC Marcus"
   ]
  },
  {
   "cell_type": "code",
   "execution_count": 6,
   "id": "097d5ce1-f618-40f4-a5f4-028b00b0eb92",
   "metadata": {
    "execution": {
     "iopub.execute_input": "2024-01-18T00:36:40.198576Z",
     "iopub.status.busy": "2024-01-18T00:36:40.198228Z",
     "iopub.status.idle": "2024-01-18T00:36:42.957033Z",
     "shell.execute_reply": "2024-01-18T00:36:42.956176Z",
     "shell.execute_reply.started": "2024-01-18T00:36:40.198535Z"
    }
   },
   "outputs": [],
   "source": [
    "ds_marcus_u = load_dataset('uas', '1hr', '201803', 'barra')\n",
    "ds_marcus_v = load_dataset('vas', '1hr', '201803', 'barra')\n",
    "ds_marcus_p = load_dataset('ps', '1hr', '201803', 'barra')\n",
    "ds_marcus_precip = load_dataset('pr', '1hr', '201803', 'barra')"
   ]
  },
  {
   "cell_type": "markdown",
   "id": "05c938c0-6e39-4671-b57e-8fb6d69af6f5",
   "metadata": {},
   "source": [
    "#### Examine the datasets"
   ]
  },
  {
   "cell_type": "code",
   "execution_count": null,
   "id": "b5b431e3-12e6-419c-a6d4-f22108649880",
   "metadata": {
    "execution": {
     "iopub.execute_input": "2024-01-18T00:36:42.958086Z",
     "iopub.status.busy": "2024-01-18T00:36:42.957831Z"
    }
   },
   "outputs": [
    {
     "name": "stderr",
     "output_type": "stream",
     "text": [
      "distributed.nanny.memory - WARNING - Worker tcp://127.0.0.1:36645 (pid=2686309) exceeded 95% memory budget. Restarting...\n",
      "distributed.nanny - WARNING - Restarting worker\n",
      "distributed.worker.memory - WARNING - Worker is at 94% memory usage. Pausing worker.  Process memory: 4.24 GiB -- Worker memory limit: 4.50 GiB\n",
      "distributed.worker.memory - WARNING - Unmanaged memory use is high. This may indicate a memory leak or the memory may not be released to the OS; see https://distributed.dask.org/en/latest/worker-memory.html#memory-not-released-back-to-the-os for more information. -- Unmanaged memory: 4.40 GiB -- Worker memory limit: 4.50 GiB\n",
      "distributed.nanny.memory - WARNING - Worker tcp://127.0.0.1:41829 (pid=2686311) exceeded 95% memory budget. Restarting...\n",
      "distributed.nanny - WARNING - Restarting worker\n"
     ]
    }
   ],
   "source": [
    "# Let's look at max and min wind speed over the period\n",
    "vas_max = ds_marcus_v['vas'].max(dim=['lat', 'lon']).compute()\n",
    "vas_min = ds_marcus_v['vas'].min(dim=['lat', 'lon']).compute()\n",
    "uas_max = ds_marcus_u['uas'].max(dim=['lat', 'lon']).compute()\n",
    "uas_min = ds_marcus_u['uas'].min(dim=['lat', 'lon']).compute()\n",
    "\n",
    "plt.figure()\n",
    "vas_max.plot()\n",
    "vas_min.plot()\n",
    "\n",
    "plt.figure()\n",
    "uas_max.plot()\n",
    "uas_min.plot()"
   ]
  },
  {
   "cell_type": "code",
   "execution_count": null,
   "id": "cd77e475-91f3-480e-b753-41ff73ab2048",
   "metadata": {},
   "outputs": [],
   "source": [
    "# Grab the time for the peak wind speed\n",
    "max_t = vas_max.idxmax(dim='time')\n",
    "\n",
    "# Let's grab the index of the peak wind speed too\n",
    "max_t_index = vas_max.argmax(dim='time')\n",
    "\n",
    "max_t"
   ]
  },
  {
   "cell_type": "code",
   "execution_count": null,
   "id": "fcdca948-be6f-49dc-9488-0ce6223bfcf6",
   "metadata": {},
   "outputs": [],
   "source": [
    "# TODO: Is there a better way to do this?\n",
    "# Jupyter notebooks typically don't run from the file's location\n",
    "# So we need to change the working directory\n",
    "\n",
    "# Change notebook working directory to the location of the notebook\n",
    "# Update the following to the directory containing the notebook file\n",
    "notebook_dir = \"/home/548/jt4085/repos/BARRA2_evaluation/jt/notebooks\"\n",
    "os.chdir(notebook_dir)"
   ]
  },
  {
   "cell_type": "code",
   "execution_count": null,
   "id": "572f2108-37fa-4423-8f55-6d5dd5aff4ef",
   "metadata": {},
   "outputs": [],
   "source": [
    "# Plot the wind field for this time\n",
    "plt.figure()\n",
    "ds_marcus_u.sel(time=max_t)['uas'].plot()\n",
    "plt.figure()\n",
    "ds_marcus_v.sel(time=max_t)['vas'].plot()"
   ]
  },
  {
   "cell_type": "code",
   "execution_count": null,
   "id": "6498d646-f485-4c47-87e1-3c9d3fc03cb1",
   "metadata": {},
   "outputs": [],
   "source": [
    "## Pressure\n",
    "# Plot pressure as a contour map\n",
    "ds_marcus_p.sel(time=max_t)['ps'].plot.contourf(levels=20, color='k')\n",
    "\n",
    "## Precip\n",
    "# Plot precip as a colour map\n",
    "# Precipitation is an accumulated field, use the index instead of the value for the peak time\n",
    "ds_marcus_precip.isel(time=max_t_index)['pr'].plot(cmap='Blues')\n",
    "\n",
    "## Winds\n",
    "# Merge u and v\n",
    "ds_marcus_uv = xr.merge([ds_marcus_u, ds_marcus_v])\n",
    "\n",
    "# Select the peak wind time and downsample the point density\n",
    "downsampling_factor = 15\n",
    "downsampled_peak_ds_marcus_uv = ds_marcus_uv.sel(time=max_t, lon=slice(None, None, downsampling_factor), \n",
    "                                                 lat=slice(None, None, downsampling_factor))\n",
    "\n",
    "downsampled_peak_ds_marcus_uv.plot.quiver(x='lon', y='lat', u='uas', v='vas')\n",
    "\n",
    "plt.show()\n",
    "# TODO: Make the below figure not ghastly"
   ]
  },
  {
   "cell_type": "code",
   "execution_count": null,
   "id": "b75dba39-46a1-4617-bc18-9d7e09272ca7",
   "metadata": {},
   "outputs": [],
   "source": [
    "contour_plot = ds_marcus_p.sel(time=max_t)['ps'].plot.contour(levels=10, colors=['k'])\n",
    "plt.gca().clabel(contour_plot, inline=True, fontsize=6)"
   ]
  },
  {
   "cell_type": "code",
   "execution_count": null,
   "id": "da399198-eb0f-49c6-9f4e-a95e8f6d92ec",
   "metadata": {},
   "outputs": [],
   "source": [
    "%matplotlib notebook"
   ]
  },
  {
   "cell_type": "code",
   "execution_count": null,
   "id": "c75a1a9c-784c-45a1-9b15-f08b01842c48",
   "metadata": {},
   "outputs": [],
   "source": [
    "import os\n",
    "from glob import glob\n",
    "import xarray as xr\n",
    "import pandas\n",
    "import cartopy.crs as ccrs\n",
    "from dask.distributed import Client, LocalCluster\n",
    "from matplotlib import pyplot as plt\n",
    "from matplotlib.widgets import Slider\n",
    "import matplotlib.animation\n",
    "plt.rcParams[\"animation.html\"] = \"jshtml\"\n",
    "plt.rcParams['figure.dpi'] = 150  \n",
    "plt.ioff()"
   ]
  },
  {
   "cell_type": "code",
   "execution_count": null,
   "id": "b2a5d435-7b38-465a-8696-6b45a00a015d",
   "metadata": {},
   "outputs": [],
   "source": [
    "# Let's see if we can animate the figure\n",
    "# Copied from Emma's example\n",
    "plt.rcParams[\"animation.html\"] = \"jshtml\"\n",
    "plt.rcParams[\"figure.dpi\"] = 150\n",
    "plt.ioff()\n",
    "\n",
    "delta = 12"
   ]
  },
  {
   "cell_type": "code",
   "execution_count": null,
   "id": "84def800-a6b1-4ee7-b771-ad8aee902777",
   "metadata": {},
   "outputs": [],
   "source": [
    "# Initial figure\n",
    "fig = plt.figure(figsize=(12, 6))\n",
    "centre_lon = ds_marcus_p['lon'].mean().values\n",
    "projection = cartopy.crs.PlateCarree(centre_lon)\n",
    "ax = plt.subplot(111, projection=projection)\n",
    "\n",
    "t_start_index = 0\n",
    "t_end_index = len(ds_marcus_p['time']) - 1\n",
    "t_end_index = 10\n",
    "\n",
    "## Pressure\n",
    "# Plot pressure as a contour map\n",
    "p_contour = ds_marcus_p.isel(time=t_start_index)['ps'].plot.contourf(levels=20, transform=cartopy.crs.PlateCarree(), subplot_kws={\"projection\": projection})\n",
    "contour_plot_ref = [p_contour]\n",
    "\n",
    "## Precip\n",
    "# Plot precip as a colour map\n",
    "# Precipitation is an accumulated field, use the index instead of the value for the peak time\n",
    "p_color = ds_marcus_precip.isel(time=t_start_index)['pr'].plot(cmap='Blues', transform=cartopy.crs.PlateCarree(), subplot_kws={\"projection\": projection})\n",
    "\n",
    "## Winds\n",
    "# Merge u and v\n",
    "ds_marcus_uv = xr.merge([ds_marcus_u, ds_marcus_v])\n",
    "\n",
    "# Select the peak wind time and downsample the point density\n",
    "downsampling_factor = 15\n",
    "downsampled_peak_ds_marcus_uv = ds_marcus_uv.isel(time=t_start_index).sel(lon=slice(None, None, downsampling_factor),\n",
    "                                                 lat=slice(None, None, downsampling_factor))\n",
    "\n",
    "p_quiver = downsampled_peak_ds_marcus_uv.plot.quiver(x='lon', y='lat', u='uas', v='vas', transform=cartopy.crs.PlateCarree(), subplot_kws={\"projection\": projection})\n",
    "\n",
    "def animate(t_index):\n",
    "    # Contours need to be removed and redrawn\n",
    "    #contour_plot_ref[0].get_paths().clear()\n",
    "\n",
    "    # Remove the color bar too\n",
    "    #contour_plot_ref[0].colorbar.remove()\n",
    "    \n",
    "    #p_contour = ds_marcus_p.isel(time=t_start_index)['ps'].plot.contourf(levels=20, transform=cartopy.crs.PlateCarree(), subplot_kws={\"projection\": projection})\n",
    "    #contour_plot_ref[0] = p_contour\n",
    "\n",
    "    # Update the color plot's array\n",
    "    p_color.set_array(ds_marcus_precip.isel(time=t_index)['pr'].values)\n",
    "\n",
    "    # Update the quiver plots uv\n",
    "    downsampled_peak_ds_marcus_uv = ds_marcus_uv.isel(time=t_index).sel(lon=slice(None, None, downsampling_factor),\n",
    "                                                 lat=slice(None, None, downsampling_factor))\n",
    "    p_quiver.set_UVC(downsampled_peak_ds_marcus_uv['uas'].values, downsampled_peak_ds_marcus_uv['vas'].values)\n",
    "    \n",
    "\n",
    "import matplotlib.animation\n",
    "matplotlib.animation.FuncAnimation(fig, animate, frames=t_end_index - t_start_index )#ds_marcus_p['ps'].time.shape[0]-1)"
   ]
  },
  {
   "cell_type": "code",
   "execution_count": null,
   "id": "0d980e3a-cd9f-418d-bf3b-62d04d123e62",
   "metadata": {},
   "outputs": [],
   "source": []
  },
  {
   "cell_type": "code",
   "execution_count": 57,
   "id": "aa529281-fcfd-4497-a1cf-d3486befc82b",
   "metadata": {},
   "outputs": [],
   "source": [
    "# Can we track the cyclone?\n",
    "vars = [\"psl\"]\n",
    "\n",
    "file_list = []\n",
    "for var in vars:\n",
    "    # Build a string to use with glob\n",
    "    glob_str = os.path.join(barra_r2_root_path, time_resolution, var, \"*\", f\"*{date}.nc\")\n",
    "    file_list += sorted(glob(glob_str))"
   ]
  },
  {
   "cell_type": "code",
   "execution_count": 58,
   "id": "26b7dfa6-451b-46e5-8587-9cfe077d0a58",
   "metadata": {},
   "outputs": [],
   "source": [
    "ds_psl = xr.open_mfdataset(file_list, parallel=True)"
   ]
  },
  {
   "cell_type": "code",
   "execution_count": 100,
   "id": "74973983-4b02-4785-956c-f205a072345d",
   "metadata": {},
   "outputs": [],
   "source": [
    "min_indexes = []\n",
    "for t in ds_psl['time']:\n",
    "    ds_psl_t = ds_psl.sel(time=t)\n",
    "\n",
    "    argmin = ds_psl_t['psl'].compute().argmin(dim=['lat', 'lon'])\n",
    "    min_lat = ds_psl['lat'][argmin['lat']]\n",
    "    min_lon = ds_psl['lon'][argmin['lon']]\n",
    "    min_indexes.append((min_lat, min_lon))"
   ]
  },
  {
   "cell_type": "code",
   "execution_count": 103,
   "id": "1f443bc5-262f-4e8c-b462-0f665729c00d",
   "metadata": {},
   "outputs": [
    {
     "data": {
      "image/png": "[encoded data removed]",
      "text/plain": [
       "<Figure size 640x480 with 2 Axes>"
      ]
     },
     "metadata": {},
     "output_type": "display_data"
    }
   ],
   "source": [
    "# Let's plot MSLP mins\n",
    "ds_psl.sel(time=\"2018-03-22 01:00\")['psl'].plot()\n",
    "\n",
    "for lat, lon in min_indexes:\n",
    "    plt.plot(lon, lat, 'r,')"
   ]
  },
  {
   "cell_type": "code",
   "execution_count": null,
   "id": "16dca790-2a50-4821-be57-e09e0b0de46e",
   "metadata": {},
   "outputs": [],
   "source": [
    "# What does the vorticity look like?\n",
    "mpcalc.vorticity(ds['uas'], ds['vas'])"
   ]
  },
  {
   "cell_type": "code",
   "execution_count": null,
   "id": "bf38cbff-2dc5-4dd2-85ac-4ef9c8fb4841",
   "metadata": {},
   "outputs": [],
   "source": []
  }
 ],
 "metadata": {
  "kernelspec": {
   "display_name": "Python [conda env:datasci] *",
   "language": "python",
   "name": "conda-env-datasci-py"
  },
  "language_info": {
   "codemirror_mode": {
    "name": "ipython",
    "version": 3
   },
   "file_extension": ".py",
   "mimetype": "text/x-python",
   "name": "python",
   "nbconvert_exporter": "python",
   "pygments_lexer": "ipython3",
   "version": "3.9.15"
  }
 },
 "nbformat": 4,
 "nbformat_minor": 5
}
