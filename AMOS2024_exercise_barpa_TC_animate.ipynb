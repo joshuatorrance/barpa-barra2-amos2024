{
 "cells": [
  {
   "cell_type": "markdown",
   "id": "8f5c28c7-f38f-445b-bf59-c6d8c563d203",
   "metadata": {
    "tags": []
   },
   "source": [
    "# BARPA-R Future Tropical Low Case Study"
   ]
  },
  {
   "cell_type": "markdown",
   "id": "af2ddf26-331b-44e9-8bde-395d51572c5a",
   "metadata": {},
   "source": [
    "In a warmer climate, moist thermodynamics imply that the atmosphere will be able to carry more moisture.\n",
    "\n",
    "This means that rainfall events have the potential to become more intense in the future.\n",
    "\n",
    "While CMIP6 models are able to simulate the increasing levels of atmospheric moisture, downscaled projections are needed to see the effect on small-scale weather systems that global models do not resolve.\n",
    "\n",
    "This case-study looks at BARPA-R downscaling of EC-Earth3. Of all models downscaled with BARPA-R, EC-Earth3 shows the largest increase in atmospheric moisture.\n",
    "\n",
    "We have identified two tropical low events from BARPA-R-EC-Earth3 with similar tracks paths and minimum pressures. \n",
    "\n",
    "Follow the tutorial to see how the rainfall and atmospheric moisture vary between the two lows.\n"
   ]
  },
  {
   "cell_type": "markdown",
   "id": "744e909e-79ce-45c0-94e2-be0a6a11a2e8",
   "metadata": {
    "tags": []
   },
   "source": [
    "## Setup Notebook"
   ]
  },
  {
   "cell_type": "code",
   "execution_count": null,
   "id": "3fe6ed2d-dec3-404c-82f3-4f606f361b6e",
   "metadata": {
    "tags": []
   },
   "outputs": [],
   "source": [
    "%matplotlib notebook\n",
    "# this is needed for animations"
   ]
  },
  {
   "cell_type": "code",
   "execution_count": null,
   "id": "016df7f1-19a6-4946-8635-0b8dfa4db963",
   "metadata": {
    "tags": []
   },
   "outputs": [],
   "source": [
    "# First lets import some libraries\n",
    "import os, sys\n",
    "os.chdir(\"/g/data/tp28/dev/eh6215/barpa-barra2-amos2024/\")\n",
    "import loaddata\n",
    "from glob import glob\n",
    "import xarray as xr\n",
    "import pandas as pd\n",
    "import cartopy.crs as ccrs\n",
    "from dask.distributed import Client, LocalCluster\n",
    "from matplotlib import pyplot as plt\n",
    "from datetime import datetime \n",
    "from  matplotlib import cm"
   ]
  },
  {
   "cell_type": "code",
   "execution_count": null,
   "id": "bc18ade0-8b43-4c28-846b-08df93b823f7",
   "metadata": {
    "tags": []
   },
   "outputs": [],
   "source": [
    "# Set up Dask\n",
    "cluster = LocalCluster()\n",
    "client = Client(cluster)\n",
    "client"
   ]
  },
  {
   "cell_type": "code",
   "execution_count": null,
   "id": "6647a404-669b-48ae-9496-0aa600d05277",
   "metadata": {
    "tags": []
   },
   "outputs": [],
   "source": [
    "# In order to highlight the rich data available from BARPA, this tutorial features animations\n",
    "# The following settings, as well as \"%matplotlib notebook\" at the beginning of the note-book, allow these animations to run\n",
    "\n",
    "\n",
    "from matplotlib.widgets import Slider\n",
    "import matplotlib.animation\n",
    "plt.rcParams[\"animation.html\"] = \"jshtml\"\n",
    "plt.rcParams['figure.dpi'] = 150  \n",
    "#plt.rcParams[\"animation.embed_limit\"] = 60   # set this to a number larger than the default (20 MB) to generate larger animations\n",
    "plt.ioff()"
   ]
  },
  {
   "cell_type": "markdown",
   "id": "e2d92dc0-88da-4e17-889f-ae4c994f53e2",
   "metadata": {
    "tags": []
   },
   "source": [
    "## Load data"
   ]
  },
  {
   "cell_type": "code",
   "execution_count": null,
   "id": "84498131-42a1-428c-86ab-33c90dfb408a",
   "metadata": {
    "tags": []
   },
   "outputs": [],
   "source": [
    "# Now, let's load our first tropical low\n",
    "# Remember this is a synthetic, model-generated track, it didn't occur in the real world!\n",
    "# the variables we're loading are:\n",
    "#   psl: sea level pressure\n",
    "#   pr: precipitation\n",
    "#   prw: atmospheric total column water vapour\n",
    "dict_hist_vars = {}\n",
    "\n",
    "# dict_hist_vars # historical\n",
    "# dict_proj_vars # projections\n",
    "for var in ['psl','pr','prw']:\n",
    "    dict_hist_vars[var] = loaddata.load_barpa_data(\"BARPA-R\",\n",
    "                         \"EC-Earth3\",\n",
    "                         \"historical\",\n",
    "                         \"1hr\",\n",
    "                         var,\n",
    "                         tstart = datetime(2009,1,5),\n",
    "                         tend=datetime(2009,1,16),\n",
    "                         lonrange = (105,160),\n",
    "                         latrange = (-45,-7))[var]\n",
    "    \n",
    "    \n",
    "# Now, let's change the precipitation units into something more understandable\n",
    "dict_hist_vars['pr'][:] = dict_hist_vars['pr'][:]*3600\n",
    "dict_hist_vars['pr'].attrs['units']='mm hr-1'"
   ]
  },
  {
   "cell_type": "code",
   "execution_count": null,
   "id": "889c5c9b-1fdc-49a7-81b3-d7031bba6555",
   "metadata": {
    "tags": []
   },
   "outputs": [],
   "source": [
    "# let's check these are what I say they are, and their units:\n",
    "for var in dict_hist_vars: \n",
    "    print(f\"{var:3s}: {dict_hist_vars[var].long_name:25s} ({dict_hist_vars[var].attrs['units']})\")\n"
   ]
  },
  {
   "cell_type": "code",
   "execution_count": null,
   "id": "91810008-1335-4cd8-930f-8c8eeb6a0f8e",
   "metadata": {
    "tags": []
   },
   "outputs": [],
   "source": [
    "# Now we load the second low\n",
    "\n",
    "dict_proj_vars = {}\n",
    "for var in ['psl','pr','prw']:\n",
    "    dict_proj_vars[var] = loaddata.load_barpa_data(\"BARPA-R\",\n",
    "                         \"EC-Earth3\",\n",
    "                         \"ssp370\",\n",
    "                         \"1hr\",\n",
    "                         var,\n",
    "                         tstart = datetime(2088,12,25),\n",
    "                         tend=datetime(2089,1,6),\n",
    "                         lonrange = (105,160),\n",
    "                         latrange = (-45,-7))[var]\n",
    "    \n",
    "# Now, let's change the precipitation units into something more understandable\n",
    "dict_proj_vars['pr'][:] = dict_proj_vars['pr'][:]*3600\n",
    "dict_proj_vars['pr'].attrs['units']='mm hr-1'\n"
   ]
  },
  {
   "cell_type": "markdown",
   "id": "1eca5cc8-e94f-42cd-be10-8874608231b3",
   "metadata": {
    "tags": []
   },
   "source": [
    "## Preprocess data"
   ]
  },
  {
   "cell_type": "code",
   "execution_count": null,
   "id": "81688296-7233-4ca2-899c-c7064ef0cea2",
   "metadata": {
    "tags": []
   },
   "outputs": [],
   "source": [
    "# to start with, we'll look at 6-hourly data. You can increase the frequency later (by rerunning the whole notebook) if you'd lke\n",
    "\n",
    "for var in dict_hist_vars:\n",
    "    dict_hist_vars[var] = dict_hist_vars[var].resample(time='6h').mean()\n",
    "    dict_proj_vars[var] = dict_proj_vars[var].resample(time='6h').mean()"
   ]
  },
  {
   "cell_type": "markdown",
   "id": "86c1d5ee-b1a1-4eea-9747-750e5860267a",
   "metadata": {
    "execution": {
     "iopub.execute_input": "2024-01-24T00:09:14.599096Z",
     "iopub.status.busy": "2024-01-24T00:09:14.598402Z",
     "iopub.status.idle": "2024-01-24T00:09:30.218061Z",
     "shell.execute_reply": "2024-01-24T00:09:30.216629Z",
     "shell.execute_reply.started": "2024-01-24T00:09:14.599051Z"
    },
    "tags": []
   },
   "source": [
    "#### Now let's find those lows!\n",
    "\n",
    "\n",
    "In this example, the systems we're interested in are the lowest-pressure \n",
    "objects in the box 100 E-150 E, 30S - 0S. \n",
    "So we can just find the minimum over space at each timestep to create the track paths"
   ]
  },
  {
   "cell_type": "code",
   "execution_count": null,
   "id": "20cc70a1-eb6c-4793-a67b-a1f894d32073",
   "metadata": {
    "tags": []
   },
   "outputs": [],
   "source": [
    "track_longitude, track_latitude = [0,0],[0,0]\n",
    "for i,da in enumerate([dict_hist_vars,dict_proj_vars]):\n",
    "    # subset to a box surrounding the lows\n",
    "    subsetted_pressure = da['psl'].sel(lon=slice(100,150),lat=slice(-30,0))\n",
    "    # extract latitude and longitudes\n",
    "    subsetted_lon = subsetted_pressure.lon\n",
    "    subsetted_lat = subsetted_pressure.lat\n",
    "    # find location of minimum pressure at each time\n",
    "    track_xindex = subsetted_pressure.min('lat').argmin('lon')\n",
    "    track_yindex = subsetted_pressure.min('lon').argmin('lat')\n",
    "    # find coordinates of minimum pressures\n",
    "    track_longitude[i] = subsetted_lon[track_xindex]\n",
    "    track_latitude[i] = subsetted_lat[track_yindex]"
   ]
  },
  {
   "cell_type": "markdown",
   "id": "16642a43-5846-40a1-82fc-ac8cbcfb8972",
   "metadata": {},
   "source": [
    "To start off, we'll create an animation of total column water, with precipitation and the track path drawn on top.\n",
    "Precip will be masked at rates of <2mm/hour so the prw is visible underneath. \n"
   ]
  },
  {
   "cell_type": "markdown",
   "id": "377b0d83-08df-41d6-b115-cf1f2ef4e216",
   "metadata": {
    "tags": []
   },
   "source": [
    "## Animation"
   ]
  },
  {
   "cell_type": "code",
   "execution_count": null,
   "id": "33cf9f67-2434-43c2-8521-a7f7fe51bd3a",
   "metadata": {
    "tags": []
   },
   "outputs": [],
   "source": [
    "\n",
    "# to create an animation we first create the initial frame. \n",
    "\n",
    "# set up the figure\n",
    "fig=plt.figure(figsize=(12,6)) # set up figure\n",
    "\n",
    "# empty objects for the animated components\n",
    "ax,pcolor1,pcolor2,dot = [0,0],[0,0],[0,0],[0,0]\n",
    "\n",
    "# populate the initial frame\n",
    "for i,da in enumerate([dict_hist_vars,dict_proj_vars]):\n",
    "    ax[i]=plt.subplot(1,2,i+1,projection=ccrs.PlateCarree()) #set up axes with geometric projection\n",
    "    # plot initial hourly precip rate, with sec-> hour conversion rate\n",
    "    pcolor1[i] = (da['prw'][0]).plot(vmin=0,\n",
    "                                     vmax=100,\n",
    "                                     cmap=cm.get_cmap('Blues',10),\n",
    "                                     add_colorbar=False) \n",
    "    # plot initial hourly precip rate, with sec-> hour conversion rate\n",
    "    pcolor2[i] = (da['pr'][0].where(da['pr'][0]>2)).plot(vmin=0,\n",
    "                                                         vmax=50,\n",
    "                                                         cmap=cm.get_cmap('turbo',10),\n",
    "                                                         add_colorbar=False) \n",
    "    # draw coastlines\n",
    "    ax[i].coastlines() \n",
    "    ax[i].set_xlim(105,160)\n",
    "    ax[i].set_ylim(-45,-7)\n",
    "    # set timestamp as axes label\n",
    "    ax[i].set_title(da['prw'].time[0].values.__str__()[:16]) \n",
    "    # plot full cyclone track\n",
    "    ax[i].plot(track_longitude[i][:-1],track_latitude[i][:-1],c='magenta') \n",
    "    # plot initial cyclone location\n",
    "    dot[i] = plt.plot(track_longitude[0],track_latitude[0],'o',c='magenta',ms=4) \n",
    "\n",
    "    \n",
    "fig.subplots_adjust(top=0.95, bottom=0.3)\n",
    "cax1 = fig.add_axes([0.3,0.1,0.4,0.05])\n",
    "fig.colorbar(pcolor1[i],\n",
    "             cax=cax1,\n",
    "             orientation='horizontal')\n",
    "cax1.set_xlabel(\"Total Column Water, kg/m2\")\n",
    "cax2 = fig.add_axes([0.3,0.25,0.4,0.05])\n",
    "fig.colorbar(pcolor2[i],\n",
    "             cax=cax2,\n",
    "             orientation='horizontal')\n",
    "cax2.set_xlabel(\"Precipitation, mm/hr\")\n",
    "#fig.tight_layout()\n",
    "\n",
    "## todo\n",
    "\n",
    "# second, we create a function that will update the figure to time-step t\n",
    "def animate(t): \n",
    "    for i,da in enumerate([dict_hist_vars,dict_proj_vars]):\n",
    "        # update prw to time t\n",
    "        pcolor1[i].set_array(da['prw'][t].values.ravel()) \n",
    "        # update rainfall to time t\n",
    "        pcolor2[i].set_array(da['pr'][t].where(da['pr'][t]>2).values.ravel()) \n",
    "        # update cyclone lon to time t\n",
    "        dot[i][0].set_xdata([track_longitude[i][t]]) \n",
    "        dot[i][0].set_ydata([track_latitude[i][t]]) \n",
    "        # update cyclone lat to time t\n",
    "        ax[i].set_title(da['prw'].time[t].values.__str__()[:16]) # update title\n",
    "\n",
    "# finally, we use FuncAnimation to generate our figure\n",
    "timesteps = min(len(dict_hist_vars['pr'].time), len(dict_proj_vars['pr'].time))\n",
    "matplotlib.animation.FuncAnimation(fig, animate, frames=timesteps)  # generate animation\n",
    "\n",
    "\n",
    "# this may take a while!"
   ]
  },
  {
   "cell_type": "markdown",
   "id": "32735239-10d6-4c5d-a286-bf15fd34d967",
   "metadata": {},
   "source": [
    "Congrats, you've completed the first runthrough of the notebook. Now, get creative. You might like to:\n",
    "\n",
    "Simple extensions:\n",
    "* Increase the update frequency from 6 hours \n",
    "* Look at some other variables: consider\n",
    "    * maximum wind gust (wsgsmax)\n",
    "    * Temperature (tas)\n",
    "    * Clouds (cll/clm/clt, or rlut is a good proxy)\n",
    "    * 6-hourly Winds on pressure levels (uaXXX, vaXXX, where XXX is the pressure level)\n",
    "* Generate some still figures that summarise your key findings from this example\n",
    " \n",
    "More complicated extensions:\n",
    "* Try to add wind barbs, contours or streamfunctions\n",
    "* Adapt to look at the 3D structure of the system\n",
    "* Compute dewpoint temperatures, or moist static energy"
   ]
  },
  {
   "cell_type": "code",
   "execution_count": null,
   "id": "0bd2909f-f2b9-4ff6-a4a8-db7e17810c45",
   "metadata": {
    "tags": []
   },
   "outputs": [],
   "source": [
    "# A hint:\n",
    "# Jupyter currently doesn't allow both animations and still figures to be displayed in the same notebook\n",
    "# the following work around is needed to display stills:\n",
    "\n",
    "\n",
    "fig = plt.figure(figsize=(3,3))\n",
    "plt.plot([1,2,3],[4,5,6],'.')\n",
    "\n",
    "def animate(t):\n",
    "    return\n",
    "    \n",
    "matplotlib.animation.FuncAnimation(fig, animate, frames=1)  # generate animation\n",
    "\n",
    "# alternatively, copy to a new notebook and remove the line\n",
    "# %matplotlib notebook"
   ]
  },
  {
   "cell_type": "code",
   "execution_count": null,
   "id": "f43db10f-66e8-4e62-97cf-06378a478643",
   "metadata": {},
   "outputs": [],
   "source": []
  }
 ],
 "metadata": {
  "kernelspec": {
   "display_name": "Python 3 (ipykernel)",
   "language": "python",
   "name": "python3"
  },
  "language_info": {
   "codemirror_mode": {
    "name": "ipython",
    "version": 3
   },
   "file_extension": ".py",
   "mimetype": "text/x-python",
   "name": "python",
   "nbconvert_exporter": "python",
   "pygments_lexer": "ipython3",
   "version": "3.9.15"
  }
 },
 "nbformat": 4,
 "nbformat_minor": 5
}
